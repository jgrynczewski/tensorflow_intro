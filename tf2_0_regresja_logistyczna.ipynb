{
 "cells": [
  {
   "cell_type": "markdown",
   "metadata": {
    "id": "Icv-kXx_Slb5"
   },
   "source": [
    "## Wysokopoziomowy interfejs Keras"
   ]
  },
  {
   "cell_type": "markdown",
   "metadata": {},
   "source": [
    "### Importy"
   ]
  },
  {
   "cell_type": "code",
   "execution_count": null,
   "metadata": {},
   "outputs": [],
   "source": [
    "import numpy as np\n",
    "import matplotlib.pyplot as plt\n",
    "\n",
    "import tensorflow as tf\n",
    "print(f\"TensorFlow version: {tf.__version__}\")"
   ]
  },
  {
   "cell_type": "markdown",
   "metadata": {},
   "source": [
    "### Hiperparametry modelu"
   ]
  },
  {
   "cell_type": "code",
   "execution_count": null,
   "metadata": {},
   "outputs": [],
   "source": [
    "# MNIST dataset params\n",
    "num_classes = 10\n",
    "num_features = 784  # obrazki mają rozmiar 28 x 28 = 784\n",
    "\n",
    "# Training parameters\n",
    "learning_rate = 0.01\n",
    "training_steps = 1000\n",
    "batch_size = 256\n",
    "display_step = 50"
   ]
  },
  {
   "cell_type": "markdown",
   "metadata": {},
   "source": [
    "## E**T**L (Extract Transform Load)"
   ]
  },
  {
   "cell_type": "markdown",
   "metadata": {},
   "source": [
    "## E z ETL"
   ]
  },
  {
   "cell_type": "markdown",
   "metadata": {},
   "source": [
    "### [Zestaw danych MNIST](http://yann.lecun.com/exdb/mnist/)"
   ]
  },
  {
   "cell_type": "code",
   "execution_count": null,
   "metadata": {},
   "outputs": [],
   "source": [
    "mnist = tf.keras.datasets.mnist\n",
    "\n",
    "(x_train, y_train), (x_test, y_test) = mnist.load_data()\n",
    "\n",
    "print(f\"Dane treningowe: {len(x_train)} próbek\")\n",
    "print(f\"Dane testowe: {len(x_test)} próbek\")"
   ]
  },
  {
   "cell_type": "code",
   "execution_count": null,
   "metadata": {},
   "outputs": [],
   "source": [
    "print(x_train[1])  # obrazki 24 x 24"
   ]
  },
  {
   "cell_type": "code",
   "execution_count": null,
   "metadata": {},
   "outputs": [],
   "source": [
    "fig = plt.figure\n",
    "plt.imshow(x_train[1], cmap='gray')\n",
    "plt.show()"
   ]
  },
  {
   "cell_type": "markdown",
   "metadata": {},
   "source": [
    "## T z ETL"
   ]
  },
  {
   "cell_type": "code",
   "execution_count": null,
   "metadata": {},
   "outputs": [],
   "source": [
    "# Konwersja do float32\n",
    "x_train, x_test = np.array(x_train, np.float32), np.array(x_test, np.float32)\n",
    "\n",
    "# Spłaszczenie sygnału (28*28 = 784 cech)\n",
    "x_train, x_test = x_train.reshape([-1, num_features]), x_test.reshape([-1, num_features])\n",
    "\n",
    "# Normalizacja sygnału (z zakresu [0, 255] do zakresu [0.0, 1.0])\n",
    "x_train, x_test = x_train / 255., x_test / 255."
   ]
  },
  {
   "cell_type": "code",
   "execution_count": null,
   "metadata": {},
   "outputs": [],
   "source": [
    "# Do daleszej obróbki danych używamy modułu tf.data\n",
    "\n",
    "train_data = tf.data.Dataset.from_tensor_slices((x_train, y_train))  # zrobienie obiektów tf.Tensor z numpy array\n",
    "train_data = train_data.repeat().shuffle(5000).batch(batch_size).prefetch(1)  # przetasowanie z powtórzeniami (regularyzacja) \n",
    "# i zrobienie batchy"
   ]
  },
  {
   "cell_type": "code",
   "execution_count": null,
   "metadata": {},
   "outputs": [],
   "source": [
    "# Przygotowujemy miejsce na parametry modelu\n",
    "\n",
    "# Kształt wag to [784, 10] - 28*28 cech i 10 klas\n",
    "W = tf.Variable(tf.ones([num_features, num_classes]), name='weight')\n",
    "\n",
    "# Kształt bias to [10] - 10 klas\n",
    "b = tf.Variable(tf.zeros([num_classes]), name='bias')"
   ]
  },
  {
   "cell_type": "markdown",
   "metadata": {},
   "source": [
    "## Definicja modelu"
   ]
  },
  {
   "cell_type": "code",
   "execution_count": null,
   "metadata": {},
   "outputs": [],
   "source": [
    "# model - regresja logistyczna (model liniowy przepuszczony przez znormalizowaną funkcję wykładniczą - softmax)\n",
    "def logistic_regression(x):\n",
    "  return tf.nn.softmax(tf.matmul(x, W) + b)"
   ]
  },
  {
   "cell_type": "code",
   "execution_count": null,
   "metadata": {},
   "outputs": [],
   "source": [
    "# Funkcja kosztu - entropia krzyżowa\n",
    "def categorical_cross_entropy(y_pred, y_true):\n",
    "  \n",
    "  # One-hot encoding\n",
    "  y_true = tf.one_hot(y_true, depth=num_classes)\n",
    "  \n",
    "  # Clip - ograniczenie wartości, żeby uniknąć błędu log(0)\n",
    "  y_pred = tf.clip_by_value(y_pred, 1e-9, 1.)\n",
    "  \n",
    "  # wzór na entropie krzyżową\n",
    "  return tf.reduce_mean(-tf.reduce_sum(y_true * tf.math.log(y_pred), 1))"
   ]
  },
  {
   "cell_type": "code",
   "execution_count": null,
   "metadata": {},
   "outputs": [],
   "source": [
    "# Metryka - dokładność\n",
    "def accuracy(y_pred, y_true):\n",
    "  \n",
    "  # Zliczamy poprawne predykcje\n",
    "  correct_prediction = tf.equal(tf.argmax(y_pred, 1), tf.cast(y_true, tf.int64))  # argmax - indeks największego \n",
    "  # elementu wzdłuż wybranej osi (czyli tutaj, tego którego prawdopodbieństwo jest największe)\n",
    "  \n",
    "  return tf.reduce_mean(tf.cast(correct_prediction, tf.float32))"
   ]
  },
  {
   "cell_type": "code",
   "execution_count": null,
   "metadata": {},
   "outputs": [],
   "source": [
    "# Optymalizator - Stochastic Gradient Descent\n",
    "optimizer = tf.optimizers.SGD(learning_rate)\n",
    "\n",
    "def run_optimization(x, y):\n",
    "  with tf.GradientTape() as g:\n",
    "    pred = logistic_regression(x)\n",
    "    loss = categorical_cross_entropy(pred, y)\n",
    "  \n",
    "  gradients = g.gradient(loss, [W, b])\n",
    "  optimizer.apply_gradients(zip(gradients, [W, b]))"
   ]
  },
  {
   "cell_type": "markdown",
   "metadata": {},
   "source": [
    "## Trenowanie modelu"
   ]
  },
  {
   "cell_type": "code",
   "execution_count": null,
   "metadata": {},
   "outputs": [],
   "source": [
    "for step, (batch_x, batch_y) in enumerate(train_data.take(training_steps), 1):\n",
    "  run_optimization(batch_x, batch_y)\n",
    "    \n",
    "  if step % display_step == 0:\n",
    "    pred = logistic_regression(batch_x)\n",
    "    loss = categorical_cross_entropy(pred, batch_y)\n",
    "    acc = accuracy(pred, batch_y)\n",
    "    print(\"step: %i, loss: %f, accuracy: %f\" % (step, loss, acc))"
   ]
  },
  {
   "cell_type": "code",
   "execution_count": null,
   "metadata": {},
   "outputs": [],
   "source": [
    "pred = logistic_regression(x_test)\n",
    "print(\"Test Accuracy: %f\" % accuracy(pred, y_test))"
   ]
  },
  {
   "cell_type": "code",
   "execution_count": null,
   "metadata": {
    "id": "sQkcv7ohLAyf"
   },
   "outputs": [],
   "source": [
    "# Popatrzmy na 5 pierwszych wyników\n",
    "n_images = 5\n",
    "test_images = x_test[:n_images]\n",
    "predictions = logistic_regression(test_images)\n",
    "\n",
    "for i in range(n_images):\n",
    "  plt.imshow(np.reshape(test_images[i], [28, 28]), cmap='gray')\n",
    "  plt.show()\n",
    "  print(\"Model prediction: %i\" % np.argmax(predictions.numpy()[i]))"
   ]
  }
 ],
 "metadata": {
  "colab": {
   "collapsed_sections": [],
   "name": "tf2.0 - Keras.ipynb",
   "provenance": []
  },
  "kernelspec": {
   "display_name": "Python 3 (ipykernel)",
   "language": "python",
   "name": "python3"
  },
  "language_info": {
   "codemirror_mode": {
    "name": "ipython",
    "version": 3
   },
   "file_extension": ".py",
   "mimetype": "text/x-python",
   "name": "python",
   "nbconvert_exporter": "python",
   "pygments_lexer": "ipython3",
   "version": "3.11.1"
  }
 },
 "nbformat": 4,
 "nbformat_minor": 1
}
