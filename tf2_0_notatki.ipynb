{
  "nbformat": 4,
  "nbformat_minor": 0,
  "metadata": {
    "colab": {
      "name": "tf2.0-notatki.ipyn",
      "provenance": [],
      "collapsed_sections": []
    },
    "kernelspec": {
      "name": "python3",
      "display_name": "Python 3"
    },
    "language_info": {
      "name": "python"
    },
    "accelerator": "GPU"
  },
  "cells": [
    {
      "cell_type": "markdown",
      "source": [
        "# Biblioteka TensorFlow"
      ],
      "metadata": {
        "id": "Xm8qpbpCY8D4"
      }
    },
    {
      "cell_type": "markdown",
      "source": [
        "### Importowanie biblioteki"
      ],
      "metadata": {
        "id": "-YkCDNRTZCc_"
      }
    },
    {
      "cell_type": "code",
      "source": [
        "#!pip install tensorflow==1.15.0\n",
        "import tensorflow as tf\n",
        "\n",
        "print(tf.__version__)"
      ],
      "metadata": {
        "id": "PsSKSOVcvYp0"
      },
      "execution_count": null,
      "outputs": []
    },
    {
      "cell_type": "markdown",
      "source": [
        "Dwie podstawowe klasy biblioteki tensorflow reprezentujące tenosory to:\n",
        "* tf.Tensor (tensor niemodyfikowalny)\n",
        "* tf.Variable (tensor modyfikowalny)"
      ],
      "metadata": {
        "id": "CS5GxPje1g-I"
      }
    },
    {
      "cell_type": "markdown",
      "source": [
        "## tf.Tensor"
      ],
      "metadata": {
        "id": "9W0pFtqS1wJe"
      }
    },
    {
      "cell_type": "markdown",
      "source": [
        "###Tworzenie obiektów klasy tf.Tensor"
      ],
      "metadata": {
        "id": "zuxrnaUEZFWn"
      }
    },
    {
      "cell_type": "code",
      "source": [
        "# Obiekt klasy tf.Tensor możemy tworzyć za pomocą funkcji tf.constant\n",
        "x = tf.constant([[1, 2, 3, 4 ,5]]) # parametrem przekazanym do funkcji constant\n",
        "# może być int, float, string, boolean oraz dowolny typ iterowalny (np. tablica \n",
        "# numpy, instancja klasy tf.Tensor, generator range)\n",
        "\n",
        "print(x)"
      ],
      "metadata": {
        "id": "gy_Upz37ZPuq"
      },
      "execution_count": null,
      "outputs": []
    },
    {
      "cell_type": "code",
      "source": [
        "# Obiekt klasy tf.Tensor składający się wyłącznie z jedynek możemy stworzyć za \n",
        "# pomocą funkcji tf.ones\n",
        "y = tf.ones((1,5))\n",
        "\n",
        "print(y)"
      ],
      "metadata": {
        "id": "XDGwwR24ZDUf"
      },
      "execution_count": null,
      "outputs": []
    },
    {
      "cell_type": "code",
      "source": [
        "# Obiekt klasy tf.Tensor składający się wyłącznie z jedynek o typie i kształcie \n",
        "# identycznych jak zadany tensor możemy stworzyć za pomocą funkcji tf.ones_like\n",
        "z = tf.ones_like(x)\n",
        "\n",
        "print(z)  "
      ],
      "metadata": {
        "id": "2T8BHQ7XZJWH"
      },
      "execution_count": null,
      "outputs": []
    },
    {
      "cell_type": "code",
      "source": [
        "# Obiekt klasy tf.Tensor składający się wyłącznie z zer możemy stworzyć za \n",
        "# pomocą funkcji tf.zeros\n",
        "p = tf.zeros((1,5))\n",
        "\n",
        "print(p)"
      ],
      "metadata": {
        "id": "sV2eXCsD0YcK"
      },
      "execution_count": null,
      "outputs": []
    },
    {
      "cell_type": "code",
      "source": [
        "# Obiekt klasy tf.Tensor składający się wyłącznie z zer o typie i kształcie \n",
        "# identycznych jak zadany tensor możemy stworzyć za pomocą funkcji tf.zeros_like\n",
        "q = tf.zeros_like(x)\n",
        "\n",
        "print(q)"
      ],
      "metadata": {
        "id": "621ejKgN0ZKw"
      },
      "execution_count": null,
      "outputs": []
    },
    {
      "cell_type": "code",
      "source": [
        "# Obiekt klasy tf.Tensor składający się ze wskazanego zakresu liczb możemy \n",
        "# stworzyć za pomocą funkcji tf.range\n",
        "t = tf.range(start=1, limit=6, delta=1)\n",
        "\n",
        "print(t)"
      ],
      "metadata": {
        "id": "p8QIx9lR0Zeg"
      },
      "execution_count": null,
      "outputs": []
    },
    {
      "cell_type": "code",
      "source": [
        "# Obiekt klasy tf.Tensor o zadanym kształcie wypełniony elementami zadanej, \n",
        "# jednakowej wartości możemy stworzyć za pomocą funkcji tf.fill\n",
        "r = tf.fill([3,3], 7)\n",
        "\n",
        "print(r)"
      ],
      "metadata": {
        "id": "DLssLBJW0ZvZ"
      },
      "execution_count": null,
      "outputs": []
    },
    {
      "cell_type": "code",
      "source": [
        "# Obiekt klasy tf.Tensor o zadanym kształcie wypełniony losowymi wartościami\n",
        "# pochodzącymi z rozkładu normalnego o zadanych średniej i odchyleniu standardowym\n",
        "# możemy stworzyć za pomocą funkcji tf.random.normal\n",
        "s = tf.random.normal(\n",
        "    shape=[2, 2],\n",
        "    mean=0.0,\n",
        "    stddev=1.0,\n",
        "    dtype=tf.dtypes.float32,\n",
        ")\n",
        "\n",
        "print(s)"
      ],
      "metadata": {
        "id": "7xnmeE7j0iP3"
      },
      "execution_count": null,
      "outputs": []
    },
    {
      "cell_type": "markdown",
      "source": [
        "### Charakterystyki tensorów"
      ],
      "metadata": {
        "id": "4HIjYeyHcWWl"
      }
    },
    {
      "cell_type": "code",
      "source": [
        "# Tworzymy tensor\n",
        "\n",
        "matrix = [\n",
        "           [\n",
        "            [0, 1, 2],\n",
        "            [3, 4, 5]\n",
        "           ],\n",
        "           [\n",
        "            [6, 7, 8],\n",
        "            [9, 10, 11]\n",
        "           ]\n",
        "]\n",
        "\n",
        "tensor = tf.constant(matrix)\n",
        "print(tensor)"
      ],
      "metadata": {
        "id": "91y8LqKhcahs"
      },
      "execution_count": null,
      "outputs": []
    },
    {
      "cell_type": "markdown",
      "source": [
        "\n",
        "\n",
        "1.     Rząd tensora\n",
        "\n"
      ],
      "metadata": {
        "id": "3OabdWwceMMT"
      }
    },
    {
      "cell_type": "code",
      "source": [
        "# rząd tensora możemy sprawdzić za pomocą atrybutu ndim\n",
        "print(f\"Tensor jest rzędu {tensor.ndim}\")\n",
        "\n",
        "# oraz za pomocą funkcji tf.rank(). Funkcja zwraca tensor rzędu 0 z informacją\n",
        "# o rzędzie przekazanego tensora\n",
        "print(tf.rank(tensor))"
      ],
      "metadata": {
        "id": "1zHtMHarc5qU"
      },
      "execution_count": null,
      "outputs": []
    },
    {
      "cell_type": "code",
      "source": [
        "# tensor rzędu 0\n",
        "d0 = tf.constant(2)\n",
        "print(d0.ndim)"
      ],
      "metadata": {
        "id": "IpKxPx_I5e6j"
      },
      "execution_count": null,
      "outputs": []
    },
    {
      "cell_type": "code",
      "source": [
        "# tensor rzędu 1\n",
        "d1 = tf.constant([2, 2, 2])\n",
        "print(d1.ndim)"
      ],
      "metadata": {
        "id": "0376LWf37esK"
      },
      "execution_count": null,
      "outputs": []
    },
    {
      "cell_type": "code",
      "source": [
        "# tensor rzędu 2\n",
        "d2 = tf.constant([[2, 2, 2], [2, 2, 2]])\n",
        "print(d2.ndim)"
      ],
      "metadata": {
        "id": "typd5aaQ7fD5"
      },
      "execution_count": null,
      "outputs": []
    },
    {
      "cell_type": "code",
      "source": [
        "# tensor rzędu 2\n",
        "d2 = tf.ones((4, 4))  # rząd - liczba współrzędnych potrzebna do opisania \n",
        "# kształtu tensora\n",
        "print(d2.ndim)"
      ],
      "metadata": {
        "id": "oygUKSGj5i6L"
      },
      "execution_count": null,
      "outputs": []
    },
    {
      "cell_type": "markdown",
      "source": [
        "2.    Kształt tensora"
      ],
      "metadata": {
        "id": "1OlLGyPoeWNL"
      }
    },
    {
      "cell_type": "code",
      "source": [
        "# kształt tensora możemy sprawdzić za pomocą atrybutu shape\n",
        "print(f\"Kształt tensora to {tensor.shape}\")\n",
        "\n",
        "# oraz za pomocą funkcji tf.shape(). Funkcja zwraca tensor rzędu 1 z informacją\n",
        "# o kształcie przekazanego tensora\n",
        "print(tf.shape(tensor))"
      ],
      "metadata": {
        "id": "QZeNSeUQdHnL"
      },
      "execution_count": null,
      "outputs": []
    },
    {
      "cell_type": "markdown",
      "source": [
        "3.    Rozmiar tensora"
      ],
      "metadata": {
        "id": "1h1MXAJkeZWa"
      }
    },
    {
      "cell_type": "code",
      "source": [
        "# rozmiar tensora możemy sprawdzić za pomocą funkcji tf.size(). Funkcja zwraca \n",
        "# tensor rzędu 0 z informacją o rozmiarze przekazanego tensora\n",
        "print(tf.size(tensor))"
      ],
      "metadata": {
        "id": "HAi4Uv4adibL"
      },
      "execution_count": null,
      "outputs": []
    },
    {
      "cell_type": "markdown",
      "source": [
        "4.    Typ tensora"
      ],
      "metadata": {
        "id": "3BMUL1l8ecYF"
      }
    },
    {
      "cell_type": "code",
      "source": [
        "# Typ elementów tensora możemy sprawdzić za pomocą atrybutu dtype\n",
        "print(f\"Typ elementów tensora to {tensor.dtype}\")"
      ],
      "metadata": {
        "id": "4oRoV0NTeCDk"
      },
      "execution_count": null,
      "outputs": []
    },
    {
      "cell_type": "code",
      "source": [
        "# Dostępne atrybuty i metody obiektu tf.Tensor\n",
        "dir(tensor)"
      ],
      "metadata": {
        "id": "69VQiqJt6Lq2"
      },
      "execution_count": null,
      "outputs": []
    },
    {
      "cell_type": "code",
      "source": [
        "# Wartość przechowywaną w obiekcie tf.Tensor można otrzymać za pomocą metody numpy()\n",
        "print(f\"{tensor.numpy()}\")"
      ],
      "metadata": {
        "id": "GdhT9AovRp7B"
      },
      "execution_count": null,
      "outputs": []
    },
    {
      "cell_type": "code",
      "source": [
        "# Urządzenie na którym obiekt tf.Tensor jest liczony możemy sprawdzić za pomocą atrybutu device\n",
        "print(f\"{tensor.device}\")"
      ],
      "metadata": {
        "id": "1NtWrOfR4iFv"
      },
      "execution_count": null,
      "outputs": []
    },
    {
      "cell_type": "markdown",
      "source": [
        "Podczas tworzenia obiektu klasy tf.Tensor można zadeklarować jego kształt lub typ"
      ],
      "metadata": {
        "id": "vSipnjakPz77"
      }
    },
    {
      "cell_type": "code",
      "source": [
        "# bezpośrednie deklarowanie kształtu\n",
        "a0 = tf.constant(3, shape=[2, 3])\n",
        "\n",
        "print(a0)"
      ],
      "metadata": {
        "id": "5CGnIXwRQbPy"
      },
      "execution_count": null,
      "outputs": []
    },
    {
      "cell_type": "code",
      "source": [
        "# bezpośrednie deklarowanie kształtu\n",
        "a1 = tf.constant([1, 2, 3, 4], shape=[2, 2])\n",
        "\n",
        "print(a1)"
      ],
      "metadata": {
        "id": "0lMGVHR42oMm"
      },
      "execution_count": null,
      "outputs": []
    },
    {
      "cell_type": "code",
      "source": [
        "# bezpośrednie deklarowanie typu\n",
        "b0 = tf.constant([1, 2, 3, 4, 5, 6], dtype=tf.float32)\n",
        "print(b0)"
      ],
      "metadata": {
        "id": "xY1tJzHI2hnK"
      },
      "execution_count": null,
      "outputs": []
    },
    {
      "cell_type": "code",
      "source": [
        "# bezpośrednie deklarowanie typu\n",
        "b1 = tf.constant([1, 2, 3, 4, 5, 6], dtype=tf.int16)\n",
        "print(b1)"
      ],
      "metadata": {
        "id": "OQsKvkCZ2xyM"
      },
      "execution_count": null,
      "outputs": []
    },
    {
      "cell_type": "code",
      "source": [
        "# Tensory można rzutować pomiędzy różnymi typami za pomocą funkcji tf.cast\n",
        "print(b1.dtype)\n",
        "\n",
        "b1 = tf.cast(b1, tf.float32)\n",
        "\n",
        "print(b1.dtype)"
      ],
      "metadata": {
        "id": "Pf4MYVSGROLK"
      },
      "execution_count": null,
      "outputs": []
    },
    {
      "cell_type": "markdown",
      "source": [
        "### Podstawowe operacje na tensorach"
      ],
      "metadata": {
        "id": "aeNn-uuFzMgj"
      }
    },
    {
      "cell_type": "code",
      "source": [
        "# Przykładowy tensor rzędu 1\n",
        "rank1_tensor = tf.constant([0, 1, 2, 3, 4, 5, 6, 7, 8, 9, 10, 11])\n",
        "print(rank1_tensor)"
      ],
      "metadata": {
        "id": "SdZgpVyQ7EZt"
      },
      "execution_count": null,
      "outputs": []
    },
    {
      "cell_type": "code",
      "source": [
        "# Indeksowanie od zera\n",
        "print(f\"Pierwszy element tensora to {rank1_tensor[0]}\")  # pierwszy element ma indeks 0"
      ],
      "metadata": {
        "id": "HgY4Bp_azwxS"
      },
      "execution_count": null,
      "outputs": []
    },
    {
      "cell_type": "code",
      "source": [
        "# Obsługa ujemnych indeksów\n",
        "print(f\"Ostatni element tensora to {rank1_tensor[-1]}\")"
      ],
      "metadata": {
        "id": "ypdKa0iE3DwU"
      },
      "execution_count": null,
      "outputs": []
    },
    {
      "cell_type": "code",
      "source": [
        "# Obsługa wycinków\n",
        "print(f\"Co drugi element tensora od drugiego do siódmego to {rank1_tensor[1:8:2]}\")  "
      ],
      "metadata": {
        "id": "l6dmnZ6l3Gpe"
      },
      "execution_count": null,
      "outputs": []
    },
    {
      "cell_type": "code",
      "source": [
        "# Przykładowy tensor rzędu 2\n",
        "rank2_tensor = tf.constant(\n",
        "    [\n",
        "     [0, 1, 2, 3, 4, 5],\n",
        "     [6, 7, 8, 9, 10, 11]\n",
        "    ]\n",
        ")\n",
        "print(rank2_tensor)"
      ],
      "metadata": {
        "id": "lP-xi6O88TZU"
      },
      "execution_count": null,
      "outputs": []
    },
    {
      "cell_type": "code",
      "source": [
        "# indeksowanie\n",
        "print(f\"Pierwszy element tensora to {rank2_tensor[0]}\")  # pierwszy element ma indeks 0"
      ],
      "metadata": {
        "id": "v1Rgzt3e9KjD"
      },
      "execution_count": null,
      "outputs": []
    },
    {
      "cell_type": "code",
      "source": [
        "# Zagnieżdżone indeksy\n",
        "print(f\"(metoda I) Pierwszy element pierwszego wiersza tensora to {rank2_tensor[0][0]}\")\n",
        "print(f\"(metoda II) Pierwszy element pierwszego wiersza tensora to {rank2_tensor[0, 0]}\")"
      ],
      "metadata": {
        "id": "BW6NBC6E3lzS"
      },
      "execution_count": null,
      "outputs": []
    },
    {
      "cell_type": "code",
      "source": [
        "# Zagnieżdżone indeksy\n",
        "print(f\"(metoda I) Trzeci element drugiego wiersza tensora to {rank2_tensor[1][2]}\")\n",
        "print(f\"(metoda II) Trzeci element drugiego wiersza tensora to {rank2_tensor[1, 2]}\")"
      ],
      "metadata": {
        "id": "BLE-ZUjF3r97"
      },
      "execution_count": null,
      "outputs": []
    },
    {
      "cell_type": "code",
      "source": [
        "# Uwaga! tf.Tensor jest typem niemodyfikowalnym (jak string czy tupla)\n",
        "\n",
        "rank2_tensor[1][2] = 5"
      ],
      "metadata": {
        "id": "3kCrUzMCFM7T"
      },
      "execution_count": null,
      "outputs": []
    },
    {
      "cell_type": "code",
      "source": [
        "# Tworzymy dwa tensory\n",
        "a = tf.constant(\n",
        "    [\n",
        "     [2, 4], \n",
        "     [6, 8]\n",
        "    ], dtype=tf.float32\n",
        ")\n",
        "\n",
        "b = tf.constant(\n",
        "    [\n",
        "     [1, 3], \n",
        "     [5, 7]\n",
        "    ], dtype=tf.float32\n",
        ")"
      ],
      "metadata": {
        "id": "B7fA2s1RzXbl"
      },
      "execution_count": null,
      "outputs": []
    },
    {
      "cell_type": "code",
      "source": [
        "# Dodawanie (\"po współrzędnych\", ang. element-wise)\n",
        "\n",
        "# metoda I (metoda add)\n",
        "print(tf.add(a,b))\n",
        "\n",
        "# metoda II (operator +)\n",
        "print(a+b)"
      ],
      "metadata": {
        "id": "Xy8g1poKz9vS"
      },
      "execution_count": null,
      "outputs": []
    },
    {
      "cell_type": "code",
      "source": [
        "# Odejmowanie (\"po współrzędnych\")\n",
        "\n",
        "# metoda I (metoda subtract)\n",
        "print(tf.subtract(a,b))\n",
        "\n",
        "# metoda II (operator -)\n",
        "print(a-b)"
      ],
      "metadata": {
        "id": "O982SejbPT8L"
      },
      "execution_count": null,
      "outputs": []
    },
    {
      "cell_type": "code",
      "source": [
        "# mnożenie \"po współrzędnych\"\n",
        "\n",
        "# metoda I (funkcja multiply)\n",
        "print(tf.multiply(a, b))\n",
        "\n",
        "# metoda II (operator *)\n",
        "print(a*b)"
      ],
      "metadata": {
        "id": "ibZU-msy0QAj"
      },
      "execution_count": null,
      "outputs": []
    },
    {
      "cell_type": "code",
      "source": [
        "# dzielenie tensorów (\"po współrzędnych\")\n",
        "\n",
        "# metoda I (funkcja divide)\n",
        "print(tf.divide(a, b))\n",
        "\n",
        "# metoda II (operator /)\n",
        "print(a/b)"
      ],
      "metadata": {
        "id": "eE55sXliP3f8"
      },
      "execution_count": null,
      "outputs": []
    },
    {
      "cell_type": "code",
      "source": [
        "# modulo (\"po współrzędnych\")\n",
        "\n",
        "# metoda 1 (funckja modulo)\n",
        "print(tf.math.floormod(a, b))\n",
        "\n",
        "# metoda 2 (operator %)\n",
        "print(a%b)"
      ],
      "metadata": {
        "id": "-ikTQ3fYQGoy"
      },
      "execution_count": null,
      "outputs": []
    },
    {
      "cell_type": "code",
      "source": [
        "# mnożenie macierzowe\n",
        "\n",
        "# metoda I (funkcja matmul)\n",
        "print(tf.matmul(a, b))\n",
        "\n",
        "# metoda II (operator @)\n",
        "print(a @ b)"
      ],
      "metadata": {
        "id": "HIE-6C2m0lYy"
      },
      "execution_count": null,
      "outputs": []
    },
    {
      "cell_type": "code",
      "source": [
        "# znajdowanie maksymalnego elementu tensora\n",
        "print(f\"Maksymalna wartość elementów tensora a wynosi {tf.reduce_max(b)}\")"
      ],
      "metadata": {
        "id": "uLCpTjyz05jq"
      },
      "execution_count": null,
      "outputs": []
    },
    {
      "cell_type": "code",
      "source": [
        "# znajdowanie minimalnego elementu tensora\n",
        "print(f\"Minimalna wartość elementów tensora b wynosi {tf.reduce_min(b)}\")"
      ],
      "metadata": {
        "id": "IEiVVoma5aMW"
      },
      "execution_count": null,
      "outputs": []
    },
    {
      "cell_type": "code",
      "source": [
        "# suma po wszystkich elementach tensora\n",
        "print(f\"Suma wartości wszsytkich elementów tensora b wynosi {tf.reduce_sum(b)}\")"
      ],
      "metadata": {
        "id": "iR2ePMhY5bsT"
      },
      "execution_count": null,
      "outputs": []
    },
    {
      "cell_type": "code",
      "source": [
        "# znajdowanie indeksu maksymalnego elementu tensora\n",
        "print(f\"Indeks maksymalnego elementu tensora a wynosi {tf.argmax(a)}\")"
      ],
      "metadata": {
        "id": "hjyi6W951kuB"
      },
      "execution_count": null,
      "outputs": []
    },
    {
      "cell_type": "code",
      "source": [
        "# znajdowanie indeksu minimalnego elementu tensora\n",
        "print(f\"Indeks maksymalnego elementu tensora a wynosi {tf.argmin(a)}\")"
      ],
      "metadata": {
        "id": "g9zB80n_5ijX"
      },
      "execution_count": null,
      "outputs": []
    },
    {
      "cell_type": "markdown",
      "source": [
        "**Broadcasting**"
      ],
      "metadata": {
        "id": "B1grNTcm6fR1"
      }
    },
    {
      "cell_type": "code",
      "source": [
        "c = tf.constant(\n",
        "    [\n",
        "     [2, 4], \n",
        "     [6, 8]\n",
        "    ]\n",
        ")\n",
        "\n",
        "print(c)"
      ],
      "metadata": {
        "id": "_rz-Mhklf39Q"
      },
      "execution_count": null,
      "outputs": []
    },
    {
      "cell_type": "code",
      "source": [
        "print(c+2)"
      ],
      "metadata": {
        "id": "ncV5uNhTSsaC"
      },
      "execution_count": null,
      "outputs": []
    },
    {
      "cell_type": "markdown",
      "source": [
        "**Ciekawostka: Promocja typów (niejawne rzutownie)**"
      ],
      "metadata": {
        "id": "NPZPm35whA53"
      }
    },
    {
      "cell_type": "markdown",
      "source": [
        "Przekazany obiekt, jeżeli wymaga tego wykonywana operacja zostanie zrzutowany na tensor przed wykonaniem tej operacji."
      ],
      "metadata": {
        "id": "0mcoc0ajk7Dy"
      }
    },
    {
      "cell_type": "code",
      "source": [
        "d = tf.constant(\n",
        "    [\n",
        "     [2., 4.], \n",
        "     [6., 8.]\n",
        "    ]\n",
        ")\n",
        "\n",
        "print(d + [[1.,1.], [1.,1.]])  # rzutowanie listy na tensor"
      ],
      "metadata": {
        "id": "s3pyws5ehH8A"
      },
      "execution_count": null,
      "outputs": []
    },
    {
      "cell_type": "code",
      "source": [
        "# Niejawne rzutowanie dotyczy też typu (np. float, int) rzutowanego obiektu.\n",
        "\n",
        "print(d + [[1, 1], [1, 1]])  # w wyniku otrzymaliśmy float32 mimo, że lista\n",
        "# składa się z intów."
      ],
      "metadata": {
        "id": "5Ru0lQkHla6K"
      },
      "execution_count": null,
      "outputs": []
    },
    {
      "cell_type": "code",
      "source": [
        "# Ta sama operacja na gotowych tensorach nie zadziała.\n",
        "print(d + tf.fill([2, 2], 1))"
      ],
      "metadata": {
        "id": "Jg-ziEdSl2HJ"
      },
      "execution_count": null,
      "outputs": []
    },
    {
      "cell_type": "markdown",
      "source": [
        "Tensory nie są niejawnie rzutowane, ale obiekty dopiero rzutowane na tensory mogą."
      ],
      "metadata": {
        "id": "e1OIp73gnIAI"
      }
    },
    {
      "cell_type": "code",
      "source": [
        "# Niejawne rzutowanie na int, float dotyczy tylko obiektów dopiero rzutowanych\n",
        "# na tensory i zachodzi przed zrzutowaniem ich na tensor (i przed broadcastingiem\n",
        "# jeżeli potrzebny).\n",
        "\n",
        "print(d+2)"
      ],
      "metadata": {
        "id": "iAwiOQhQmDfq"
      },
      "execution_count": null,
      "outputs": []
    },
    {
      "cell_type": "code",
      "source": [
        "# Nie jawne rzutowanie (na int, float) nie zadziała jeżeli musiałoby (zgodnie z\n",
        "# hierarchią typów) zostać wykonane na już stworzonym tensorze.\n",
        "e = tf.constant(\n",
        "    [\n",
        "     [2, 4], \n",
        "     [6, 8]\n",
        "    ]\n",
        ")\n",
        "\n",
        "print(e+2.)"
      ],
      "metadata": {
        "id": "wTn16mUIhzsd"
      },
      "execution_count": null,
      "outputs": []
    },
    {
      "cell_type": "markdown",
      "source": [
        "**Zaawansowane operacje na tensorach**"
      ],
      "metadata": {
        "id": "jM8_mi3yOem3"
      }
    },
    {
      "cell_type": "markdown",
      "source": [
        "##### Zmiana kształtu tensora"
      ],
      "metadata": {
        "id": "49bhT7qF8iXH"
      }
    },
    {
      "cell_type": "code",
      "source": [
        "# stworznie tensora (wektor wierszowy)\n",
        "a = tf.constant([1, 2, 3, 4, 5, 6])\n",
        "print(f'Kształt tensora {a} - {a.shape}')\n",
        "\n",
        "# Dopuszczalne są zmiany kształtów nie zmieniające rozmiaru (size) tensora."
      ],
      "metadata": {
        "id": "mmCWfTtaKlS9"
      },
      "execution_count": null,
      "outputs": []
    },
    {
      "cell_type": "code",
      "source": [
        "# zmiana kształtu (wektor kolumnowy) \n",
        "b = tf.reshape(a, (6, 1))\n",
        "print(f\"Kształt tensora {b} - {b.shape}\")"
      ],
      "metadata": {
        "id": "sp1BZh0G8IXb"
      },
      "execution_count": null,
      "outputs": []
    },
    {
      "cell_type": "code",
      "source": [
        "# zmiana kształtu (macierz)\n",
        "c = tf.reshape(a, (2, 3))\n",
        "print(f\"Kształt tensora {c} - {c.shape}\")"
      ],
      "metadata": {
        "id": "fT4YWOHa8ILa"
      },
      "execution_count": null,
      "outputs": []
    },
    {
      "cell_type": "code",
      "source": [
        "# spłaszczenie wektora - (-1,)\n",
        "d = tf.reshape(a, (-1,))\n",
        "print(f\"Spłaszczony wektor {d} - {d.shape}\")"
      ],
      "metadata": {
        "id": "NrRVlqj78IF1"
      },
      "execution_count": null,
      "outputs": []
    },
    {
      "cell_type": "code",
      "source": [
        "# dopasowywanie pozostałych wymiarów do wymiarów zadanych (-1)\n",
        "e = tf.reshape(a, (2, -1))\n",
        "print(f\"Spłaszczony wektor {e} - {e.shape}\")"
      ],
      "metadata": {
        "id": "sm-60Ovf8H7B"
      },
      "execution_count": null,
      "outputs": []
    },
    {
      "cell_type": "markdown",
      "source": [
        "##### Broadcasting c.d."
      ],
      "metadata": {
        "id": "TD54jRhi8w2P"
      }
    },
    {
      "cell_type": "code",
      "source": [
        "# wektor rzędu 0\n",
        "m = tf.constant([5])\n",
        "\n",
        "# wektor rzędu 2\n",
        "n = tf.constant([[1,2],[3,4]])\n",
        "\n",
        "print(tf.multiply(m, n))"
      ],
      "metadata": {
        "id": "bVz9gHRNWQMA"
      },
      "execution_count": null,
      "outputs": []
    },
    {
      "cell_type": "markdown",
      "source": [
        "##### Gradient"
      ],
      "metadata": {
        "id": "8zfyAgFm82Lq"
      }
    },
    {
      "cell_type": "code",
      "source": [
        "x = tf.Variable(-1.0)\n",
        "\n",
        "# y = x*x (wewnątrz menadżera kontekstu GradientTape)\n",
        "with tf.GradientTape() as tape:\n",
        "  tape.watch(x)  # zmienna wzdłuż której liczymy zmianę\n",
        "  y = tf.multiply(x, x)  # y=x^2 (parabola)\n",
        "\n",
        "# Liczymy gradient y w punkcie x = -1 (nachylenie stycznej do wykresu y)\n",
        "g = tape.gradient(y, x)\n",
        "print(g)\n",
        "print(g.numpy())  # co oznacza, że jesteśmy na krzywej spadającej i powinniśmy\n",
        "# iść dalej w jej kierunku (zwiększyć x)"
      ],
      "metadata": {
        "id": "FqM8tZwrlI_E"
      },
      "execution_count": null,
      "outputs": []
    },
    {
      "cell_type": "markdown",
      "source": [
        "**Szczególne rodzaje tensorów**"
      ],
      "metadata": {
        "id": "YLwPfgEiZl9-"
      }
    },
    {
      "cell_type": "code",
      "source": [
        "# tensor nierówny (niezalecany)\n",
        "ragged_list = [[1, 2, 3],[4, 5],[6]]\n",
        "ragged_tensor = tf.ragged.constant(ragged_list)\n",
        "\n",
        "print(ragged_tensor)"
      ],
      "metadata": {
        "id": "1do9lfesZoYO"
      },
      "execution_count": null,
      "outputs": []
    },
    {
      "cell_type": "code",
      "source": [
        "# tensor napisów\n",
        "string_tensor = tf.constant([\"W ten sposób\", \n",
        "                             \"tworzymy\", \n",
        "                             \"tensor napisów\"])\n",
        "\n",
        "print(string_tensor)"
      ],
      "metadata": {
        "id": "_imvCmEAZ0L9"
      },
      "execution_count": null,
      "outputs": []
    },
    {
      "cell_type": "code",
      "source": [
        "# tensor rzadki\n",
        "sparse_tensor = tf.sparse.SparseTensor(\n",
        "    indices=[[0, 0], [2, 2], [4, 4]], \n",
        "    values=[25, 50, 100], \n",
        "    dense_shape=[5, 5]\n",
        ")\n",
        "\n",
        "print(sparse_tensor)"
      ],
      "metadata": {
        "id": "_e3R7VBkaBzc"
      },
      "execution_count": null,
      "outputs": []
    },
    {
      "cell_type": "code",
      "source": [
        "# Jawne wyświetlenie rzadkiego tensora \n",
        "print(tf.sparse.to_dense(sparse_tensor))"
      ],
      "metadata": {
        "id": "IebJ1_u7akX1"
      },
      "execution_count": null,
      "outputs": []
    },
    {
      "cell_type": "markdown",
      "source": [
        "## Variable"
      ],
      "metadata": {
        "id": "aJXF1vcNMNd2"
      }
    },
    {
      "cell_type": "markdown",
      "source": [
        "### Tworzenie"
      ],
      "metadata": {
        "id": "IQQwxSLaMUXN"
      }
    },
    {
      "cell_type": "code",
      "source": [
        "# Stworzenie obiektu klasy tf.Tensor\n",
        "a = tf.constant(\n",
        "    [\n",
        "     [0.0, 1.0],\n",
        "     [2.0, 3.0]\n",
        "    ]\n",
        ")\n",
        "\n",
        "# rzutowanie obiektu klasy tf.Tensor na obiekt klasy tf.Variable\n",
        "# (inicjalizowanie obiektu klasy tf.Variable obiektem klasy tf.Tensor)\n",
        "var_a = tf.Variable(a)\n",
        "print(var_a)"
      ],
      "metadata": {
        "id": "UTYyoRxeMRHl"
      },
      "execution_count": null,
      "outputs": []
    },
    {
      "cell_type": "code",
      "source": [
        "# Podobnie jak obiekt klasy tf.Tensor, obiekt klasy tf.Variable możemy \n",
        "# inicjalizować za pomocą:\n",
        "\n",
        "# intów\n",
        "var_b = tf.Variable(10000)\n",
        "print(var_b)"
      ],
      "metadata": {
        "id": "AsAFZDTMMyzW"
      },
      "execution_count": null,
      "outputs": []
    },
    {
      "cell_type": "code",
      "source": [
        "# list\n",
        "c = [[0.0, 1.0],\n",
        "     [2.0, 3.0]]\n",
        "var_c = tf.Variable(c)\n",
        "print(var_c)"
      ],
      "metadata": {
        "id": "NMRJ6XwCNBG2"
      },
      "execution_count": null,
      "outputs": []
    },
    {
      "cell_type": "code",
      "source": [
        "# napisów\n",
        "var_d = tf.Variable(\"String example\")\n",
        "print(var_d)"
      ],
      "metadata": {
        "id": "8xTEbxlfNKF0"
      },
      "execution_count": null,
      "outputs": []
    },
    {
      "cell_type": "code",
      "source": [
        "e = [\"Hello, World!\", \n",
        "     \"This is an\", \n",
        "     \"example of\", \n",
        "     \"TensorFlow Variable\"]\n",
        "\n",
        "var_e = tf.Variable(e)\n",
        "print(var_e)"
      ],
      "metadata": {
        "id": "pEVCw3ftNYhE"
      },
      "execution_count": null,
      "outputs": []
    },
    {
      "cell_type": "markdown",
      "source": [
        "###Atrybuty i metody"
      ],
      "metadata": {
        "id": "wUIPuDB2aA5P"
      }
    },
    {
      "cell_type": "code",
      "source": [
        "dir(var_c)"
      ],
      "metadata": {
        "id": "HFZBBHMC_RLH"
      },
      "execution_count": null,
      "outputs": []
    },
    {
      "cell_type": "code",
      "source": [
        "var_c[3] = 5.  # elementy obiektów klasy tf.Variable, podobnie jak\n",
        "# elementy obiektów klasy tf.Tensor nie obsługują operatora przypisania\n"
      ],
      "metadata": {
        "id": "oii2CHzN_usZ"
      },
      "execution_count": null,
      "outputs": []
    },
    {
      "cell_type": "markdown",
      "source": [
        "##### Metoda assign"
      ],
      "metadata": {
        "id": "5icFGIOU-0Ih"
      }
    },
    {
      "cell_type": "code",
      "source": [
        "# Poza atrybutami i metodami odziedziczonymi po klasie tf.Tensor obiekty\n",
        "# klasy tf.Variable posiadają m.in. metodę assign. Za pomocą funkcji\n",
        "# assign możemy zmieniać wartość tensora (typu Variable).\n",
        "\n",
        "var_c.assign(([[2, 100], [1, 10]]))\n",
        "print(var_c)"
      ],
      "metadata": {
        "id": "pWediuKyZ_3b"
      },
      "execution_count": null,
      "outputs": []
    },
    {
      "cell_type": "code",
      "source": [
        "var_c.assign_add(tf.fill([2, 2], 5.))\n",
        "print(var_c)"
      ],
      "metadata": {
        "id": "S0Bn20_wjrBE"
      },
      "execution_count": null,
      "outputs": []
    },
    {
      "cell_type": "code",
      "source": [
        "var_c.assign_sub([[3, 3], [3, 3]])  # niejawne rzutowanie (zasady identyczne jak przy tf.Tensor)\n",
        "print(var_c)"
      ],
      "metadata": {
        "id": "lY6Uvy1KkB_H"
      },
      "execution_count": null,
      "outputs": []
    },
    {
      "cell_type": "code",
      "source": [
        "# Ale typ tensora musi pozostać ten sam\n",
        "print(var_e)\n",
        "var_e.assign(([[2, 100], [1, 10]]))"
      ],
      "metadata": {
        "id": "JlEaqx-0-zN_"
      },
      "execution_count": null,
      "outputs": []
    },
    {
      "cell_type": "markdown",
      "source": [
        "## Dodatki"
      ],
      "metadata": {
        "id": "0DHwzJAiSHnb"
      }
    },
    {
      "cell_type": "markdown",
      "source": [
        "### Grafy obliczeniowe"
      ],
      "metadata": {
        "id": "7GQoMbShSJaB"
      }
    },
    {
      "cell_type": "code",
      "source": [
        "# eager execution\n",
        "def eager_function(x):\n",
        "  \"\"\"Funckja podnosi do kwadratu parametr x, a następnie zwraca go.\"\"\"\n",
        "  result = x ** 2\n",
        "  print(result)  # w graph execution wynik w tym miejscu nie bedzie jeszcze wyliczony\n",
        "  return result\n",
        "\n",
        "x = tf.constant([1.0, 2.0, 3.0, 4.0, 5.0])\n",
        "\n",
        "res = eager_function(x)"
      ],
      "metadata": {
        "id": "8owGwYVFTThn"
      },
      "execution_count": null,
      "outputs": []
    },
    {
      "cell_type": "code",
      "source": [
        "# graph execution (dekorator tf.function)\n",
        "graph_function = tf.function(eager_function)\n",
        "res = graph_function(x);"
      ],
      "metadata": {
        "id": "0NfcrYtAT7c-"
      },
      "execution_count": null,
      "outputs": []
    },
    {
      "cell_type": "code",
      "source": [
        "print(res)"
      ],
      "metadata": {
        "id": "uch4j-YIX90k"
      },
      "execution_count": null,
      "outputs": []
    },
    {
      "cell_type": "code",
      "source": [
        "# zróbmy benchmarking\n",
        "import timeit\n",
        "\n",
        "print(f\"Eager time: {timeit.timeit(lambda: eager_function(x), number=1)}\")\n",
        "print(f\"Graph time: {timeit.timeit(lambda: graph_function(x), number=1)}\")"
      ],
      "metadata": {
        "id": "SzsOIIwVVWqm"
      },
      "execution_count": null,
      "outputs": []
    },
    {
      "cell_type": "markdown",
      "source": [
        "Nie bardzo pomogło. Dla prostych przykładów jest nieprzydatne, ponieważ stworzenie grafu od początku zajmuje jakiś czas. Różnica na korzyść grafów obliczeniowych staje się coraz bardziej widoczna wraz ze wzrostem złożoności modelu."
      ],
      "metadata": {
        "id": "q-4xjfOKnvhP"
      }
    },
    {
      "cell_type": "markdown",
      "source": [
        "### Wyskopoziomowe api Keras"
      ],
      "metadata": {
        "id": "UVMpg-N269-p"
      }
    },
    {
      "cell_type": "markdown",
      "source": [
        "Przykład dotyczy funkcji kosztów. Dostępne w Keras, popularne funkcje kosztu używane z modelami liniowymi to\n",
        "\n",
        "| Funkcja               | Pełna nazwa                |\n",
        "| --------------------- |:---------------------------|\n",
        "| tf.keras.losses.mse   | Mean Squre Error (MSE)     |\n",
        "| tf.keras.losses.mae   | Mean Absolute Error (MAE)  |\n",
        "| tf.keras.losses.Huber | Huber Error                |\n"
      ],
      "metadata": {
        "id": "eMMsjfrc7HED"
      }
    },
    {
      "cell_type": "code",
      "source": [
        "import requests\n",
        "from io import StringIO\n",
        "import numpy as np\n",
        "\n",
        "\n",
        "# po obliczniu prognozowanych wyników i przypisaniu ich do zmiennej predictions\n",
        "# średni kwadratowy błąd prognozy możemy znaleźć za pomocą wywołania \n",
        "# tf.keras.losses.mse\n",
        "\n",
        "# Wczytajmy ceny domów (zapisane w pliku targets.csv) i wyliczone przez wyuczony \n",
        "# model prognozowane ceny domów (zapisane w pliku predictions.csv)\n",
        "\n",
        "targets_response = requests.get(\n",
        "    \"https://raw.githubusercontent.com/jgrynczewski/tensorflow_intro/master/targets.csv\"\n",
        ")\n",
        "raw_targets = targets_response.text\n",
        "\n",
        "predictions_response = requests.get(\n",
        "    \"https://raw.githubusercontent.com/jgrynczewski/tensorflow_intro/master/predictions.csv\"\n",
        ")\n",
        "raw_predictions = predictions_response.text\n",
        "\n",
        "# rzutowanie danych do tablicy numpy\n",
        "targets_numpy = np.genfromtxt(StringIO(raw_targets), delimiter=',')\n",
        "predictions_numpy = np.genfromtxt(StringIO(raw_predictions), delimiter=',')\n",
        "\n",
        "loss = tf.keras.losses.mse(targets_numpy, predictions_numpy)\n",
        "print(loss)"
      ],
      "metadata": {
        "id": "o0WvMgxj69aR"
      },
      "execution_count": null,
      "outputs": []
    }
  ]
}