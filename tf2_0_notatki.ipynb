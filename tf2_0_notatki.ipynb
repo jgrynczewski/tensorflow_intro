{
 "cells": [
  {
   "cell_type": "markdown",
   "metadata": {
    "id": "Xm8qpbpCY8D4"
   },
   "source": [
    "# Biblioteka TensorFlow"
   ]
  },
  {
   "cell_type": "markdown",
   "metadata": {
    "id": "-YkCDNRTZCc_"
   },
   "source": [
    "### Importowanie biblioteki"
   ]
  },
  {
   "cell_type": "code",
   "execution_count": null,
   "metadata": {
    "id": "PsSKSOVcvYp0"
   },
   "outputs": [],
   "source": [
    "#!pip install tensorflow==1.15.0\n",
    "import tensorflow as tf\n",
    "\n",
    "print(tf.__version__)"
   ]
  },
  {
   "cell_type": "markdown",
   "metadata": {
    "id": "CS5GxPje1g-I"
   },
   "source": [
    "Dwie podstawowe klasy biblioteki tensorflow reprezentujące tenosory to:\n",
    "* tf.Tensor (tensor niemodyfikowalny)\n",
    "* tf.Variable (tensor modyfikowalny)"
   ]
  },
  {
   "cell_type": "markdown",
   "metadata": {
    "id": "9W0pFtqS1wJe"
   },
   "source": [
    "## tf.Tensor"
   ]
  },
  {
   "cell_type": "markdown",
   "metadata": {
    "id": "zuxrnaUEZFWn"
   },
   "source": [
    "### Tworzenie obiektów klasy tf.Tensor"
   ]
  },
  {
   "cell_type": "code",
   "execution_count": null,
   "metadata": {
    "id": "gy_Upz37ZPuq"
   },
   "outputs": [],
   "source": [
    "# Obiekt klasy tf.Tensor możemy tworzyć za pomocą funkcji tf.constant\n",
    "x = tf.constant([[1, 2, 3, 4 ,5]]) # parametrem przekazanym do funkcji constant\n",
    "# może być int, float, string, boolean oraz dowolny typ iterowalny (np. tablica \n",
    "# numpy, instancja klasy tf.Tensor, generator range)\n",
    "\n",
    "print(x)"
   ]
  },
  {
   "cell_type": "code",
   "execution_count": null,
   "metadata": {
    "id": "XDGwwR24ZDUf"
   },
   "outputs": [],
   "source": [
    "# Obiekt klasy tf.Tensor składający się wyłącznie z jedynek możemy stworzyć za \n",
    "# pomocą funkcji tf.ones\n",
    "y = tf.ones((1,5))\n",
    "\n",
    "print(y)"
   ]
  },
  {
   "cell_type": "code",
   "execution_count": null,
   "metadata": {
    "id": "2T8BHQ7XZJWH"
   },
   "outputs": [],
   "source": [
    "# Obiekt klasy tf.Tensor składający się wyłącznie z jedynek o typie i kształcie \n",
    "# identycznych jak zadany tensor możemy stworzyć za pomocą funkcji tf.ones_like\n",
    "z = tf.ones_like(x)\n",
    "\n",
    "print(z)  "
   ]
  },
  {
   "cell_type": "code",
   "execution_count": null,
   "metadata": {
    "id": "sV2eXCsD0YcK"
   },
   "outputs": [],
   "source": [
    "# Obiekt klasy tf.Tensor składający się wyłącznie z zer możemy stworzyć za \n",
    "# pomocą funkcji tf.zeros\n",
    "p = tf.zeros((1,5))\n",
    "\n",
    "print(p)"
   ]
  },
  {
   "cell_type": "code",
   "execution_count": null,
   "metadata": {
    "id": "621ejKgN0ZKw"
   },
   "outputs": [],
   "source": [
    "# Obiekt klasy tf.Tensor składający się wyłącznie z zer o typie i kształcie \n",
    "# identycznych jak zadany tensor możemy stworzyć za pomocą funkcji tf.zeros_like\n",
    "q = tf.zeros_like(x)\n",
    "\n",
    "print(q)"
   ]
  },
  {
   "cell_type": "code",
   "execution_count": null,
   "metadata": {
    "id": "p8QIx9lR0Zeg"
   },
   "outputs": [],
   "source": [
    "# Obiekt klasy tf.Tensor składający się ze wskazanego zakresu liczb możemy \n",
    "# stworzyć za pomocą funkcji tf.range\n",
    "t = tf.range(start=1, limit=6, delta=1)\n",
    "\n",
    "print(t)"
   ]
  },
  {
   "cell_type": "code",
   "execution_count": null,
   "metadata": {
    "id": "DLssLBJW0ZvZ"
   },
   "outputs": [],
   "source": [
    "# Obiekt klasy tf.Tensor o zadanym kształcie wypełniony elementami zadanej, \n",
    "# jednakowej wartości możemy stworzyć za pomocą funkcji tf.fill\n",
    "r = tf.fill([3,3], 7)\n",
    "\n",
    "print(r)"
   ]
  },
  {
   "cell_type": "code",
   "execution_count": null,
   "metadata": {
    "id": "7xnmeE7j0iP3"
   },
   "outputs": [],
   "source": [
    "# Obiekt klasy tf.Tensor o zadanym kształcie wypełniony losowymi wartościami\n",
    "# pochodzącymi z rozkładu normalnego o zadanych średniej i odchyleniu standardowym\n",
    "# możemy stworzyć za pomocą funkcji tf.random.normal\n",
    "s = tf.random.normal(\n",
    "    shape=[2, 2],\n",
    "    mean=0.0,\n",
    "    stddev=1.0,\n",
    "    dtype=tf.dtypes.float32,\n",
    ")\n",
    "\n",
    "print(s)"
   ]
  },
  {
   "cell_type": "markdown",
   "metadata": {
    "id": "4HIjYeyHcWWl"
   },
   "source": [
    "### Charakterystyki tensorów"
   ]
  },
  {
   "cell_type": "code",
   "execution_count": null,
   "metadata": {
    "id": "91y8LqKhcahs"
   },
   "outputs": [],
   "source": [
    "# Tworzymy tensor\n",
    "\n",
    "matrix = [\n",
    "           [\n",
    "            [0, 1, 2],\n",
    "            [3, 4, 5]\n",
    "           ],\n",
    "           [\n",
    "            [6, 7, 8],\n",
    "            [9, 10, 11]\n",
    "           ]\n",
    "]\n",
    "\n",
    "tensor = tf.constant(matrix)\n",
    "print(tensor)"
   ]
  },
  {
   "cell_type": "markdown",
   "metadata": {
    "id": "3OabdWwceMMT"
   },
   "source": [
    "\n",
    "\n",
    "1.     Rząd tensora (liczba osi)\n",
    "\n"
   ]
  },
  {
   "cell_type": "code",
   "execution_count": null,
   "metadata": {
    "id": "1zHtMHarc5qU"
   },
   "outputs": [],
   "source": [
    "# rząd tensora możemy sprawdzić za pomocą atrybutu ndim\n",
    "print(f\"Tensor jest rzędu {tensor.ndim}\")\n",
    "\n",
    "# oraz za pomocą funkcji tf.rank(). Funkcja zwraca tensor rzędu 0 o wartości równej\n",
    "# rzędowi przekazanego tensora\n",
    "print(tf.rank(tensor))"
   ]
  },
  {
   "cell_type": "code",
   "execution_count": null,
   "metadata": {
    "id": "IpKxPx_I5e6j"
   },
   "outputs": [],
   "source": [
    "# tensor rzędu 0\n",
    "d0 = tf.constant(2)\n",
    "print(d0.ndim)"
   ]
  },
  {
   "cell_type": "code",
   "execution_count": null,
   "metadata": {
    "id": "0376LWf37esK"
   },
   "outputs": [],
   "source": [
    "# tensor rzędu 1\n",
    "d1 = tf.constant([2, 2, 2])\n",
    "print(d1.ndim)"
   ]
  },
  {
   "cell_type": "code",
   "execution_count": null,
   "metadata": {
    "id": "typd5aaQ7fD5"
   },
   "outputs": [],
   "source": [
    "# tensor rzędu 2\n",
    "d2 = tf.constant([[2, 2, 2], [2, 2, 2]])\n",
    "print(d2.ndim)"
   ]
  },
  {
   "cell_type": "code",
   "execution_count": null,
   "metadata": {
    "id": "oygUKSGj5i6L"
   },
   "outputs": [],
   "source": [
    "# tensor rzędu 2\n",
    "d2 = tf.ones((4, 4))  # rząd - liczba współrzędnych potrzebna do opisania \n",
    "# kształtu tensora\n",
    "print(d2.ndim)"
   ]
  },
  {
   "cell_type": "markdown",
   "metadata": {
    "id": "1OlLGyPoeWNL"
   },
   "source": [
    "2.    Kształt tensora"
   ]
  },
  {
   "cell_type": "code",
   "execution_count": null,
   "metadata": {
    "id": "QZeNSeUQdHnL"
   },
   "outputs": [],
   "source": [
    "# kształt tensora możemy sprawdzić za pomocą atrybutu shape\n",
    "print(f\"Kształt tensora to {tensor.shape}\")\n",
    "\n",
    "# oraz za pomocą funkcji tf.shape(). Funkcja zwraca tensor rzędu 1 o wartości\n",
    "# równej kształtowi przekazanego tensora\n",
    "print(tf.shape(tensor))"
   ]
  },
  {
   "cell_type": "markdown",
   "metadata": {
    "id": "1h1MXAJkeZWa"
   },
   "source": [
    "3.    Rozmiar tensora"
   ]
  },
  {
   "cell_type": "code",
   "execution_count": null,
   "metadata": {
    "id": "HAi4Uv4adibL"
   },
   "outputs": [],
   "source": [
    "# rozmiar tensora możemy sprawdzić za pomocą funkcji tf.size(). Funkcja zwraca \n",
    "# tensor rzędu 0 z informacją o rozmiarze przekazanego tensora\n",
    "print(tf.size(tensor))"
   ]
  },
  {
   "cell_type": "markdown",
   "metadata": {
    "id": "3BMUL1l8ecYF"
   },
   "source": [
    "4.    Typ tensora"
   ]
  },
  {
   "cell_type": "code",
   "execution_count": null,
   "metadata": {
    "id": "4oRoV0NTeCDk"
   },
   "outputs": [],
   "source": [
    "# Typ elementów tensora możemy sprawdzić za pomocą atrybutu dtype\n",
    "print(f\"Typ elementów tensora to {tensor.dtype}\")"
   ]
  },
  {
   "cell_type": "code",
   "execution_count": null,
   "metadata": {
    "id": "69VQiqJt6Lq2"
   },
   "outputs": [],
   "source": [
    "# Dostępne atrybuty i metody obiektu tf.Tensor\n",
    "dir(tensor)"
   ]
  },
  {
   "cell_type": "code",
   "execution_count": null,
   "metadata": {
    "id": "GdhT9AovRp7B"
   },
   "outputs": [],
   "source": [
    "# Wartość przechowywaną w obiekcie tf.Tensor można otrzymać za pomocą metody numpy()\n",
    "print(f\"{tensor.numpy()}\")"
   ]
  },
  {
   "cell_type": "code",
   "execution_count": null,
   "metadata": {},
   "outputs": [],
   "source": [
    "# metody numpy, zwraca obiekt, który jest tensorem zrzutowanym na typ ndarray (numpy array)\n",
    "print(f\"{type(tensor.numpy())}\")"
   ]
  },
  {
   "cell_type": "code",
   "execution_count": null,
   "metadata": {
    "id": "1NtWrOfR4iFv"
   },
   "outputs": [],
   "source": [
    "# Urządzenie na którym obiekt tf.Tensor jest liczony możemy sprawdzić za pomocą atrybutu device\n",
    "print(f\"{tensor.device}\")"
   ]
  },
  {
   "cell_type": "markdown",
   "metadata": {
    "id": "vSipnjakPz77"
   },
   "source": [
    "Podczas tworzenia obiektu klasy tf.Tensor można zadeklarować jego kształt lub typ"
   ]
  },
  {
   "cell_type": "code",
   "execution_count": null,
   "metadata": {
    "id": "5CGnIXwRQbPy"
   },
   "outputs": [],
   "source": [
    "# bezpośrednie deklarowanie kształtu\n",
    "a0 = tf.constant(3, shape=[2, 3])\n",
    "\n",
    "print(a0)"
   ]
  },
  {
   "cell_type": "code",
   "execution_count": null,
   "metadata": {
    "id": "0lMGVHR42oMm"
   },
   "outputs": [],
   "source": [
    "# bezpośrednie deklarowanie kształtu\n",
    "a1 = tf.constant([1, 2, 3, 4], shape=[2, 2])\n",
    "\n",
    "print(a1)"
   ]
  },
  {
   "cell_type": "code",
   "execution_count": null,
   "metadata": {
    "id": "xY1tJzHI2hnK"
   },
   "outputs": [],
   "source": [
    "# bezpośrednie deklarowanie typu\n",
    "b0 = tf.constant([1, 2, 3, 4, 5, 6], dtype=tf.float32)\n",
    "print(b0)"
   ]
  },
  {
   "cell_type": "code",
   "execution_count": null,
   "metadata": {
    "id": "OQsKvkCZ2xyM"
   },
   "outputs": [],
   "source": [
    "# bezpośrednie deklarowanie typu\n",
    "b1 = tf.constant([1, 2, 3, 4, 5, 6], dtype=tf.int16)\n",
    "print(b1)"
   ]
  },
  {
   "cell_type": "code",
   "execution_count": null,
   "metadata": {
    "id": "Pf4MYVSGROLK"
   },
   "outputs": [],
   "source": [
    "# Elementy tensory można rzutować pomiędzy różnymi typami za pomocą funkcji tf.cast\n",
    "print(b1.dtype)\n",
    "print(b1)\n",
    "\n",
    "print()\n",
    "b1 = tf.cast(b1, tf.float32)\n",
    "print(b1.dtype)\n",
    "print(b1)"
   ]
  },
  {
   "cell_type": "markdown",
   "metadata": {
    "id": "aeNn-uuFzMgj"
   },
   "source": [
    "### Podstawowe operacje na tensorach"
   ]
  },
  {
   "cell_type": "code",
   "execution_count": null,
   "metadata": {
    "id": "SdZgpVyQ7EZt"
   },
   "outputs": [],
   "source": [
    "# Przykładowy tensor rzędu 1\n",
    "rank1_tensor = tf.constant([0, 1, 2, 3, 4, 5, 6, 7, 8, 9, 10, 11])\n",
    "print(rank1_tensor)"
   ]
  },
  {
   "cell_type": "code",
   "execution_count": null,
   "metadata": {
    "id": "HgY4Bp_azwxS"
   },
   "outputs": [],
   "source": [
    "# Indeksowanie od zera\n",
    "print(f\"Pierwszy element tensora to {rank1_tensor[0]}\")  # pierwszy element ma indeks 0"
   ]
  },
  {
   "cell_type": "code",
   "execution_count": null,
   "metadata": {
    "id": "ypdKa0iE3DwU"
   },
   "outputs": [],
   "source": [
    "# Obsługa ujemnych indeksów\n",
    "print(f\"Ostatni element tensora to {rank1_tensor[-1]}\")"
   ]
  },
  {
   "cell_type": "code",
   "execution_count": null,
   "metadata": {
    "id": "l6dmnZ6l3Gpe"
   },
   "outputs": [],
   "source": [
    "# Obsługa wycinków\n",
    "print(f\"Co drugi element tensora od drugiego do siódmego to {rank1_tensor[1:8:2]}\")  "
   ]
  },
  {
   "cell_type": "code",
   "execution_count": null,
   "metadata": {
    "id": "lP-xi6O88TZU"
   },
   "outputs": [],
   "source": [
    "# Przykładowy tensor rzędu 2\n",
    "rank2_tensor = tf.constant(\n",
    "    [\n",
    "     [0, 1, 2, 3, 4, 5],\n",
    "     [6, 7, 8, 9, 10, 11]\n",
    "    ]\n",
    ")\n",
    "print(rank2_tensor)"
   ]
  },
  {
   "cell_type": "code",
   "execution_count": null,
   "metadata": {
    "id": "v1Rgzt3e9KjD"
   },
   "outputs": [],
   "source": [
    "# indeksowanie\n",
    "print(f\"Pierwszy element tensora to {rank2_tensor[0]}\")  # pierwszy element ma indeks 0"
   ]
  },
  {
   "cell_type": "code",
   "execution_count": null,
   "metadata": {
    "id": "BW6NBC6E3lzS"
   },
   "outputs": [],
   "source": [
    "# Zagnieżdżone indeksy\n",
    "print(f\"(metoda I) Pierwszy element pierwszego wiersza tensora to {rank2_tensor[0][0]}\")\n",
    "print(f\"(metoda II) Pierwszy element pierwszego wiersza tensora to {rank2_tensor[0, 0]}\")"
   ]
  },
  {
   "cell_type": "code",
   "execution_count": null,
   "metadata": {
    "id": "BLE-ZUjF3r97"
   },
   "outputs": [],
   "source": [
    "# Zagnieżdżone indeksy\n",
    "print(f\"(metoda I) Trzeci element drugiego wiersza tensora to {rank2_tensor[1][2]}\")\n",
    "print(f\"(metoda II) Trzeci element drugiego wiersza tensora to {rank2_tensor[1, 2]}\")"
   ]
  },
  {
   "cell_type": "code",
   "execution_count": null,
   "metadata": {
    "id": "3kCrUzMCFM7T"
   },
   "outputs": [],
   "source": [
    "# Uwaga! tf.Tensor jest typem niemodyfikowalnym (jak string czy tupla)\n",
    "\n",
    "rank2_tensor[1][2] = 5"
   ]
  },
  {
   "cell_type": "code",
   "execution_count": null,
   "metadata": {
    "id": "B7fA2s1RzXbl"
   },
   "outputs": [],
   "source": [
    "# Tworzymy dwa tensory\n",
    "a = tf.constant(\n",
    "    [\n",
    "     [2, 4], \n",
    "     [6, 8]\n",
    "    ], dtype=tf.float32\n",
    ")\n",
    "\n",
    "b = tf.constant(\n",
    "    [\n",
    "     [1, 3], \n",
    "     [5, 7]\n",
    "    ], dtype=tf.float32\n",
    ")"
   ]
  },
  {
   "cell_type": "code",
   "execution_count": null,
   "metadata": {
    "id": "Xy8g1poKz9vS"
   },
   "outputs": [],
   "source": [
    "# Dodawanie (\"po współrzędnych\", ang. element-wise)\n",
    "\n",
    "# metoda I (metoda add)\n",
    "print(tf.add(a,b))\n",
    "\n",
    "# metoda II (operator +)\n",
    "print(a+b)"
   ]
  },
  {
   "cell_type": "code",
   "execution_count": null,
   "metadata": {
    "id": "O982SejbPT8L"
   },
   "outputs": [],
   "source": [
    "# Odejmowanie (\"po współrzędnych\")\n",
    "\n",
    "# metoda I (metoda subtract)\n",
    "print(tf.subtract(a,b))\n",
    "\n",
    "# metoda II (operator -)\n",
    "print(a-b)"
   ]
  },
  {
   "cell_type": "code",
   "execution_count": null,
   "metadata": {
    "id": "ibZU-msy0QAj"
   },
   "outputs": [],
   "source": [
    "# mnożenie \"po współrzędnych\"\n",
    "\n",
    "# metoda I (funkcja multiply)\n",
    "print(tf.multiply(a, b))\n",
    "\n",
    "# metoda II (operator *)\n",
    "print(a*b)"
   ]
  },
  {
   "cell_type": "code",
   "execution_count": null,
   "metadata": {
    "id": "eE55sXliP3f8"
   },
   "outputs": [],
   "source": [
    "# dzielenie tensorów (\"po współrzędnych\")\n",
    "\n",
    "# metoda I (funkcja divide)\n",
    "print(tf.divide(a, b))\n",
    "\n",
    "# metoda II (operator /)\n",
    "print(a/b)"
   ]
  },
  {
   "cell_type": "code",
   "execution_count": null,
   "metadata": {
    "id": "-ikTQ3fYQGoy"
   },
   "outputs": [],
   "source": [
    "# modulo (\"po współrzędnych\")\n",
    "\n",
    "# metoda 1 (funckja modulo)\n",
    "print(tf.math.floormod(a, b))\n",
    "\n",
    "# metoda 2 (operator %)\n",
    "print(a%b)"
   ]
  },
  {
   "cell_type": "code",
   "execution_count": null,
   "metadata": {
    "id": "HIE-6C2m0lYy"
   },
   "outputs": [],
   "source": [
    "# mnożenie macierzowe\n",
    "\n",
    "# metoda I (funkcja matmul)\n",
    "print(tf.matmul(a, b))\n",
    "\n",
    "# metoda II (operator @)\n",
    "print(a @ b)"
   ]
  },
  {
   "cell_type": "code",
   "execution_count": null,
   "metadata": {
    "id": "uLCpTjyz05jq"
   },
   "outputs": [],
   "source": [
    "# znajdowanie maksymalnego elementu tensora\n",
    "print(f\"Maksymalna wartość elementów tensora a wynosi {tf.reduce_max(b)}\")"
   ]
  },
  {
   "cell_type": "code",
   "execution_count": null,
   "metadata": {
    "id": "IEiVVoma5aMW"
   },
   "outputs": [],
   "source": [
    "# znajdowanie minimalnego elementu tensora\n",
    "print(f\"Minimalna wartość elementów tensora b wynosi {tf.reduce_min(b)}\")"
   ]
  },
  {
   "cell_type": "code",
   "execution_count": null,
   "metadata": {
    "id": "iR2ePMhY5bsT"
   },
   "outputs": [],
   "source": [
    "# suma po wszystkich elementach tensora\n",
    "print(f\"Suma wartości wszsytkich elementów tensora b wynosi {tf.reduce_sum(b)}\")"
   ]
  },
  {
   "cell_type": "code",
   "execution_count": null,
   "metadata": {
    "id": "hjyi6W951kuB"
   },
   "outputs": [],
   "source": [
    "# znajdowanie indeksu maksymalnego elementu tensora\n",
    "print(f\"Indeks maksymalnego elementu tensora a wynosi {tf.argmax(a)}\")"
   ]
  },
  {
   "cell_type": "code",
   "execution_count": null,
   "metadata": {
    "id": "g9zB80n_5ijX"
   },
   "outputs": [],
   "source": [
    "# znajdowanie indeksu minimalnego elementu tensora\n",
    "print(f\"Indeks maksymalnego elementu tensora a wynosi {tf.argmin(a)}\")"
   ]
  },
  {
   "cell_type": "markdown",
   "metadata": {
    "id": "B1grNTcm6fR1"
   },
   "source": [
    "**Broadcasting**"
   ]
  },
  {
   "cell_type": "code",
   "execution_count": null,
   "metadata": {
    "id": "_rz-Mhklf39Q"
   },
   "outputs": [],
   "source": [
    "c = tf.constant(\n",
    "    [\n",
    "     [2, 4], \n",
    "     [6, 8]\n",
    "    ]\n",
    ")\n",
    "\n",
    "print(c)"
   ]
  },
  {
   "cell_type": "code",
   "execution_count": null,
   "metadata": {
    "id": "ncV5uNhTSsaC"
   },
   "outputs": [],
   "source": [
    "print(c+2)"
   ]
  },
  {
   "cell_type": "markdown",
   "metadata": {
    "id": "NPZPm35whA53"
   },
   "source": [
    "**Ciekawostka: Promocja typów (niejawne rzutownie aka koercja)**"
   ]
  },
  {
   "cell_type": "markdown",
   "metadata": {
    "id": "0mcoc0ajk7Dy"
   },
   "source": [
    "Przekazany obiekt, jeżeli wymaga tego wykonywana operacja zostanie zrzutowany na tensor przed wykonaniem tej operacji."
   ]
  },
  {
   "cell_type": "code",
   "execution_count": null,
   "metadata": {
    "id": "s3pyws5ehH8A"
   },
   "outputs": [],
   "source": [
    "d = tf.constant(\n",
    "    [\n",
    "     [2., 4.], \n",
    "     [6., 8.]\n",
    "    ]\n",
    ")\n",
    "\n",
    "print(d + [[1.,1.], [1.,1.]])  # rzutowanie listy na tensor"
   ]
  },
  {
   "cell_type": "code",
   "execution_count": null,
   "metadata": {},
   "outputs": [],
   "source": [
    "# Po zrzutowaniu listy intów na tensor otrzymujemy tensor typu int32\n",
    "tf.constant(\n",
    "    [\n",
    "        [1, 2],\n",
    "        [3, 4]\n",
    "    ]\n",
    ")"
   ]
  },
  {
   "cell_type": "code",
   "execution_count": null,
   "metadata": {
    "id": "5Ru0lQkHla6K"
   },
   "outputs": [],
   "source": [
    "# Niejawne rzutowanie dotyczy też typu (np. float, int) rzutowanego obiektu.\n",
    "\n",
    "print(d + [[1, 1], [1, 1]])  # w wyniku otrzymamy tensor typu float32 mimo, że lista\n",
    "# składa się z intów."
   ]
  },
  {
   "cell_type": "code",
   "execution_count": null,
   "metadata": {
    "id": "Jg-ziEdSl2HJ"
   },
   "outputs": [],
   "source": [
    "# Ta sama operacja na gotowych tensorach nie zadziała.\n",
    "print(d + tf.fill([2, 2], 1))"
   ]
  },
  {
   "cell_type": "markdown",
   "metadata": {
    "id": "e1OIp73gnIAI"
   },
   "source": [
    "Tensory nie są niejawnie rzutowane, ale obiekty dopiero rzutowane na tensory mogą."
   ]
  },
  {
   "cell_type": "code",
   "execution_count": null,
   "metadata": {
    "id": "iAwiOQhQmDfq"
   },
   "outputs": [],
   "source": [
    "# Niejawne rzutowanie na int, float dotyczy tylko obiektów dopiero rzutowanych\n",
    "# na tensory i zachodzi przed zrzutowaniem ich na tensor (i przed broadcastingiem\n",
    "# jeżeli potrzebny).\n",
    "\n",
    "print(d+2)"
   ]
  },
  {
   "cell_type": "code",
   "execution_count": null,
   "metadata": {
    "id": "wTn16mUIhzsd"
   },
   "outputs": [],
   "source": [
    "# Nie jawne rzutowanie (na int, float) nie zadziała jeżeli musiałoby (zgodnie z\n",
    "# hierarchią typów) zostać wykonane na już stworzonym tensorze.\n",
    "e = tf.constant(\n",
    "    [\n",
    "     [2, 4], \n",
    "     [6, 8]\n",
    "    ]\n",
    ")\n",
    "\n",
    "print(e+2.)"
   ]
  },
  {
   "cell_type": "markdown",
   "metadata": {
    "id": "jM8_mi3yOem3"
   },
   "source": [
    "**Zaawansowane operacje na tensorach**"
   ]
  },
  {
   "cell_type": "markdown",
   "metadata": {
    "id": "49bhT7qF8iXH"
   },
   "source": [
    "##### Zmiana kształtu tensora"
   ]
  },
  {
   "cell_type": "code",
   "execution_count": null,
   "metadata": {
    "id": "mmCWfTtaKlS9"
   },
   "outputs": [],
   "source": [
    "# stworznie tensora (wektor wierszowy)\n",
    "a = tf.constant([1, 2, 3, 4, 5, 6])\n",
    "print(f'Kształt tensora {a} - {a.shape}')\n",
    "\n",
    "# Dopuszczalne są zmiany kształtów nie zmieniające rozmiaru (size) tensora."
   ]
  },
  {
   "cell_type": "code",
   "execution_count": null,
   "metadata": {
    "id": "sp1BZh0G8IXb"
   },
   "outputs": [],
   "source": [
    "# zmiana kształtu (wektor kolumnowy) \n",
    "b = tf.reshape(a, (6, 1))\n",
    "print(f\"Kształt tensora {b} - {b.shape}\")"
   ]
  },
  {
   "cell_type": "code",
   "execution_count": null,
   "metadata": {
    "id": "fT4YWOHa8ILa"
   },
   "outputs": [],
   "source": [
    "# zmiana kształtu (macierz)\n",
    "c = tf.reshape(a, (2, 3))\n",
    "print(f\"Kształt tensora {c} - {c.shape}\")"
   ]
  },
  {
   "cell_type": "code",
   "execution_count": null,
   "metadata": {
    "id": "NrRVlqj78IF1"
   },
   "outputs": [],
   "source": [
    "# spłaszczenie wektora - (-1,)\n",
    "d = tf.reshape(a, (-1,))\n",
    "print(f\"Spłaszczony wektor {d} - {d.shape}\")"
   ]
  },
  {
   "cell_type": "code",
   "execution_count": null,
   "metadata": {
    "id": "sm-60Ovf8H7B"
   },
   "outputs": [],
   "source": [
    "# dopasowywanie pozostałych wymiarów do wymiarów zadanych (-1)\n",
    "e = tf.reshape(a, (2, -1))\n",
    "print(f\"Spłaszczony wektor {e} - {e.shape}\")"
   ]
  },
  {
   "cell_type": "markdown",
   "metadata": {
    "id": "TD54jRhi8w2P"
   },
   "source": [
    "##### Broadcasting c.d."
   ]
  },
  {
   "cell_type": "code",
   "execution_count": null,
   "metadata": {
    "id": "bVz9gHRNWQMA"
   },
   "outputs": [],
   "source": [
    "# wektor rzędu 0\n",
    "m = tf.constant([5])\n",
    "\n",
    "# wektor rzędu 2\n",
    "n = tf.constant([[1,2],[3,4]])\n",
    "\n",
    "print(tf.multiply(m, n))"
   ]
  },
  {
   "cell_type": "markdown",
   "metadata": {
    "id": "8zfyAgFm82Lq"
   },
   "source": [
    "##### Gradient"
   ]
  },
  {
   "cell_type": "code",
   "execution_count": null,
   "metadata": {
    "id": "FqM8tZwrlI_E"
   },
   "outputs": [],
   "source": [
    "x = tf.Variable(-1.0)\n",
    "\n",
    "# y = x*x (wewnątrz menadżera kontekstu GradientTape)\n",
    "with tf.GradientTape() as tape:\n",
    "  tape.watch(x)  # zmienna wzdłuż której liczymy zmianę\n",
    "  y = tf.multiply(x, x)  # y=x^2 (parabola)\n",
    "\n",
    "# Liczymy gradient y w punkcie x = -1 (nachylenie stycznej do wykresu y)\n",
    "g = tape.gradient(y, x)\n",
    "print(g)\n",
    "print(g.numpy())  # co oznacza, że jesteśmy na krzywej spadającej i powinniśmy\n",
    "# iść dalej w jej kierunku (zwiększyć x)"
   ]
  },
  {
   "cell_type": "markdown",
   "metadata": {
    "id": "YLwPfgEiZl9-"
   },
   "source": [
    "**Szczególne rodzaje tensorów**"
   ]
  },
  {
   "cell_type": "code",
   "execution_count": null,
   "metadata": {
    "id": "1do9lfesZoYO"
   },
   "outputs": [],
   "source": [
    "# tensor nierówny (niezalecany)\n",
    "ragged_list = [[1, 2, 3],[4, 5],[6]]\n",
    "ragged_tensor = tf.ragged.constant(ragged_list)\n",
    "\n",
    "print(ragged_tensor)"
   ]
  },
  {
   "cell_type": "code",
   "execution_count": null,
   "metadata": {
    "id": "_imvCmEAZ0L9"
   },
   "outputs": [],
   "source": [
    "# tensor napisów\n",
    "string_tensor = tf.constant([\"W ten sposób\", \n",
    "                             \"tworzymy\", \n",
    "                             \"tensor napisów\"])\n",
    "\n",
    "print(string_tensor)"
   ]
  },
  {
   "cell_type": "code",
   "execution_count": null,
   "metadata": {
    "id": "_e3R7VBkaBzc"
   },
   "outputs": [],
   "source": [
    "# tensor rzadki\n",
    "sparse_tensor = tf.sparse.SparseTensor(\n",
    "    indices=[[0, 0], [2, 2], [4, 4]], \n",
    "    values=[25, 50, 100], \n",
    "    dense_shape=[5, 5]\n",
    ")\n",
    "\n",
    "print(sparse_tensor)"
   ]
  },
  {
   "cell_type": "code",
   "execution_count": null,
   "metadata": {
    "id": "IebJ1_u7akX1"
   },
   "outputs": [],
   "source": [
    "# Jawne wyświetlenie rzadkiego tensora \n",
    "print(tf.sparse.to_dense(sparse_tensor))"
   ]
  },
  {
   "cell_type": "markdown",
   "metadata": {
    "id": "aJXF1vcNMNd2"
   },
   "source": [
    "## Variable"
   ]
  },
  {
   "cell_type": "markdown",
   "metadata": {
    "id": "IQQwxSLaMUXN"
   },
   "source": [
    "### Tworzenie"
   ]
  },
  {
   "cell_type": "code",
   "execution_count": null,
   "metadata": {
    "id": "UTYyoRxeMRHl"
   },
   "outputs": [],
   "source": [
    "# Stworzenie obiektu klasy tf.Tensor\n",
    "a = tf.constant(\n",
    "    [\n",
    "     [0.0, 1.0],\n",
    "     [2.0, 3.0]\n",
    "    ]\n",
    ")\n",
    "\n",
    "# rzutowanie obiektu klasy tf.Tensor na obiekt klasy tf.Variable\n",
    "# (inicjalizowanie obiektu klasy tf.Variable obiektem klasy tf.Tensor)\n",
    "var_a = tf.Variable(a)\n",
    "print(var_a)"
   ]
  },
  {
   "cell_type": "code",
   "execution_count": null,
   "metadata": {
    "id": "AsAFZDTMMyzW"
   },
   "outputs": [],
   "source": [
    "# Podobnie jak obiekt klasy tf.Tensor, obiekt klasy tf.Variable możemy \n",
    "# inicjalizować za pomocą:\n",
    "\n",
    "# intów\n",
    "var_b = tf.Variable(10000)\n",
    "print(var_b)"
   ]
  },
  {
   "cell_type": "code",
   "execution_count": null,
   "metadata": {
    "id": "NMRJ6XwCNBG2"
   },
   "outputs": [],
   "source": [
    "# list\n",
    "c = [[0.0, 1.0],\n",
    "     [2.0, 3.0]]\n",
    "var_c = tf.Variable(c)\n",
    "print(var_c)"
   ]
  },
  {
   "cell_type": "code",
   "execution_count": null,
   "metadata": {
    "id": "8xTEbxlfNKF0"
   },
   "outputs": [],
   "source": [
    "# napisów\n",
    "var_d = tf.Variable(\"String example\")\n",
    "print(var_d)"
   ]
  },
  {
   "cell_type": "code",
   "execution_count": null,
   "metadata": {
    "id": "pEVCw3ftNYhE"
   },
   "outputs": [],
   "source": [
    "e = [\"Hello, World!\", \n",
    "     \"This is an\", \n",
    "     \"example of\", \n",
    "     \"TensorFlow Variable\"]\n",
    "\n",
    "var_e = tf.Variable(e)\n",
    "print(var_e)"
   ]
  },
  {
   "cell_type": "markdown",
   "metadata": {
    "id": "wUIPuDB2aA5P"
   },
   "source": [
    "### Atrybuty i metody"
   ]
  },
  {
   "cell_type": "code",
   "execution_count": null,
   "metadata": {
    "id": "HFZBBHMC_RLH"
   },
   "outputs": [],
   "source": [
    "dir(var_c)"
   ]
  },
  {
   "cell_type": "code",
   "execution_count": null,
   "metadata": {
    "id": "oii2CHzN_usZ"
   },
   "outputs": [],
   "source": [
    "var_c[3] = 5.  # elementy obiektów klasy tf.Variable, podobnie jak\n",
    "# elementy obiektów klasy tf.Tensor nie obsługują operatora przypisania\n"
   ]
  },
  {
   "cell_type": "markdown",
   "metadata": {
    "id": "5icFGIOU-0Ih"
   },
   "source": [
    "##### Metoda assign"
   ]
  },
  {
   "cell_type": "code",
   "execution_count": null,
   "metadata": {
    "id": "pWediuKyZ_3b"
   },
   "outputs": [],
   "source": [
    "# Poza atrybutami i metodami odziedziczonymi po klasie tf.Tensor obiekty\n",
    "# klasy tf.Variable posiadają m.in. metodę assign. Za pomocą funkcji\n",
    "# assign możemy zmieniać wartość tensora (typu Variable).\n",
    "\n",
    "var_c.assign(([[2, 100], [1, 10]]))\n",
    "print(var_c)"
   ]
  },
  {
   "cell_type": "code",
   "execution_count": null,
   "metadata": {
    "id": "S0Bn20_wjrBE"
   },
   "outputs": [],
   "source": [
    "var_c.assign_add(tf.fill([2, 2], 5.))\n",
    "print(var_c)"
   ]
  },
  {
   "cell_type": "code",
   "execution_count": null,
   "metadata": {
    "id": "lY6Uvy1KkB_H"
   },
   "outputs": [],
   "source": [
    "var_c.assign_sub([[3, 3], [3, 3]])  # niejawne rzutowanie (zasady identyczne jak przy tf.Tensor)\n",
    "print(var_c)"
   ]
  },
  {
   "cell_type": "code",
   "execution_count": null,
   "metadata": {
    "id": "JlEaqx-0-zN_"
   },
   "outputs": [],
   "source": [
    "# Ale typ tensora musi pozostać ten sam\n",
    "print(var_e)\n",
    "var_e.assign(([[2, 100], [1, 10]]))"
   ]
  },
  {
   "cell_type": "markdown",
   "metadata": {
    "id": "0DHwzJAiSHnb"
   },
   "source": [
    "## Dodatki"
   ]
  },
  {
   "cell_type": "markdown",
   "metadata": {
    "id": "7GQoMbShSJaB"
   },
   "source": [
    "### Grafy obliczeniowe"
   ]
  },
  {
   "cell_type": "code",
   "execution_count": null,
   "metadata": {
    "id": "8owGwYVFTThn"
   },
   "outputs": [],
   "source": [
    "# eager execution\n",
    "def eager_function(x):\n",
    "  \"\"\"Funckja podnosi do kwadratu parametr x, a następnie zwraca go.\"\"\"\n",
    "  result = x ** 2\n",
    "  print(result)  # w graph execution wynik w tym miejscu nie bedzie jeszcze wyliczony\n",
    "  return result\n",
    "\n",
    "x = tf.constant([1.0, 2.0, 3.0, 4.0, 5.0])\n",
    "\n",
    "res = eager_function(x)"
   ]
  },
  {
   "cell_type": "code",
   "execution_count": null,
   "metadata": {
    "id": "0NfcrYtAT7c-"
   },
   "outputs": [],
   "source": [
    "# graph execution (dekorator tf.function)\n",
    "graph_function = tf.function(eager_function)\n",
    "res = graph_function(x);"
   ]
  },
  {
   "cell_type": "code",
   "execution_count": null,
   "metadata": {
    "id": "uch4j-YIX90k"
   },
   "outputs": [],
   "source": [
    "print(res)"
   ]
  },
  {
   "cell_type": "code",
   "execution_count": null,
   "metadata": {
    "id": "SzsOIIwVVWqm"
   },
   "outputs": [],
   "source": [
    "# zróbmy benchmarking\n",
    "import timeit\n",
    "\n",
    "print(f\"Eager time: {timeit.timeit(lambda: eager_function(x), number=1)}\")\n",
    "print(f\"Graph time: {timeit.timeit(lambda: graph_function(x), number=1)}\")"
   ]
  },
  {
   "cell_type": "markdown",
   "metadata": {
    "id": "q-4xjfOKnvhP"
   },
   "source": [
    "Nie bardzo pomogło. Dla prostych przykładów jest nieprzydatne, ponieważ stworzenie grafu od początku zajmuje jakiś czas. Różnica na korzyść grafów obliczeniowych staje się coraz bardziej widoczna wraz ze wzrostem złożoności modelu."
   ]
  },
  {
   "cell_type": "markdown",
   "metadata": {
    "id": "UVMpg-N269-p"
   },
   "source": [
    "### Wyskopoziomowe api Keras"
   ]
  },
  {
   "cell_type": "markdown",
   "metadata": {
    "id": "eMMsjfrc7HED"
   },
   "source": [
    "Przykład dotyczy funkcji kosztów. Dostępne w Keras, popularne funkcje kosztu używane z modelami liniowymi to\n",
    "\n",
    "| Funkcja               | Pełna nazwa                |\n",
    "| --------------------- |:---------------------------|\n",
    "| tf.keras.losses.mse   | Mean Squre Error (MSE)     |\n",
    "| tf.keras.losses.mae   | Mean Absolute Error (MAE)  |\n",
    "| tf.keras.losses.Huber | Huber Error                |\n"
   ]
  },
  {
   "cell_type": "code",
   "execution_count": null,
   "metadata": {
    "id": "o0WvMgxj69aR"
   },
   "outputs": [],
   "source": [
    "import requests\n",
    "from io import StringIO\n",
    "import numpy as np\n",
    "\n",
    "\n",
    "# po obliczniu prognozowanych wyników i przypisaniu ich do zmiennej predictions\n",
    "# średni kwadratowy błąd prognozy możemy znaleźć za pomocą wywołania \n",
    "# tf.keras.losses.mse\n",
    "\n",
    "# Wczytajmy ceny domów (zapisane w pliku targets.csv) i wyliczone przez wyuczony \n",
    "# model prognozowane ceny domów (zapisane w pliku predictions.csv)\n",
    "\n",
    "targets_response = requests.get(\n",
    "    \"https://raw.githubusercontent.com/jgrynczewski/tensorflow_intro/master/targets.csv\"\n",
    ")\n",
    "raw_targets = targets_response.text\n",
    "\n",
    "predictions_response = requests.get(\n",
    "    \"https://raw.githubusercontent.com/jgrynczewski/tensorflow_intro/master/predictions.csv\"\n",
    ")\n",
    "raw_predictions = predictions_response.text\n",
    "\n",
    "# rzutowanie danych do tablicy numpy\n",
    "targets_numpy = np.genfromtxt(StringIO(raw_targets), delimiter=',')\n",
    "predictions_numpy = np.genfromtxt(StringIO(raw_predictions), delimiter=',')\n",
    "\n",
    "loss = tf.keras.losses.mse(targets_numpy, predictions_numpy)\n",
    "print(loss)"
   ]
  },
  {
   "cell_type": "code",
   "execution_count": null,
   "metadata": {},
   "outputs": [],
   "source": []
  }
 ],
 "metadata": {
  "accelerator": "GPU",
  "colab": {
   "collapsed_sections": [],
   "name": "tf2.0-notatki.ipyn",
   "provenance": []
  },
  "kernelspec": {
   "display_name": "Python 3 (ipykernel)",
   "language": "python",
   "name": "python3"
  },
  "language_info": {
   "codemirror_mode": {
    "name": "ipython",
    "version": 3
   },
   "file_extension": ".py",
   "mimetype": "text/x-python",
   "name": "python",
   "nbconvert_exporter": "python",
   "pygments_lexer": "ipython3",
   "version": "3.11.1"
  }
 },
 "nbformat": 4,
 "nbformat_minor": 1
}
