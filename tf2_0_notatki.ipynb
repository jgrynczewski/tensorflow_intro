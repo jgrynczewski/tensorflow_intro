{
 "cells": [
  {
   "cell_type": "markdown",
   "metadata": {
    "id": "Xm8qpbpCY8D4"
   },
   "source": [
    "# Biblioteka TensorFlow"
   ]
  },
  {
   "cell_type": "markdown",
   "metadata": {
    "id": "-YkCDNRTZCc_"
   },
   "source": [
    "### Importowanie biblioteki"
   ]
  },
  {
   "cell_type": "code",
   "execution_count": 1,
   "metadata": {
    "id": "PsSKSOVcvYp0"
   },
   "outputs": [
    {
     "name": "stdout",
     "output_type": "stream",
     "text": [
      "2.12.0\n"
     ]
    }
   ],
   "source": [
    "#!pip install tensorflow==1.15.0\n",
    "import tensorflow as tf\n",
    "\n",
    "print(tf.__version__)"
   ]
  },
  {
   "cell_type": "markdown",
   "metadata": {},
   "source": [
    "Tensorflow jak sama nazwa wskazuje to biblioteka do pracy z tensorami. W Tensorflow tensory są to wielowymiarowe tablice o jednolitym typie (`dtype`)."
   ]
  },
  {
   "cell_type": "markdown",
   "metadata": {
    "id": "CS5GxPje1g-I"
   },
   "source": [
    "Dwie podstawowe klasy biblioteki tensorflow reprezentujące tenosory to:\n",
    "* tf.Tensor (tensor niemodyfikowalny, niezmienny podobnie jak liczba czy łańcuch znaków w pythonie)\n",
    "* tf.Variable (tensor modyfikowalny)"
   ]
  },
  {
   "cell_type": "markdown",
   "metadata": {
    "id": "9W0pFtqS1wJe"
   },
   "source": [
    "## tf.Tensor"
   ]
  },
  {
   "cell_type": "markdown",
   "metadata": {
    "id": "zuxrnaUEZFWn"
   },
   "source": [
    "### Tworzenie obiektów klasy tf.Tensor"
   ]
  },
  {
   "cell_type": "markdown",
   "metadata": {},
   "source": [
    "Twórcy tensorflow nie zalecają bezpośredniego inicjalizowania obiektów klasy `tf.Tensor`. Zamiast tego udostępniają rodzinę funkcji fabrykujących (takich jak `tf.constant` czy `tf.zeros`), które odpowiadają za tworzenie obiektów klasy tf.Tensor."
   ]
  },
  {
   "cell_type": "code",
   "execution_count": null,
   "metadata": {
    "id": "gy_Upz37ZPuq"
   },
   "outputs": [],
   "source": [
    "# Obiekt klasy tf.Tensor możemy tworzyć za pomocą funkcji tf.constant\n",
    "x = tf.constant([[1, 2, 3, 4 ,5]]) # parametrem przekazanym do funkcji constant\n",
    "# może być int, float, string, boolean oraz dowolny typ iterowalny (np. tablica \n",
    "# numpy, instancja klasy tf.Tensor, generator range)\n",
    "\n",
    "print(x)"
   ]
  },
  {
   "cell_type": "code",
   "execution_count": null,
   "metadata": {
    "id": "XDGwwR24ZDUf"
   },
   "outputs": [],
   "source": [
    "# Obiekt klasy tf.Tensor składający się wyłącznie z jedynek możemy stworzyć za \n",
    "# pomocą funkcji tf.ones\n",
    "y = tf.ones((1,5))\n",
    "\n",
    "print(y)"
   ]
  },
  {
   "cell_type": "code",
   "execution_count": null,
   "metadata": {
    "id": "2T8BHQ7XZJWH"
   },
   "outputs": [],
   "source": [
    "# Obiekt klasy tf.Tensor składający się wyłącznie z jedynek o typie i kształcie \n",
    "# identycznych jak zadany tensor możemy stworzyć za pomocą funkcji tf.ones_like\n",
    "z = tf.ones_like(x)\n",
    "\n",
    "print(z)  "
   ]
  },
  {
   "cell_type": "code",
   "execution_count": null,
   "metadata": {
    "id": "sV2eXCsD0YcK"
   },
   "outputs": [],
   "source": [
    "# Obiekt klasy tf.Tensor składający się wyłącznie z zer możemy stworzyć za \n",
    "# pomocą funkcji tf.zeros\n",
    "p = tf.zeros((1,5))\n",
    "\n",
    "print(p)"
   ]
  },
  {
   "cell_type": "code",
   "execution_count": null,
   "metadata": {
    "id": "621ejKgN0ZKw"
   },
   "outputs": [],
   "source": [
    "# Obiekt klasy tf.Tensor składający się wyłącznie z zer o typie i kształcie \n",
    "# identycznych jak zadany tensor możemy stworzyć za pomocą funkcji tf.zeros_like\n",
    "q = tf.zeros_like(x)\n",
    "\n",
    "print(q)"
   ]
  },
  {
   "cell_type": "code",
   "execution_count": null,
   "metadata": {
    "id": "p8QIx9lR0Zeg"
   },
   "outputs": [],
   "source": [
    "# Obiekt klasy tf.Tensor składający się ze wskazanego zakresu liczb możemy \n",
    "# stworzyć za pomocą funkcji tf.range\n",
    "t = tf.range(start=1, limit=6, delta=1)\n",
    "\n",
    "print(t)"
   ]
  },
  {
   "cell_type": "code",
   "execution_count": null,
   "metadata": {
    "id": "DLssLBJW0ZvZ"
   },
   "outputs": [],
   "source": [
    "# Obiekt klasy tf.Tensor o zadanym kształcie wypełniony elementami zadanej, \n",
    "# jednakowej wartości możemy stworzyć za pomocą funkcji tf.fill\n",
    "r = tf.fill([3,3], 7)\n",
    "\n",
    "print(r)"
   ]
  },
  {
   "cell_type": "code",
   "execution_count": null,
   "metadata": {
    "id": "7xnmeE7j0iP3"
   },
   "outputs": [],
   "source": [
    "# Obiekt klasy tf.Tensor o zadanym kształcie wypełniony losowymi wartościami\n",
    "# pochodzącymi z rozkładu normalnego o zadanych średniej i odchyleniu standardowym\n",
    "# możemy stworzyć za pomocą funkcji tf.random.normal\n",
    "s = tf.random.normal(\n",
    "    shape=[2, 2],\n",
    "    mean=0.0,\n",
    "    stddev=1.0,\n",
    "    dtype=tf.dtypes.float32,\n",
    ")\n",
    "\n",
    "print(s)"
   ]
  },
  {
   "cell_type": "markdown",
   "metadata": {
    "id": "4HIjYeyHcWWl"
   },
   "source": [
    "### Charakterystyki tensorów"
   ]
  },
  {
   "cell_type": "code",
   "execution_count": null,
   "metadata": {
    "id": "91y8LqKhcahs"
   },
   "outputs": [],
   "source": [
    "# Tworzymy tensor\n",
    "\n",
    "matrix = [\n",
    "           [\n",
    "            [0, 1, 2],\n",
    "            [3, 4, 5]\n",
    "           ],\n",
    "           [\n",
    "            [6, 7, 8],\n",
    "            [9, 10, 11]\n",
    "           ]\n",
    "]\n",
    "\n",
    "tensor = tf.constant(matrix)\n",
    "print(tensor)"
   ]
  },
  {
   "cell_type": "markdown",
   "metadata": {
    "id": "3OabdWwceMMT"
   },
   "source": [
    "1. Rząd tensora (liczba osi)"
   ]
  },
  {
   "cell_type": "code",
   "execution_count": null,
   "metadata": {
    "id": "1zHtMHarc5qU"
   },
   "outputs": [],
   "source": [
    "# rząd (ang. rank aka degree) tensora możemy sprawdzić za pomocą atrybutu ndim\n",
    "print(f\"Tensor jest rzędu {tensor.ndim}\")\n",
    "\n",
    "# oraz za pomocą funkcji tf.rank(). Funkcja zwraca tensor rzędu 0 (aka skalar) o wartości równej\n",
    "# rzędowi przekazanego tensora\n",
    "print(tf.rank(tensor))"
   ]
  },
  {
   "cell_type": "code",
   "execution_count": null,
   "metadata": {
    "id": "IpKxPx_I5e6j"
   },
   "outputs": [],
   "source": [
    "# tensor rzędu 0 (aka skalar, tensor skalarny, zawiera pojedynczą wartość i nie zawiera \"osi\")\n",
    "d0 = tf.constant(2)\n",
    "print(d0.ndim)"
   ]
  },
  {
   "cell_type": "code",
   "execution_count": null,
   "metadata": {
    "id": "0376LWf37esK"
   },
   "outputs": [],
   "source": [
    "# tensor rzędu 1 (aka wektor, tensor wektorowy, posiada jedną oś)\n",
    "d1 = tf.constant([2, 2, 2])\n",
    "print(d1.ndim)"
   ]
  },
  {
   "cell_type": "code",
   "execution_count": null,
   "metadata": {
    "id": "typd5aaQ7fD5"
   },
   "outputs": [],
   "source": [
    "# tensor rzędu 2 (aka macierz, tensor macierzowy, posiada dwie osie)\n",
    "d2 = tf.constant([[2, 2, 2], [2, 2, 2]])\n",
    "print(d2.ndim)"
   ]
  },
  {
   "cell_type": "code",
   "execution_count": null,
   "metadata": {
    "id": "oygUKSGj5i6L"
   },
   "outputs": [],
   "source": [
    "# tensor rzędu 2\n",
    "d2 = tf.ones((4, 4))  # rząd - liczba współrzędnych potrzebna do opisania pojedynczego elementu tensora\n",
    "print(d2.ndim)"
   ]
  },
  {
   "cell_type": "markdown",
   "metadata": {},
   "source": [
    "Rząd tensora możemy również utożsamić z najgłębszym poziomem zagnieżdżenia jego elementów. \n",
    "\n",
    "$2$ - rząd 0\n",
    "\n",
    "$[2,2,2]$ - rząd 1\n",
    "\n",
    "$[[2,2,2], [2,2,2]]$ - rząd 2"
   ]
  },
  {
   "cell_type": "code",
   "execution_count": null,
   "metadata": {},
   "outputs": [],
   "source": [
    "# tensor rzędu 3 (posiada trzy osie)\n",
    "d3 = tf.constant([\n",
    "    [\n",
    "        [0, 1, 2, 3, 4],\n",
    "        [5, 6, 7, 8, 9]\n",
    "    ],\n",
    "    [\n",
    "        [10, 11, 12, 13, 14],\n",
    "        [15, 16, 17, 18, 19]\n",
    "    ],\n",
    "    [\n",
    "        [20, 21, 22, 23 ,24],\n",
    "        [25, 26, 27, 28, 29]\n",
    "    ]\n",
    "])\n",
    "print(d3)"
   ]
  },
  {
   "cell_type": "markdown",
   "metadata": {},
   "source": [
    "Przykładowe interpretacje tensora rank-3 (trzeciego rzędu)"
   ]
  },
  {
   "attachments": {
    "tensors1.png": {
     "image/png": "[encoded data removed]"
    }
   },
   "cell_type": "markdown",
   "metadata": {},
   "source": [
    "![tensors1.png](attachment:tensors1.png)"
   ]
  },
  {
   "cell_type": "markdown",
   "metadata": {},
   "source": [
    "**Od lewej**: obraz kolorowy, zestaw filtrów przykładanych do obrazu (sieci konwolucyjne), szeregi czasowe (sieci rekurencyjne)."
   ]
  },
  {
   "cell_type": "markdown",
   "metadata": {},
   "source": [
    "Tensorem czwartego rzędu może być np. plik video (czyli sekwencja obrazów)."
   ]
  },
  {
   "cell_type": "markdown",
   "metadata": {
    "id": "1OlLGyPoeWNL"
   },
   "source": [
    "2. Kształt tensora"
   ]
  },
  {
   "cell_type": "code",
   "execution_count": null,
   "metadata": {
    "id": "QZeNSeUQdHnL"
   },
   "outputs": [],
   "source": [
    "# kształt (czyli długość poszczególnych osi) tensora możemy sprawdzić za pomocą atrybutu shape\n",
    "print(f\"Kształt tensora to {tensor.shape}\")\n",
    "\n",
    "# oraz za pomocą funkcji tf.shape(). Funkcja zwraca tensor rzędu 1 o wartości\n",
    "# równej kształtowi przekazanego tensora\n",
    "print(tf.shape(tensor))"
   ]
  },
  {
   "cell_type": "markdown",
   "metadata": {
    "id": "1h1MXAJkeZWa"
   },
   "source": [
    "3.    Rozmiar tensora"
   ]
  },
  {
   "cell_type": "code",
   "execution_count": null,
   "metadata": {
    "id": "HAi4Uv4adibL"
   },
   "outputs": [],
   "source": [
    "# rozmiar (czyli liczbę wszystkich elementów) tensora możemy sprawdzić za pomocą funkcji tf.size(). Funkcja zwraca \n",
    "# tensor rzędu 0 z informacją o rozmiarze przekazanego tensora\n",
    "print(tf.size(tensor))"
   ]
  },
  {
   "cell_type": "markdown",
   "metadata": {
    "id": "3BMUL1l8ecYF"
   },
   "source": [
    "4.    Typ tensora"
   ]
  },
  {
   "cell_type": "code",
   "execution_count": null,
   "metadata": {
    "id": "4oRoV0NTeCDk"
   },
   "outputs": [],
   "source": [
    "# Typ elementów tensora możemy sprawdzić za pomocą atrybutu dtype\n",
    "print(f\"Typ elementów tensora to {tensor.dtype}\")\n",
    "\n",
    "# listę wszystkich dostępnych w bibliotece tensorflow typów można znaleźć tutaj: \n",
    "# https://www.tensorflow.org/api_docs/python/tf/dtypes"
   ]
  },
  {
   "cell_type": "code",
   "execution_count": null,
   "metadata": {
    "id": "69VQiqJt6Lq2"
   },
   "outputs": [],
   "source": [
    "# Dostępne atrybuty i metody obiektu tf.Tensor\n",
    "dir(tensor)"
   ]
  },
  {
   "cell_type": "code",
   "execution_count": null,
   "metadata": {
    "id": "GdhT9AovRp7B"
   },
   "outputs": [],
   "source": [
    "# Wartość przechowywaną w obiekcie tf.Tensor można otrzymać za pomocą metody numpy()\n",
    "print(f\"{tensor.numpy()}\")"
   ]
  },
  {
   "cell_type": "code",
   "execution_count": null,
   "metadata": {},
   "outputs": [],
   "source": [
    "# metody numpy, zwraca obiekt, który jest tensorem zrzutowanym na typ ndarray (numpy array)\n",
    "print(f\"{type(tensor.numpy())}\")"
   ]
  },
  {
   "cell_type": "code",
   "execution_count": null,
   "metadata": {
    "id": "1NtWrOfR4iFv"
   },
   "outputs": [],
   "source": [
    "# Urządzenie na którym obiekt tf.Tensor jest liczony możemy sprawdzić za pomocą atrybutu device\n",
    "print(f\"{tensor.device}\")"
   ]
  },
  {
   "cell_type": "markdown",
   "metadata": {
    "id": "vSipnjakPz77"
   },
   "source": [
    "Podczas tworzenia obiektu klasy tf.Tensor można zadeklarować jego kształt lub typ"
   ]
  },
  {
   "cell_type": "code",
   "execution_count": null,
   "metadata": {
    "id": "5CGnIXwRQbPy"
   },
   "outputs": [],
   "source": [
    "# bezpośrednie deklarowanie kształtu\n",
    "a0 = tf.constant(3, shape=[2, 3])\n",
    "\n",
    "print(a0)"
   ]
  },
  {
   "cell_type": "code",
   "execution_count": null,
   "metadata": {
    "id": "0lMGVHR42oMm"
   },
   "outputs": [],
   "source": [
    "# bezpośrednie deklarowanie kształtu\n",
    "a1 = tf.constant([1, 2, 3, 4], shape=[2, 2])\n",
    "\n",
    "print(a1)"
   ]
  },
  {
   "cell_type": "code",
   "execution_count": null,
   "metadata": {
    "id": "xY1tJzHI2hnK"
   },
   "outputs": [],
   "source": [
    "# bezpośrednie deklarowanie typu\n",
    "b0 = tf.constant([1, 2, 3, 4, 5, 6], dtype=tf.float32)\n",
    "print(b0)"
   ]
  },
  {
   "cell_type": "code",
   "execution_count": null,
   "metadata": {
    "id": "OQsKvkCZ2xyM"
   },
   "outputs": [],
   "source": [
    "# bezpośrednie deklarowanie typu\n",
    "b1 = tf.constant([1, 2, 3, 4, 5, 6], dtype=tf.int16)\n",
    "print(b1)"
   ]
  },
  {
   "cell_type": "code",
   "execution_count": null,
   "metadata": {
    "id": "Pf4MYVSGROLK"
   },
   "outputs": [],
   "source": [
    "# Elementy tensory można rzutować pomiędzy różnymi typami za pomocą funkcji tf.cast\n",
    "print(b1.dtype)\n",
    "print(b1)\n",
    "\n",
    "print()\n",
    "b1 = tf.cast(b1, tf.float32)\n",
    "print(b1.dtype)\n",
    "print(b1)"
   ]
  },
  {
   "cell_type": "markdown",
   "metadata": {
    "id": "aeNn-uuFzMgj"
   },
   "source": [
    "### Podstawowe operacje na tensorach"
   ]
  },
  {
   "cell_type": "code",
   "execution_count": null,
   "metadata": {
    "id": "SdZgpVyQ7EZt"
   },
   "outputs": [],
   "source": [
    "# Przykładowy tensor rzędu 1\n",
    "rank1_tensor = tf.constant([0, 1, 2, 3, 4, 5, 6, 7, 8, 9, 10, 11])\n",
    "print(rank1_tensor)"
   ]
  },
  {
   "cell_type": "markdown",
   "metadata": {},
   "source": [
    "#### Indeksowanie"
   ]
  },
  {
   "cell_type": "code",
   "execution_count": null,
   "metadata": {
    "id": "HgY4Bp_azwxS"
   },
   "outputs": [],
   "source": [
    "# Indeksowanie od zera\n",
    "print(f\"Pierwszy element tensora to {rank1_tensor[0]}\")  # pierwszy element ma indeks 0"
   ]
  },
  {
   "cell_type": "code",
   "execution_count": null,
   "metadata": {
    "id": "ypdKa0iE3DwU"
   },
   "outputs": [],
   "source": [
    "# Obsługa ujemnych indeksów\n",
    "print(f\"Ostatni element tensora to {rank1_tensor[-1]}\")"
   ]
  },
  {
   "cell_type": "code",
   "execution_count": null,
   "metadata": {
    "id": "l6dmnZ6l3Gpe"
   },
   "outputs": [],
   "source": [
    "# Obsługa wycinków\n",
    "print(f\"Co drugi element tensora od drugiego do siódmego to {rank1_tensor[1:8:2]}\")"
   ]
  },
  {
   "cell_type": "code",
   "execution_count": 37,
   "metadata": {
    "id": "lP-xi6O88TZU"
   },
   "outputs": [
    {
     "name": "stdout",
     "output_type": "stream",
     "text": [
      "tf.Tensor(\n",
      "[[ 0  1  2  3  4  5]\n",
      " [ 6  7  8  9 10 11]], shape=(2, 6), dtype=int32)\n"
     ]
    }
   ],
   "source": [
    "# Przykładowy tensor rzędu 2\n",
    "rank2_tensor = tf.constant(\n",
    "    [\n",
    "     [0, 1, 2, 3, 4, 5],\n",
    "     [6, 7, 8, 9, 10, 11]\n",
    "    ]\n",
    ")\n",
    "print(rank2_tensor)"
   ]
  },
  {
   "cell_type": "code",
   "execution_count": null,
   "metadata": {
    "id": "v1Rgzt3e9KjD"
   },
   "outputs": [],
   "source": [
    "# indeksowanie\n",
    "print(f\"Pierwszy element (pierwszy wiersz) tensora to {rank2_tensor[0]}\")"
   ]
  },
  {
   "cell_type": "code",
   "execution_count": null,
   "metadata": {},
   "outputs": [],
   "source": [
    "# Wycinki\n",
    "print(f\"Pierwszy kolumna to {rank2_tensor[:, 0]}\")\n",
    "print(f\"Pierwszy i czwarty wiersz {rank2_tensor[1::2]}\")"
   ]
  },
  {
   "cell_type": "code",
   "execution_count": null,
   "metadata": {
    "id": "BW6NBC6E3lzS"
   },
   "outputs": [],
   "source": [
    "# Zagnieżdżone indeksy\n",
    "print(f\"(metoda I) Pierwszy element pierwszego wiersza tensora to {rank2_tensor[0][0]}\")\n",
    "print(f\"(metoda II) Pierwszy element pierwszego wiersza tensora to {rank2_tensor[0, 0]}\")"
   ]
  },
  {
   "cell_type": "code",
   "execution_count": null,
   "metadata": {
    "id": "BLE-ZUjF3r97"
   },
   "outputs": [],
   "source": [
    "# Zagnieżdżone indeksy\n",
    "print(f\"(metoda I) Trzeci element drugiego wiersza tensora to {rank2_tensor[1][2]}\")\n",
    "print(f\"(metoda II) Trzeci element drugiego wiersza tensora to {rank2_tensor[1, 2]}\")"
   ]
  },
  {
   "cell_type": "code",
   "execution_count": 40,
   "metadata": {
    "id": "3kCrUzMCFM7T"
   },
   "outputs": [
    {
     "ename": "TypeError",
     "evalue": "'tensorflow.python.framework.ops.EagerTensor' object does not support item assignment",
     "output_type": "error",
     "traceback": [
      "\u001b[1;31m---------------------------------------------------------------------------\u001b[0m",
      "\u001b[1;31mTypeError\u001b[0m                                 Traceback (most recent call last)",
      "Cell \u001b[1;32mIn[40], line 4\u001b[0m\n\u001b[0;32m      1\u001b[0m \u001b[38;5;66;03m# Uwaga! tf.Tensor jest typem niemodyfikowalnym (jak string czy tupla)\u001b[39;00m\n\u001b[0;32m      2\u001b[0m \n\u001b[0;32m      3\u001b[0m \u001b[38;5;66;03m# ozncza to, że obiekty klasy tf.Tensor nie wspierają operatora przypisania (tj. =)\u001b[39;00m\n\u001b[1;32m----> 4\u001b[0m \u001b[43mrank2_tensor\u001b[49m\u001b[43m[\u001b[49m\u001b[38;5;241;43m1\u001b[39;49m\u001b[43m]\u001b[49m\u001b[43m[\u001b[49m\u001b[38;5;241;43m2\u001b[39;49m\u001b[43m]\u001b[49m \u001b[38;5;241m=\u001b[39m \u001b[38;5;241m5\u001b[39m\n",
      "\u001b[1;31mTypeError\u001b[0m: 'tensorflow.python.framework.ops.EagerTensor' object does not support item assignment"
     ]
    }
   ],
   "source": [
    "# Uwaga! tf.Tensor jest typem niemodyfikowalnym (jak string czy tupla)\n",
    "\n",
    "# ozncza to, że obiekty klasy tf.Tensor nie wspierają operatora przypisania (tj. =)\n",
    "rank2_tensor[1][2] = 5"
   ]
  },
  {
   "cell_type": "code",
   "execution_count": 48,
   "metadata": {
    "id": "B7fA2s1RzXbl"
   },
   "outputs": [],
   "source": [
    "# Tworzymy dwa tensory\n",
    "a = tf.constant(\n",
    "    [\n",
    "     [2, 4], \n",
    "     [6, 8]\n",
    "    ], dtype=tf.float32\n",
    ")\n",
    "\n",
    "b = tf.constant(\n",
    "    [\n",
    "     [1, 3], \n",
    "     [5, 7]\n",
    "    ], dtype=tf.float32\n",
    ")"
   ]
  },
  {
   "cell_type": "markdown",
   "metadata": {},
   "source": [
    "#### Podstawowe operacje algebraiczne"
   ]
  },
  {
   "cell_type": "code",
   "execution_count": null,
   "metadata": {
    "id": "Xy8g1poKz9vS"
   },
   "outputs": [],
   "source": [
    "# Dodawanie (\"po współrzędnych\", ang. element-wise)\n",
    "\n",
    "# metoda I (metoda add)\n",
    "print(tf.add(a,b))\n",
    "\n",
    "# metoda II (operator +)\n",
    "print(a+b)"
   ]
  },
  {
   "cell_type": "code",
   "execution_count": null,
   "metadata": {
    "id": "O982SejbPT8L"
   },
   "outputs": [],
   "source": [
    "# Odejmowanie (\"po współrzędnych\")\n",
    "\n",
    "# metoda I (metoda subtract)\n",
    "print(tf.subtract(a,b))\n",
    "\n",
    "# metoda II (operator -)\n",
    "print(a-b)"
   ]
  },
  {
   "cell_type": "code",
   "execution_count": null,
   "metadata": {
    "id": "ibZU-msy0QAj"
   },
   "outputs": [],
   "source": [
    "# mnożenie \"po współrzędnych\"\n",
    "\n",
    "# metoda I (funkcja multiply)\n",
    "print(tf.multiply(a, b))\n",
    "\n",
    "# metoda II (operator *)\n",
    "print(a*b)"
   ]
  },
  {
   "cell_type": "code",
   "execution_count": null,
   "metadata": {
    "id": "eE55sXliP3f8"
   },
   "outputs": [],
   "source": [
    "# dzielenie tensorów (\"po współrzędnych\")\n",
    "\n",
    "# metoda I (funkcja divide)\n",
    "print(tf.divide(a, b))\n",
    "\n",
    "# metoda II (operator /)\n",
    "print(a/b)"
   ]
  },
  {
   "cell_type": "code",
   "execution_count": null,
   "metadata": {
    "id": "-ikTQ3fYQGoy"
   },
   "outputs": [],
   "source": [
    "# modulo (\"po współrzędnych\")\n",
    "\n",
    "# metoda 1 (funckja modulo)\n",
    "print(tf.math.floormod(a, b))\n",
    "\n",
    "# metoda 2 (operator %)\n",
    "print(a%b)"
   ]
  },
  {
   "cell_type": "code",
   "execution_count": 2,
   "metadata": {
    "id": "HIE-6C2m0lYy"
   },
   "outputs": [
    {
     "ename": "NameError",
     "evalue": "name 'a' is not defined",
     "output_type": "error",
     "traceback": [
      "\u001b[1;31m---------------------------------------------------------------------------\u001b[0m",
      "\u001b[1;31mNameError\u001b[0m                                 Traceback (most recent call last)",
      "Cell \u001b[1;32mIn[2], line 4\u001b[0m\n\u001b[0;32m      1\u001b[0m \u001b[38;5;66;03m# mnożenie macierzowe\u001b[39;00m\n\u001b[0;32m      2\u001b[0m \n\u001b[0;32m      3\u001b[0m \u001b[38;5;66;03m# metoda I (funkcja matmul)\u001b[39;00m\n\u001b[1;32m----> 4\u001b[0m \u001b[38;5;28mprint\u001b[39m(tf\u001b[38;5;241m.\u001b[39mmatmul(\u001b[43ma\u001b[49m, b))\n\u001b[0;32m      6\u001b[0m \u001b[38;5;66;03m# metoda II (operator @)\u001b[39;00m\n\u001b[0;32m      7\u001b[0m \u001b[38;5;28mprint\u001b[39m(a \u001b[38;5;241m@\u001b[39m b)\n",
      "\u001b[1;31mNameError\u001b[0m: name 'a' is not defined"
     ]
    }
   ],
   "source": [
    "# mnożenie macierzowe\n",
    "\n",
    "# metoda I (funkcja matmul)\n",
    "print(tf.matmul(a, b))\n",
    "\n",
    "# metoda II (operator @)\n",
    "print(a @ b)\n",
    "\n",
    "# metoda III (funkcja tf.tensordot)\n",
    "print(tf.tensordot(a, b, axes=1))\n",
    "\n",
    "# *można też użyć funkcji ogólnego przeznaczenia - tf.einsum"
   ]
  },
  {
   "cell_type": "markdown",
   "metadata": {},
   "source": [
    "#### Tesor odwrotny $C^{-1}$ (funkcja `tf.linalg.inv`)"
   ]
  },
  {
   "cell_type": "code",
   "execution_count": 31,
   "metadata": {},
   "outputs": [
    {
     "name": "stdout",
     "output_type": "stream",
     "text": [
      "tf.Tensor(\n",
      "[[ 0.1875  0.25   -0.3125]\n",
      " [ 0.25    0.      0.25  ]\n",
      " [-0.3125  0.25    0.1875]], shape=(3, 3), dtype=float32)\n"
     ]
    }
   ],
   "source": [
    "# Dla zadanego tensora c\n",
    "c = tf.constant(\n",
    "    [\n",
    "        [1., 2., -1.], \n",
    "        [2., 1., 2.],\n",
    "        [-1., 2., 1.]\n",
    "    ]\n",
    ")\n",
    "\n",
    "# tensor odwrotny ma postać\n",
    "c_inv = tf.linalg.inv(c)\n",
    "print(c_inv)"
   ]
  },
  {
   "cell_type": "markdown",
   "metadata": {},
   "source": [
    "Tensor odwrotny dla zadanego tensora $C$ to taki tensor $C^{-1}$, że \n",
    "\n",
    "<center>$C \\cdot C^{-1} = I$</center>\n",
    "\n",
    ", gdzie $I$ to tensor identycznościowy."
   ]
  },
  {
   "cell_type": "code",
   "execution_count": 32,
   "metadata": {},
   "outputs": [
    {
     "name": "stdout",
     "output_type": "stream",
     "text": [
      "tf.Tensor(\n",
      "[[1. 0. 0.]\n",
      " [0. 1. 0.]\n",
      " [0. 0. 1.]], shape=(3, 3), dtype=float32)\n"
     ]
    }
   ],
   "source": [
    "print(c @ c_inv)"
   ]
  },
  {
   "cell_type": "markdown",
   "metadata": {},
   "source": [
    "#### Tensor transponowany $D^{T}$ (funkcja `tf.transpose`)"
   ]
  },
  {
   "cell_type": "code",
   "execution_count": 34,
   "metadata": {},
   "outputs": [
    {
     "name": "stdout",
     "output_type": "stream",
     "text": [
      "tf.Tensor(\n",
      "[[1. 4.]\n",
      " [2. 5.]\n",
      " [3. 6.]], shape=(3, 2), dtype=float32)\n"
     ]
    }
   ],
   "source": [
    "# Dla zadanego tensora d\n",
    "d = tf.constant(\n",
    "    [\n",
    "        [1., 2., 3.],\n",
    "        [4., 5., 6.],\n",
    "    ]\n",
    ")\n",
    "\n",
    "# tensor transponowany ma postać\n",
    "d_trans = tf.transpose(d)\n",
    "print(d_trans)"
   ]
  },
  {
   "cell_type": "markdown",
   "metadata": {},
   "source": [
    "Transpozycja transponowanego tensora to ten sam tensor\n",
    "\n",
    "<center>$(D^{T})^{T} = D$</center>"
   ]
  },
  {
   "cell_type": "code",
   "execution_count": 36,
   "metadata": {},
   "outputs": [
    {
     "name": "stdout",
     "output_type": "stream",
     "text": [
      "tf.Tensor(\n",
      "[[1. 2. 3.]\n",
      " [4. 5. 6.]], shape=(2, 3), dtype=float32)\n"
     ]
    }
   ],
   "source": [
    "print(tf.transpose(d_trans))"
   ]
  },
  {
   "cell_type": "markdown",
   "metadata": {},
   "source": [
    "#### Podstawowe operacje agregujące"
   ]
  },
  {
   "cell_type": "code",
   "execution_count": 50,
   "metadata": {},
   "outputs": [
    {
     "name": "stdout",
     "output_type": "stream",
     "text": [
      "tf.Tensor(\n",
      "[[1. 3.]\n",
      " [5. 7.]], shape=(2, 2), dtype=float32)\n"
     ]
    }
   ],
   "source": [
    "print(b)"
   ]
  },
  {
   "cell_type": "code",
   "execution_count": 52,
   "metadata": {
    "id": "uLCpTjyz05jq"
   },
   "outputs": [
    {
     "name": "stdout",
     "output_type": "stream",
     "text": [
      "Maksymalna wartość elementów tensora a wynosi 7.0\n",
      "Maksymalne wartości elementów tensora wzdłuż osi wertykalnej to [5. 7.]\n",
      "Maksymalne wartości elementów tensora wzdłuż osi wertykalnej to [3. 7.]\n"
     ]
    }
   ],
   "source": [
    "# znajdowanie maksymalnego elementu tensora\n",
    "print(f\"Maksymalna wartość elementów tensora b wynosi {tf.reduce_max(b)}\")\n",
    "\n",
    "# Wszystkie funkcje agregujące możemy stosować zarówno na wszystkich elementach tensora jak i wzdłuż wybranych osi tensora.\n",
    "print(f\"Maksymalne wartości elementów tensora b wzdłuż osi wertykalnej to {tf.reduce_max(b, axis=0)}\")\n",
    "print(f\"Maksymalne wartości elementów tensora wzdłuż osi wertykalnej to {tf.reduce_max(b, axis=1)}\")"
   ]
  },
  {
   "cell_type": "code",
   "execution_count": null,
   "metadata": {
    "id": "IEiVVoma5aMW"
   },
   "outputs": [],
   "source": [
    "# znajdowanie minimalnego elementu tensora\n",
    "print(f\"Minimalna wartość elementów tensora b wynosi {tf.reduce_min(b)}\")"
   ]
  },
  {
   "cell_type": "code",
   "execution_count": null,
   "metadata": {
    "id": "iR2ePMhY5bsT"
   },
   "outputs": [],
   "source": [
    "# suma po wszystkich elementach tensora\n",
    "print(f\"Suma wartości wszystkich elementów tensora b wynosi {tf.reduce_sum(b)}\")"
   ]
  },
  {
   "cell_type": "code",
   "execution_count": null,
   "metadata": {},
   "outputs": [],
   "source": [
    "# średnia po wszystkich elementach tensora\n",
    "print(f\"Średnia wartości wszystkich elementów tensora b wynosi {tf.reduce_mean(b)}\")"
   ]
  },
  {
   "cell_type": "code",
   "execution_count": null,
   "metadata": {
    "id": "hjyi6W951kuB"
   },
   "outputs": [],
   "source": [
    "# znajdowanie indeksu maksymalnego elementu tensora\n",
    "print(f\"Indeks maksymalnego elementu tensora a wynosi {tf.argmax(a)}\")"
   ]
  },
  {
   "cell_type": "code",
   "execution_count": null,
   "metadata": {
    "id": "g9zB80n_5ijX"
   },
   "outputs": [],
   "source": [
    "# znajdowanie indeksu minimalnego elementu tensora\n",
    "print(f\"Indeks maksymalnego elementu tensora a wynosi {tf.argmin(a)}\")"
   ]
  },
  {
   "cell_type": "markdown",
   "metadata": {
    "id": "B1grNTcm6fR1"
   },
   "source": [
    "**Broadcasting**"
   ]
  },
  {
   "cell_type": "code",
   "execution_count": null,
   "metadata": {
    "id": "_rz-Mhklf39Q"
   },
   "outputs": [],
   "source": [
    "c = tf.constant(\n",
    "    [\n",
    "     [2, 4], \n",
    "     [6, 8]\n",
    "    ]\n",
    ")\n",
    "\n",
    "print(c)"
   ]
  },
  {
   "cell_type": "code",
   "execution_count": null,
   "metadata": {
    "id": "ncV5uNhTSsaC"
   },
   "outputs": [],
   "source": [
    "print(c+2)"
   ]
  },
  {
   "cell_type": "markdown",
   "metadata": {
    "id": "NPZPm35whA53"
   },
   "source": [
    "**Ciekawostka: Promocja typów (niejawne rzutownie aka koercja)**"
   ]
  },
  {
   "cell_type": "markdown",
   "metadata": {
    "id": "0mcoc0ajk7Dy"
   },
   "source": [
    "Przekazany obiekt, jeżeli wymaga tego wykonywana operacja zostanie zrzutowany na tensor przed wykonaniem tej operacji."
   ]
  },
  {
   "cell_type": "code",
   "execution_count": null,
   "metadata": {
    "id": "s3pyws5ehH8A"
   },
   "outputs": [],
   "source": [
    "d = tf.constant(\n",
    "    [\n",
    "     [2., 4.], \n",
    "     [6., 8.]\n",
    "    ]\n",
    ")\n",
    "\n",
    "print(d + [[1.,1.], [1.,1.]])  # rzutowanie listy na tensor"
   ]
  },
  {
   "cell_type": "code",
   "execution_count": null,
   "metadata": {},
   "outputs": [],
   "source": [
    "# Po zrzutowaniu listy intów na tensor otrzymujemy tensor typu int32\n",
    "tf.constant(\n",
    "    [\n",
    "        [1, 2],\n",
    "        [3, 4]\n",
    "    ]\n",
    ")"
   ]
  },
  {
   "cell_type": "code",
   "execution_count": null,
   "metadata": {
    "id": "5Ru0lQkHla6K"
   },
   "outputs": [],
   "source": [
    "# Niejawne rzutowanie dotyczy też typu (np. float, int) rzutowanego obiektu.\n",
    "\n",
    "print(d + [[1, 1], [1, 1]])  # w wyniku otrzymamy tensor typu float32 mimo, że lista\n",
    "# składa się z intów."
   ]
  },
  {
   "cell_type": "code",
   "execution_count": null,
   "metadata": {
    "id": "Jg-ziEdSl2HJ"
   },
   "outputs": [],
   "source": [
    "# Ta sama operacja na gotowych tensorach nie zadziała.\n",
    "print(d + tf.fill([2, 2], 1))"
   ]
  },
  {
   "cell_type": "markdown",
   "metadata": {
    "id": "e1OIp73gnIAI"
   },
   "source": [
    "Tensory nie są niejawnie rzutowane, ale obiekty dopiero rzutowane na tensory mogą."
   ]
  },
  {
   "cell_type": "code",
   "execution_count": null,
   "metadata": {
    "id": "iAwiOQhQmDfq"
   },
   "outputs": [],
   "source": [
    "# Niejawne rzutowanie na int, float dotyczy tylko obiektów dopiero rzutowanych\n",
    "# na tensory i zachodzi przed zrzutowaniem ich na tensor (i przed broadcastingiem\n",
    "# jeżeli potrzebny).\n",
    "\n",
    "print(d+2)"
   ]
  },
  {
   "cell_type": "code",
   "execution_count": null,
   "metadata": {
    "id": "wTn16mUIhzsd"
   },
   "outputs": [],
   "source": [
    "# Nie jawne rzutowanie (na int, float) nie zadziała jeżeli musiałoby (zgodnie z\n",
    "# hierarchią typów) zostać wykonane na już stworzonym tensorze.\n",
    "e = tf.constant(\n",
    "    [\n",
    "     [2, 4], \n",
    "     [6, 8]\n",
    "    ]\n",
    ")\n",
    "\n",
    "print(e+2.)"
   ]
  },
  {
   "cell_type": "markdown",
   "metadata": {
    "id": "jM8_mi3yOem3"
   },
   "source": [
    "**Zaawansowane operacje na tensorach**"
   ]
  },
  {
   "cell_type": "markdown",
   "metadata": {
    "id": "49bhT7qF8iXH"
   },
   "source": [
    "##### Zmiana kształtu tensora"
   ]
  },
  {
   "cell_type": "code",
   "execution_count": null,
   "metadata": {
    "id": "mmCWfTtaKlS9"
   },
   "outputs": [],
   "source": [
    "# stworznie tensora (wektor wierszowy)\n",
    "a = tf.constant([1, 2, 3, 4, 5, 6])\n",
    "print(f'Kształt tensora {a} - {a.shape}')\n",
    "\n",
    "# Dopuszczalne są zmiany kształtów nie zmieniające rozmiaru (size) tensora."
   ]
  },
  {
   "cell_type": "code",
   "execution_count": null,
   "metadata": {
    "id": "sp1BZh0G8IXb"
   },
   "outputs": [],
   "source": [
    "# zmiana kształtu (wektor kolumnowy) \n",
    "b = tf.reshape(a, (6, 1))\n",
    "print(f\"Kształt tensora {b} - {b.shape}\")"
   ]
  },
  {
   "cell_type": "code",
   "execution_count": null,
   "metadata": {
    "id": "fT4YWOHa8ILa"
   },
   "outputs": [],
   "source": [
    "# zmiana kształtu (macierz)\n",
    "c = tf.reshape(a, (2, 3))\n",
    "print(f\"Kształt tensora {c} - {c.shape}\")"
   ]
  },
  {
   "cell_type": "code",
   "execution_count": null,
   "metadata": {
    "id": "NrRVlqj78IF1"
   },
   "outputs": [],
   "source": [
    "# spłaszczenie wektora - (-1,)\n",
    "d = tf.reshape(a, (-1,))\n",
    "print(f\"Spłaszczony wektor {d} - {d.shape}\")"
   ]
  },
  {
   "cell_type": "code",
   "execution_count": null,
   "metadata": {
    "id": "sm-60Ovf8H7B"
   },
   "outputs": [],
   "source": [
    "# dopasowywanie pozostałych wymiarów do wymiarów zadanych (-1)\n",
    "e = tf.reshape(a, (2, -1))\n",
    "print(f\"Spłaszczony wektor {e} - {e.shape}\")"
   ]
  },
  {
   "cell_type": "markdown",
   "metadata": {
    "id": "TD54jRhi8w2P"
   },
   "source": [
    "##### Broadcasting c.d."
   ]
  },
  {
   "cell_type": "code",
   "execution_count": 4,
   "metadata": {
    "id": "bVz9gHRNWQMA"
   },
   "outputs": [
    {
     "name": "stdout",
     "output_type": "stream",
     "text": [
      "tf.Tensor(\n",
      "[[ 5 10]\n",
      " [15 20]], shape=(2, 2), dtype=int32)\n"
     ]
    }
   ],
   "source": [
    "# wektor rzędu 0\n",
    "m = tf.constant([5])\n",
    "\n",
    "# wektor rzędu 2\n",
    "n = tf.constant([[1,2],[3,4]])\n",
    "\n",
    "print(tf.multiply(m, n))"
   ]
  },
  {
   "cell_type": "markdown",
   "metadata": {},
   "source": [
    "#### Zmiana typu tensora (funkcja `tf.cast`)"
   ]
  },
  {
   "cell_type": "markdown",
   "metadata": {},
   "source": [
    "Jeżeli chcemy zrzutować istniejący tensor na inny typ należy możemy użyć funkcji rzutującej `tf.cast`."
   ]
  },
  {
   "cell_type": "code",
   "execution_count": 39,
   "metadata": {},
   "outputs": [
    {
     "name": "stdout",
     "output_type": "stream",
     "text": [
      "tf.Tensor(\n",
      "[[1. 2. 3.]\n",
      " [4. 5. 6.]], shape=(2, 3), dtype=float32)\n",
      "\n",
      "tf.Tensor(\n",
      "[[1 2 3]\n",
      " [4 5 6]], shape=(2, 3), dtype=int32)\n"
     ]
    }
   ],
   "source": [
    "o = tf.constant(\n",
    "    [\n",
    "        [1., 2., 3.],\n",
    "        [4., 5., 6.]\n",
    "    ]\n",
    ")\n",
    "print(o)  # dtype=float32\n",
    "\n",
    "print()\n",
    "\n",
    "casted_o = tf.cast(o, 'int32')\n",
    "print(casted_o)  # dtype=int32"
   ]
  },
  {
   "cell_type": "markdown",
   "metadata": {},
   "source": [
    "#### Konkatenacja tensorów (funkcja `tf.concat`)"
   ]
  },
  {
   "cell_type": "code",
   "execution_count": 20,
   "metadata": {},
   "outputs": [
    {
     "name": "stdout",
     "output_type": "stream",
     "text": [
      "tf.Tensor(\n",
      "[[ 1.  2.  3.]\n",
      " [ 4.  5.  6.]\n",
      " [ 7.  8.  9.]\n",
      " [10. 11. 12.]], shape=(4, 3), dtype=float32)\n",
      "\n",
      "tf.Tensor(\n",
      "[[ 1.  2.  3.  7.  8.  9.]\n",
      " [ 4.  5.  6. 10. 11. 12.]], shape=(2, 6), dtype=float32)\n"
     ]
    }
   ],
   "source": [
    "# jeżeli chcemy skonkatenować ze sobą dwa tensory wzdłuż wskazanej osi możemy użyć funkcji tf.concat\n",
    "\n",
    "a = tf.constant(\n",
    "    [\n",
    "        [1., 2., 3.],\n",
    "        [4., 5., 6.]\n",
    "    ]\n",
    ")\n",
    "\n",
    "b = tf.constant(\n",
    "    [\n",
    "        [7., 8., 9.],\n",
    "        [10., 11., 12.]\n",
    "    ]\n",
    ")\n",
    "\n",
    "# konkatenacja wzdłuż osi wertykalnej\n",
    "print(tf.concat([a, b], axis=0))\n",
    "\n",
    "print()\n",
    "\n",
    "# konkatenacja wzdłuż osi horyzontalnej\n",
    "print(tf.concat([a,b], axis=1))"
   ]
  },
  {
   "cell_type": "markdown",
   "metadata": {},
   "source": [
    "#### Funkcja softmax $\\sigma(z)_{i} = \\frac{e^{z_{i}}}{\\sum_{j=1}^{k} e^{z}_{j}}$ (znormalizowana funkcja wykładnicza `tf.nn.softmax`)"
   ]
  },
  {
   "cell_type": "markdown",
   "metadata": {},
   "source": [
    "Funkcji softmax używamy kiedy chcemy przeskalować wartości tensora (wektora) w taki sposób, żeby można było je interpretować jako wartości prawdopodbieństwa. Oznacza to, że każda z wartości powinna znaleźć się w przedziale $0-1$, a ich suma powinna wynieść 1."
   ]
  },
  {
   "cell_type": "code",
   "execution_count": 42,
   "metadata": {},
   "outputs": [
    {
     "name": "stdout",
     "output_type": "stream",
     "text": [
      "tf.Tensor([0.0320586  0.08714432 0.2368828  0.6439142 ], shape=(4,), dtype=float32)\n",
      "tf.Tensor(0.99999994, shape=(), dtype=float32)\n"
     ]
    }
   ],
   "source": [
    "x = tf.constant([1., 2., 3., 4.])\n",
    "\n",
    "normalized_x = tf.nn.softmax(x)\n",
    "print(normalized_x)\n",
    "print(tf.reduce_sum(normalized_x))   # typowy błąd zaokrąglenia na floatach"
   ]
  },
  {
   "cell_type": "markdown",
   "metadata": {},
   "source": [
    "Dla tensorów wyższego rzędu w funkcji softmax można wskazać wzdłuż której osi ma przebiec normalizacja"
   ]
  },
  {
   "cell_type": "code",
   "execution_count": 47,
   "metadata": {},
   "outputs": [
    {
     "name": "stdout",
     "output_type": "stream",
     "text": [
      "tf.Tensor(\n",
      "[[0.5        0.26894143]\n",
      " [0.5        0.7310586 ]], shape=(2, 2), dtype=float32)\n",
      "tf.Tensor([1. 1.], shape=(2,), dtype=float32)\n",
      "\n",
      "tf.Tensor(\n",
      "[[0.26894143 0.7310586 ]\n",
      " [0.11920291 0.880797  ]], shape=(2, 2), dtype=float32)\n",
      "tf.Tensor([1.         0.99999994], shape=(2,), dtype=float32)\n"
     ]
    }
   ],
   "source": [
    "x = tf.constant(\n",
    "    [\n",
    "        [1., 2.],\n",
    "        [1., 3.],\n",
    "    ]\n",
    ")\n",
    "\n",
    "# normalizacja wzdłuż osi wertykalnej\n",
    "normalized_x0 = tf.nn.softmax(x, axis=0)\n",
    "print(normalized_x0)\n",
    "print(tf.reduce_sum(normalized_x0, axis=0))\n",
    "\n",
    "print()\n",
    "\n",
    "# normalizacja wzdłuż osi horyzontalnej\n",
    "normalized_x1 = tf.nn.softmax(x, axis=1)\n",
    "print(normalized_x1)\n",
    "print(tf.reduce_sum(normalized_x1, axis=1))  # znowu błąd zaokrąglenia"
   ]
  },
  {
   "cell_type": "markdown",
   "metadata": {},
   "source": [
    "Użyty powyżej moduł `tf.nn` zawiera podstawowe obiekty wykorzystywane w sieciach neuronowych. Możemy w nim znaleźć m.in. popularne funkcje aktywacyjne, warstwy konwolucyjną i łączącą (padding) i wiele innych przydatnych obiektów."
   ]
  },
  {
   "cell_type": "code",
   "execution_count": 16,
   "metadata": {},
   "outputs": [
    {
     "name": "stdout",
     "output_type": "stream",
     "text": [
      "['RNNCellDeviceWrapper', 'RNNCellDropoutWrapper', 'RNNCellResidualWrapper', '__builtins__', '__cached__', '__doc__', '__file__', '__loader__', '__name__', '__package__', '__path__', '__spec__', '_sys', 'all_candidate_sampler', 'approx_max_k', 'approx_min_k', 'atrous_conv2d', 'atrous_conv2d_transpose', 'avg_pool', 'avg_pool1d', 'avg_pool2d', 'avg_pool3d', 'batch_norm_with_global_normalization', 'batch_normalization', 'bias_add', 'collapse_repeated', 'compute_accidental_hits', 'compute_average_loss', 'conv1d', 'conv1d_transpose', 'conv2d', 'conv2d_transpose', 'conv3d', 'conv3d_transpose', 'conv_transpose', 'convolution', 'crelu', 'ctc_beam_search_decoder', 'ctc_greedy_decoder', 'ctc_loss', 'ctc_unique_labels', 'depth_to_space', 'depthwise_conv2d', 'depthwise_conv2d_backprop_filter', 'depthwise_conv2d_backprop_input', 'dilation2d', 'dropout', 'elu', 'embedding_lookup', 'embedding_lookup_sparse', 'erosion2d', 'experimental', 'fixed_unigram_candidate_sampler', 'fractional_avg_pool', 'fractional_max_pool', 'gelu', 'in_top_k', 'isotonic_regression', 'l2_loss', 'l2_normalize', 'leaky_relu', 'learned_unigram_candidate_sampler', 'local_response_normalization', 'log_poisson_loss', 'log_softmax', 'lrn', 'max_pool', 'max_pool1d', 'max_pool2d', 'max_pool3d', 'max_pool_with_argmax', 'moments', 'nce_loss', 'normalize_moments', 'pool', 'relu', 'relu6', 'safe_embedding_lookup_sparse', 'sampled_softmax_loss', 'scale_regularization_loss', 'selu', 'separable_conv2d', 'sigmoid', 'sigmoid_cross_entropy_with_logits', 'silu', 'softmax', 'softmax_cross_entropy_with_logits', 'softplus', 'softsign', 'space_to_batch', 'space_to_depth', 'sparse_softmax_cross_entropy_with_logits', 'sufficient_statistics', 'swish', 'tanh', 'top_k', 'weighted_cross_entropy_with_logits', 'weighted_moments', 'with_space_to_batch', 'zero_fraction']\n"
     ]
    }
   ],
   "source": [
    "print(dir(tf.nn))"
   ]
  },
  {
   "cell_type": "markdown",
   "metadata": {
    "id": "YLwPfgEiZl9-"
   },
   "source": [
    "**Szczególne rodzaje tensorów**"
   ]
  },
  {
   "cell_type": "code",
   "execution_count": 31,
   "metadata": {
    "id": "1do9lfesZoYO"
   },
   "outputs": [
    {
     "name": "stdout",
     "output_type": "stream",
     "text": [
      "<tf.RaggedTensor [[1, 2, 3], [4, 5], [6]]>\n"
     ]
    }
   ],
   "source": [
    "# tensor nierówny, ang. ragged (niezalecany, ze względu na słabą wydajność obliczeniową)\n",
    "ragged_list = [[1, 2, 3],[4, 5],[6]]\n",
    "ragged_tensor = tf.ragged.constant(ragged_list)\n",
    "\n",
    "print(ragged_tensor)"
   ]
  },
  {
   "cell_type": "code",
   "execution_count": null,
   "metadata": {
    "id": "_imvCmEAZ0L9"
   },
   "outputs": [],
   "source": [
    "# tensor napisów\n",
    "string_tensor = tf.constant([\"W ten sposób\", \n",
    "                             \"tworzymy\", \n",
    "                             \"tensor napisów\"])\n",
    "\n",
    "print(string_tensor)"
   ]
  },
  {
   "cell_type": "code",
   "execution_count": null,
   "metadata": {
    "id": "_e3R7VBkaBzc"
   },
   "outputs": [],
   "source": [
    "# tensor rzadki, ang. sparse\n",
    "sparse_tensor = tf.sparse.SparseTensor(\n",
    "    indices=[[0, 0], [2, 2], [4, 4]], \n",
    "    values=[25, 50, 100], \n",
    "    dense_shape=[5, 5]\n",
    ")\n",
    "\n",
    "print(sparse_tensor)"
   ]
  },
  {
   "cell_type": "code",
   "execution_count": null,
   "metadata": {
    "id": "IebJ1_u7akX1"
   },
   "outputs": [],
   "source": [
    "# Jawne wyświetlenie rzadkiego tensora \n",
    "print(tf.sparse.to_dense(sparse_tensor))"
   ]
  },
  {
   "cell_type": "markdown",
   "metadata": {
    "id": "aJXF1vcNMNd2"
   },
   "source": [
    "## Variable"
   ]
  },
  {
   "cell_type": "markdown",
   "metadata": {},
   "source": [
    "W odróżnieniu od obiektów klasy tf.Tensor, obiekty klasy tf.Variable są mutowalne. W obiektach klasy tf.Variable możemy przechowywać wartości, którymi program manipuluje w trakcie działania (np. wagi modeli, które w trakcie fazy uczenia są aktualizowane). Obiekty klasy tf.Variable reprezentują tensory, których wartości mogą się zmienić w skutek wykonania na tych tensorach jakieś operacji. Wysokopoziomowe moduły (takie jak `tf.keras`) przechowują w tf.Variable parametry modelu."
   ]
  },
  {
   "cell_type": "markdown",
   "metadata": {
    "id": "IQQwxSLaMUXN"
   },
   "source": [
    "### Tworzenie"
   ]
  },
  {
   "cell_type": "markdown",
   "metadata": {},
   "source": [
    "Obiekt klasy `tf.Variable` możemy stworzyć poprzez zrzutowanie na `tf.Variable` obietu klasy `tf.Tensor`."
   ]
  },
  {
   "cell_type": "code",
   "execution_count": null,
   "metadata": {
    "id": "UTYyoRxeMRHl"
   },
   "outputs": [],
   "source": [
    "# Stworzenie obiektu klasy tf.Tensor\n",
    "a = tf.constant(\n",
    "    [\n",
    "     [0.0, 1.0],\n",
    "     [2.0, 3.0]\n",
    "    ]\n",
    ")\n",
    "\n",
    "# rzutowanie obiektu klasy tf.Tensor na obiekt klasy tf.Variable\n",
    "# (inicjalizowanie obiektu klasy tf.Variable obiektem klasy tf.Tensor)\n",
    "var_a = tf.Variable(a)\n",
    "print(var_a)"
   ]
  },
  {
   "cell_type": "markdown",
   "metadata": {},
   "source": [
    "Twórcy biblioteki tensorflow zalecają bezpośrednią inicjalizację obiektów tf.Variable (w odróżnieniu od obiektów tf.Tensor, do inicjalizacji których wykorzystujemy funkcje fabrykjujące takie jak tf.constant czy tf.ones)"
   ]
  },
  {
   "cell_type": "code",
   "execution_count": null,
   "metadata": {
    "id": "AsAFZDTMMyzW"
   },
   "outputs": [],
   "source": [
    "# Podobnie jak obiekt klasy tf.Tensor, obiekt klasy tf.Variable możemy \n",
    "# inicjalizować za pomocą:\n",
    "\n",
    "# intów\n",
    "var_b = tf.Variable(10000)\n",
    "print(var_b)"
   ]
  },
  {
   "cell_type": "code",
   "execution_count": null,
   "metadata": {
    "id": "NMRJ6XwCNBG2"
   },
   "outputs": [],
   "source": [
    "# list\n",
    "c = [[0.0, 1.0],\n",
    "     [2.0, 3.0]]\n",
    "var_c = tf.Variable(c)\n",
    "print(var_c)"
   ]
  },
  {
   "cell_type": "code",
   "execution_count": null,
   "metadata": {
    "id": "8xTEbxlfNKF0"
   },
   "outputs": [],
   "source": [
    "# napisów\n",
    "var_d = tf.Variable(\"String example\")\n",
    "print(var_d)"
   ]
  },
  {
   "cell_type": "code",
   "execution_count": null,
   "metadata": {
    "id": "pEVCw3ftNYhE"
   },
   "outputs": [],
   "source": [
    "e = [\"Hello, World!\", \n",
    "     \"This is an\", \n",
    "     \"example of\", \n",
    "     \"TensorFlow Variable\"]\n",
    "\n",
    "var_e = tf.Variable(e)\n",
    "print(var_e)"
   ]
  },
  {
   "cell_type": "markdown",
   "metadata": {
    "id": "wUIPuDB2aA5P"
   },
   "source": [
    "### Atrybuty i metody"
   ]
  },
  {
   "cell_type": "markdown",
   "metadata": {},
   "source": [
    "Wszystkie atrybuty i metody poznane na obiektach klasy tf.Tensor działają też na obiektach klasy tf.Variable"
   ]
  },
  {
   "cell_type": "code",
   "execution_count": null,
   "metadata": {
    "id": "HFZBBHMC_RLH"
   },
   "outputs": [],
   "source": [
    "dir(var_c)"
   ]
  },
  {
   "cell_type": "code",
   "execution_count": null,
   "metadata": {},
   "outputs": [],
   "source": [
    "print(f\"Kształt: {var_c.shape}\")\n",
    "print(f\"Jako tablica numpy: {var_c.numpy()}\")"
   ]
  },
  {
   "cell_type": "markdown",
   "metadata": {},
   "source": [
    "Przy zmianie kształtu tf.Variable w wyniku dostaniemy obiekt klasy tf.Tensor"
   ]
  },
  {
   "cell_type": "code",
   "execution_count": null,
   "metadata": {},
   "outputs": [],
   "source": [
    "tf.reshape(var_c, (4, 1))"
   ]
  },
  {
   "cell_type": "markdown",
   "metadata": {},
   "source": [
    "Elementy obiektów klasy tf.Variable, podobnie jak elementy obiektów klasy tf.Tensor nie obsługują operatora przypisania.\n"
   ]
  },
  {
   "cell_type": "code",
   "execution_count": null,
   "metadata": {
    "id": "oii2CHzN_usZ"
   },
   "outputs": [],
   "source": [
    "var_c[3] = 5. "
   ]
  },
  {
   "cell_type": "markdown",
   "metadata": {},
   "source": [
    " W takim razie w jaki sposób modyfikujemy obiekty klasy `tf.Variable`?\n",
    " \n",
    " Używamy do tego metody `assign`"
   ]
  },
  {
   "cell_type": "markdown",
   "metadata": {
    "id": "5icFGIOU-0Ih"
   },
   "source": [
    "##### Metoda assign"
   ]
  },
  {
   "cell_type": "markdown",
   "metadata": {},
   "source": [
    "Poza atrybutami i metodami odziedziczonymi po klasie tf.Tensor obiekty klasy tf.Variable posiadają m.in. rodzinę metod `assign` (`assign`, `assign_add`, `assign_sub`). Za pomocą funkcji assign możemy zmieniać wartość tensora (typu Variable)."
   ]
  },
  {
   "cell_type": "code",
   "execution_count": null,
   "metadata": {
    "id": "pWediuKyZ_3b"
   },
   "outputs": [],
   "source": [
    "var_c.assign(([[2, 100], [1, 10]]))\n",
    "print(var_c)"
   ]
  },
  {
   "cell_type": "code",
   "execution_count": null,
   "metadata": {
    "id": "S0Bn20_wjrBE"
   },
   "outputs": [],
   "source": [
    "var_c.assign_add(tf.fill([2, 2], 5.))\n",
    "print(var_c)"
   ]
  },
  {
   "cell_type": "code",
   "execution_count": null,
   "metadata": {
    "id": "lY6Uvy1KkB_H"
   },
   "outputs": [],
   "source": [
    "var_c.assign_sub([[3, 3], [3, 3]])  # niejawne rzutowanie (zasady identyczne jak przy tf.Tensor)\n",
    "print(var_c)"
   ]
  },
  {
   "cell_type": "code",
   "execution_count": null,
   "metadata": {
    "id": "JlEaqx-0-zN_"
   },
   "outputs": [],
   "source": [
    "# Ale typ tensora musi pozostać ten sam\n",
    "print(var_e)\n",
    "var_e.assign(([[2, 100], [1, 10]]))"
   ]
  },
  {
   "cell_type": "markdown",
   "metadata": {},
   "source": [
    "### Kopiowanie tf.Variable"
   ]
  },
  {
   "cell_type": "markdown",
   "metadata": {},
   "source": [
    "W przypadku tworzenia nowego obiektu klasy tf.Variable z istniejącego już obiektu klasy tf.Variable, tensorflow tworzy całkowicie nowy obiekt (kopiowane są `wartości`, a nie referencje)."
   ]
  },
  {
   "cell_type": "code",
   "execution_count": null,
   "metadata": {},
   "outputs": [],
   "source": [
    "a = tf.Variable([2.0, 3.0])\n",
    "# Tworzymy tensor b na podstawie tensora a\n",
    "b = tf.Variable(a)\n",
    "# modyfikujemy wartości tensora a\n",
    "a.assign([5, 6])\n",
    "\n",
    "# tensor b pozostał niezmieniony\n",
    "print(a.numpy())\n",
    "print(b.numpy())"
   ]
  },
  {
   "cell_type": "markdown",
   "metadata": {},
   "source": [
    "Najczęstszym zastosowaniem obiektów klasy tf.Variable jest różniczkowanie w fazie treningu."
   ]
  },
  {
   "cell_type": "markdown",
   "metadata": {
    "id": "8zfyAgFm82Lq"
   },
   "source": [
    "### Liczenie gradientu w tensorflow"
   ]
  },
  {
   "cell_type": "markdown",
   "metadata": {},
   "source": [
    "W jaki sposób możemy policzyć gradient w tensorflow?\n",
    "\n",
    "Używamy do tego obiektu `tf.GradientTape`. Spójrzmy na przykład."
   ]
  },
  {
   "cell_type": "markdown",
   "metadata": {},
   "source": [
    "#### Przykład I\n",
    "\n",
    "Policz gradient funkcji $y = x^2$ (po $x$) w punkcie 3.0"
   ]
  },
  {
   "cell_type": "code",
   "execution_count": null,
   "metadata": {},
   "outputs": [],
   "source": [
    "x = tf.Variable(3.0)\n",
    "\n",
    "with tf.GradientTape() as tape:\n",
    "    y = x**2"
   ]
  },
  {
   "cell_type": "markdown",
   "metadata": {},
   "source": [
    "Kiedy zapiszemy już wszystkie operacje w menadżerze kontekstu `tf.GradientTape`, gradient liczymy używając metody gradient `GradientTape.gradient(target, sources)`. W ten sposób możemy policzyć gradient target (często jest to funkcja straty - loss) względem source (często są to parametry modelu)."
   ]
  },
  {
   "cell_type": "code",
   "execution_count": null,
   "metadata": {},
   "outputs": [],
   "source": [
    "# dy = 2x * dx\n",
    "dy_dx = tape.gradient(y, x)\n",
    "print(dy_dx)"
   ]
  },
  {
   "cell_type": "code",
   "execution_count": null,
   "metadata": {},
   "outputs": [],
   "source": [
    "print(dy_dx.numpy())"
   ]
  },
  {
   "cell_type": "markdown",
   "metadata": {},
   "source": [
    "Odpowiedź: Gradient funkcji $y=x^2$ w punkcie $x_0=3$, wynosi $6$ co oznacza, że funkcja w tym punkcie się wznosi. \n",
    "\n",
    "Powyższy przykład wykorzystywał wyłącznie wartości skalarne, ale równie łatwo możemy działać na tensorach dowolnego rzędu."
   ]
  },
  {
   "cell_type": "markdown",
   "metadata": {},
   "source": [
    "#### Przykład II\n",
    "\n",
    "Policz gradient funkcji $y=w \\cdot x + b$ po zmiennych $w, b$"
   ]
  },
  {
   "cell_type": "code",
   "execution_count": null,
   "metadata": {},
   "outputs": [],
   "source": [
    "# w = tf.Variable([[1, 2], [4, 3], [6,7]], dtype=tf.float32)\n",
    "w = tf.Variable(tf.random.normal((3, 2)))  # losowe wagi\n",
    "print(w)\n",
    "\n",
    "b = tf.Variable(tf.zeros(2, dtype=tf.float32))\n",
    "print(b)\n",
    "\n",
    "x = tf.constant([[1., 2., 3.]])"
   ]
  },
  {
   "cell_type": "code",
   "execution_count": null,
   "metadata": {},
   "outputs": [],
   "source": [
    "with tf.GradientTape() as tape:\n",
    "    y = x @ w + b"
   ]
  },
  {
   "cell_type": "code",
   "execution_count": null,
   "metadata": {},
   "outputs": [],
   "source": [
    "dy_dx = tape.gradient(y, [w, b])\n",
    "print(dy_dx)"
   ]
  },
  {
   "cell_type": "markdown",
   "metadata": {},
   "source": [
    "`tf.GradientTape` używamy jako menadżera kontekstu (tzn. z instrukcją `with`), ponieważ możemy chcieć policzyć gradient złożenia wielu różnych funkcji. Sieci neuronowe są takim złożeniem wielu modeli (funkcji), w którym o każdej kolejnej warstwie możemy myśleć jak o kolejnym modelu (funkcji), a my chcemy policzyć całościowy gradient. tf.GradientTape zapamiętuje operacje wykonywane w swoim kontekście na tzw. taśmie (ang. tape). Następnie wykorzystuje tą taśmę do obliczenia gradientu."
   ]
  },
  {
   "cell_type": "code",
   "execution_count": null,
   "metadata": {},
   "outputs": [],
   "source": [
    "with tf.GradientTape() as tape:\n",
    "    y = x @ w + b\n",
    "    loss = tf.reduce_mean(y**2)\n",
    "\n",
    "grad = tape.gradient(loss, [w, b])\n",
    "print(grad)\n",
    "print()"
   ]
  },
  {
   "cell_type": "markdown",
   "metadata": {},
   "source": [
    "Gradient ma taki rozmiar jak zmienna zależna, po której go liczymy (source)"
   ]
  },
  {
   "cell_type": "code",
   "execution_count": null,
   "metadata": {},
   "outputs": [],
   "source": [
    "dl_dw, dl_db = grad\n",
    "\n",
    "print(dl_dw)  # gradient po w\n",
    "print()\n",
    "print(dl_db)  # gradient po b"
   ]
  },
  {
   "cell_type": "markdown",
   "metadata": {},
   "source": [
    "Do metody gradient należy przekazać typ iterowalny. Może to być lista (jak powyżej), a może to być słownik (jak poniżej)"
   ]
  },
  {
   "cell_type": "code",
   "execution_count": null,
   "metadata": {},
   "outputs": [],
   "source": [
    "with tf.GradientTape() as tape:\n",
    "    y = x @ w + b\n",
    "    loss = tf.reduce_mean(y**2)\n",
    "\n",
    "my_vars = {\n",
    "    'w': w,\n",
    "    'b': b\n",
    "}\n",
    "\n",
    "grad = tape.gradient(loss, my_vars)\n",
    "print(grad)"
   ]
  },
  {
   "cell_type": "code",
   "execution_count": null,
   "metadata": {},
   "outputs": [],
   "source": [
    "print(grad['w'])\n",
    "print()\n",
    "print(grad['b'])"
   ]
  },
  {
   "cell_type": "markdown",
   "metadata": {},
   "source": [
    "Obiekty klasy tf.GradientTape posiadają dwa opcjonalne parametry:\n",
    "- persistent\n",
    "- watch_accessed_variables"
   ]
  },
  {
   "cell_type": "markdown",
   "metadata": {},
   "source": [
    "### Parametr `persistent`"
   ]
  },
  {
   "cell_type": "markdown",
   "metadata": {},
   "source": [
    "Po obliczeniu gradientu (wywołaniu metody gradient) zasoby przechowywane przez tf.GradientTape są natychmiast zwalniane. Jeżeli chcemy policzyć kilka różnych gradientów lub gradienty wyższych rzędów, należy użyć parametru persistant (poniższy kod rzuca błąd z powodu braku parametru persistent)."
   ]
  },
  {
   "cell_type": "code",
   "execution_count": null,
   "metadata": {},
   "outputs": [],
   "source": [
    "with tf.GradientTape() as tape:\n",
    "    y = x @ w + b\n",
    "    loss = tf.reduce_mean(y**2)\n",
    "\n",
    "grad = tape.gradient(loss, [w, b])\n",
    "print(grad)\n",
    "print()\n",
    "\n",
    "my_vars = {\n",
    "    'w': w,\n",
    "    'b': b\n",
    "}\n",
    "\n",
    "grad = tape.gradient(loss, my_vars)  # tu dostaniemy błąd\n",
    "print(grad)"
   ]
  },
  {
   "cell_type": "markdown",
   "metadata": {},
   "source": [
    "Po dodaniu parametru persistent błąd już nie występuje."
   ]
  },
  {
   "cell_type": "code",
   "execution_count": null,
   "metadata": {},
   "outputs": [],
   "source": [
    "with tf.GradientTape(persistent=True) as tape:\n",
    "    y = x @ w + b\n",
    "    loss = tf.reduce_mean(y**2)\n",
    "\n",
    "grad = tape.gradient(loss, [w, b])\n",
    "print(grad)\n",
    "print()\n",
    "\n",
    "my_vars = {\n",
    "    'w': w,\n",
    "    'b': b\n",
    "}\n",
    "\n",
    "grad = tape.gradient(loss, my_vars)\n",
    "print(grad)"
   ]
  },
  {
   "cell_type": "markdown",
   "metadata": {},
   "source": [
    "### Parametr `watch_accessed_variables`"
   ]
  },
  {
   "cell_type": "markdown",
   "metadata": {},
   "source": [
    "Gradient możemy policzyć po wszystkich obserwowanych przez tf.GradientTape zmiennych. Domyślnie tf.GradientTape obserwuje wszystkie wartości trenowalne (trainable). Wartościami trenowalnymi są np. tf.Variable. Jeżeli chcemy mieć większą kontrolę nad tym, co tf.GrandientTape obserwuje należy wyłączyć automatyczne obserwowanie poprzez użycie parametru watch_accessed_variables."
   ]
  },
  {
   "cell_type": "code",
   "execution_count": null,
   "metadata": {},
   "outputs": [],
   "source": [
    "with tf.GradientTape(watch_accessed_variables=False) as tape:\n",
    "    y = x @ w + b\n",
    "    loss = tf.reduce_mean(y**2)\n",
    "\n",
    "grad = tape.gradient(loss, [w, b])\n",
    "print(grad)\n"
   ]
  },
  {
   "cell_type": "markdown",
   "metadata": {},
   "source": [
    "W wyniku dostaliśmy None ponieważ tf.GradientTape nie obserwuje, żadnej ze zmiennych po której liczymy gradient. Uzycie parametru watch_accessed_variables powoduje, że sami musimy wskazać, które zmienne są zmiennymi zależnymi (tj. obserwowanymi przez tf.GradientTape). Robimy to za pomocą metody watch obiektu klasy tf.GradientTape."
   ]
  },
  {
   "cell_type": "code",
   "execution_count": null,
   "metadata": {},
   "outputs": [],
   "source": [
    "with tf.GradientTape(watch_accessed_variables=False) as tape:\n",
    "    tape.watch(w)\n",
    "    y = x @ w + b\n",
    "    loss = tf.reduce_mean(y**2)\n",
    "\n",
    "grad = tape.gradient(loss, [w, b])\n",
    "print(grad)"
   ]
  },
  {
   "cell_type": "markdown",
   "metadata": {
    "id": "0DHwzJAiSHnb"
   },
   "source": [
    "## Dodatki"
   ]
  },
  {
   "cell_type": "markdown",
   "metadata": {
    "id": "7GQoMbShSJaB"
   },
   "source": [
    "### Grafy obliczeniowe"
   ]
  },
  {
   "cell_type": "code",
   "execution_count": null,
   "metadata": {
    "id": "8owGwYVFTThn"
   },
   "outputs": [],
   "source": [
    "# eager execution\n",
    "def eager_function(x):\n",
    "  \"\"\"Funckja podnosi do kwadratu parametr x, a następnie zwraca go.\"\"\"\n",
    "  result = x ** 2\n",
    "  print(result)  # w graph execution wynik w tym miejscu nie bedzie jeszcze wyliczony\n",
    "  return result\n",
    "\n",
    "x = tf.constant([1.0, 2.0, 3.0, 4.0, 5.0])\n",
    "\n",
    "res = eager_function(x)"
   ]
  },
  {
   "cell_type": "code",
   "execution_count": null,
   "metadata": {
    "id": "0NfcrYtAT7c-"
   },
   "outputs": [],
   "source": [
    "# graph execution (dekorator tf.function)\n",
    "graph_function = tf.function(eager_function)\n",
    "res = graph_function(x);"
   ]
  },
  {
   "cell_type": "code",
   "execution_count": null,
   "metadata": {
    "id": "uch4j-YIX90k"
   },
   "outputs": [],
   "source": [
    "print(res)"
   ]
  },
  {
   "cell_type": "code",
   "execution_count": null,
   "metadata": {
    "id": "SzsOIIwVVWqm"
   },
   "outputs": [],
   "source": [
    "# zróbmy benchmarking\n",
    "import timeit\n",
    "\n",
    "print(f\"Eager time: {timeit.timeit(lambda: eager_function(x), number=1)}\")\n",
    "print(f\"Graph time: {timeit.timeit(lambda: graph_function(x), number=1)}\")"
   ]
  },
  {
   "cell_type": "markdown",
   "metadata": {
    "id": "q-4xjfOKnvhP"
   },
   "source": [
    "Nie bardzo pomogło. Dla prostych przykładów jest nieprzydatne, ponieważ stworzenie grafu od początku zajmuje jakiś czas. Różnica na korzyść grafów obliczeniowych staje się coraz bardziej widoczna wraz ze wzrostem złożoności modelu."
   ]
  },
  {
   "cell_type": "markdown",
   "metadata": {
    "id": "UVMpg-N269-p"
   },
   "source": [
    "### Wyskopoziomowe api Keras"
   ]
  },
  {
   "cell_type": "markdown",
   "metadata": {
    "id": "eMMsjfrc7HED"
   },
   "source": [
    "Przykład dotyczy funkcji kosztów. Dostępne w Keras, popularne funkcje kosztu używane z modelami liniowymi to\n",
    "\n",
    "| Funkcja               | Pełna nazwa                |\n",
    "| --------------------- |:---------------------------|\n",
    "| tf.keras.losses.mse   | Mean Squre Error (MSE)     |\n",
    "| tf.keras.losses.mae   | Mean Absolute Error (MAE)  |\n",
    "| tf.keras.losses.Huber | Huber Error                |\n"
   ]
  },
  {
   "cell_type": "code",
   "execution_count": null,
   "metadata": {
    "id": "o0WvMgxj69aR"
   },
   "outputs": [],
   "source": [
    "import requests\n",
    "from io import StringIO\n",
    "import numpy as np\n",
    "\n",
    "\n",
    "# po obliczniu prognozowanych wyników i przypisaniu ich do zmiennej predictions\n",
    "# średni kwadratowy błąd prognozy możemy znaleźć za pomocą wywołania \n",
    "# tf.keras.losses.mse\n",
    "\n",
    "# Wczytajmy ceny domów (zapisane w pliku targets.csv) i wyliczone przez wyuczony \n",
    "# model prognozowane ceny domów (zapisane w pliku predictions.csv)\n",
    "\n",
    "targets_response = requests.get(\n",
    "    \"https://raw.githubusercontent.com/jgrynczewski/tensorflow_intro/master/targets.csv\"\n",
    ")\n",
    "raw_targets = targets_response.text\n",
    "\n",
    "predictions_response = requests.get(\n",
    "    \"https://raw.githubusercontent.com/jgrynczewski/tensorflow_intro/master/predictions.csv\"\n",
    ")\n",
    "raw_predictions = predictions_response.text\n",
    "\n",
    "# rzutowanie danych do tablicy numpy\n",
    "targets_numpy = np.genfromtxt(StringIO(raw_targets), delimiter=',')\n",
    "predictions_numpy = np.genfromtxt(StringIO(raw_predictions), delimiter=',')\n",
    "\n",
    "loss = tf.keras.losses.mse(targets_numpy, predictions_numpy)\n",
    "print(loss)"
   ]
  }
 ],
 "metadata": {
  "accelerator": "GPU",
  "colab": {
   "collapsed_sections": [],
   "name": "tf2.0-notatki.ipyn",
   "provenance": []
  },
  "kernelspec": {
   "display_name": "Python 3 (ipykernel)",
   "language": "python",
   "name": "python3"
  },
  "language_info": {
   "codemirror_mode": {
    "name": "ipython",
    "version": 3
   },
   "file_extension": ".py",
   "mimetype": "text/x-python",
   "name": "python",
   "nbconvert_exporter": "python",
   "pygments_lexer": "ipython3",
   "version": "3.11.1"
  }
 },
 "nbformat": 4,
 "nbformat_minor": 1
}
