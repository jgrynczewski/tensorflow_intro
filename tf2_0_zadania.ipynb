{
  "nbformat": 4,
  "nbformat_minor": 0,
  "metadata": {
    "colab": {
      "name": "tf2.0-zadania.ipynb",
      "provenance": [],
      "collapsed_sections": []
    },
    "kernelspec": {
      "name": "python3",
      "display_name": "Python 3"
    },
    "language_info": {
      "name": "python"
    }
  },
  "cells": [
    {
      "cell_type": "markdown",
      "source": [
        "## Dane\n",
        "\n",
        "Dane są informacje o posiadaczach kart kredytowych w postaci tabelarycznej. Pierwsze sześć wpisów przedstawiono poniżej.\n",
        "\n",
        "| Education | Marriage | Age | Bill_amt1 |\n",
        "| --------- |:--------:| ---:|----------:|\n",
        "| 2         | 1        | 24  | 3913      |\n",
        "| 2         | 2        | 26  | 2682      |\n",
        "| 2         | 2        | 34  | 29239     |\n",
        "| 2         | 1        | 37  | 46990     |\n",
        "| 2         | 1        | 57  | 8617      |\n",
        "| 1         | 2        | 37  | 64400     |\n",
        "\n",
        "Dane przechowywane są w formacie csv pod adresem https://raw.githubusercontent.com/jgrynczewski/tensorflow_intro/master/credit.csv"
      ],
      "metadata": {
        "id": "AFLK6LGMRYv4"
      }
    },
    {
      "cell_type": "markdown",
      "source": [
        "W pierwszym kroku dane umieszczamy w tablicy numpy, a tablicę przypisujemy do zmiennej *credit_numpy*."
      ],
      "metadata": {
        "id": "F8cVOsieS1rf"
      }
    },
    {
      "cell_type": "code",
      "source": [
        "import requests\n",
        "from io import StringIO\n",
        "\n",
        "import numpy as np\n",
        "\n",
        "\n",
        "# Wczytanie zawartości pliku do zmiennej raw_data\n",
        "res = requests.get('https://raw.githubusercontent.com/jgrynczewski/tensorflow_intro/master/credit.csv')\n",
        "raw_data = res.text\n",
        "\n",
        "# rzutowanie danych do tablicy numpy i przypisanie jej do zmiennej credit_numpy\n",
        "credit_numpy = np.genfromtxt(StringIO(raw_data), delimiter=',')\n",
        "print(credit_numpy)"
      ],
      "metadata": {
        "id": "0QvLCieRTVGX"
      },
      "execution_count": null,
      "outputs": []
    },
    {
      "cell_type": "markdown",
      "source": [
        "## Zadanie 1 \n",
        "**Definiowanie danych - typ Tensor**\n",
        "\n",
        "Po zaimportowaniu funkcji constant użyj jej do zrzutowania tablicy numpy *credit_numpy* na typ Tensor biblioteki tensorflow. Wynik przypisz do zmiennej *credit_constant*.\n",
        "\n",
        "\n",
        "\n",
        "**Instrukcja**\n",
        "\n",
        "1. Zaimportuj moduł constant z modułu tensorflow\n",
        "2. Zrzutuj tablice *credit_numpy* na obiekt Tensor biblioteki tensorflow"
      ],
      "metadata": {
        "id": "4lIX6UriWMaY"
      }
    },
    {
      "cell_type": "code",
      "execution_count": null,
      "metadata": {
        "id": "Z2vU8uuaWFbD"
      },
      "outputs": [],
      "source": [
        "# zaimportuj constant z tensorflow\n",
        "from tensorflow import ...\n",
        "\n",
        "# Zrzutuj tablicę credit_numpy na typ constant\n",
        "credit_constant = constant(...)\n",
        "\n",
        "# Wyświetl typ zmiennej credit_constant\n",
        "print(f\"The datatype is: {credit_constant.dtype}\")\n",
        "\n",
        "# Wyświetl wymiar zmiennej credit_constant\n",
        "print(f\"The shape is: {credit_constant.shape}\")\n"
      ]
    },
    {
      "cell_type": "markdown",
      "source": [
        "## Zadanie 2\n",
        "\n",
        "**Definiowanie danych - typ Variable**\n",
        "\n",
        "W odróżnieniu od zmiennej typu Tensor, zmienna typu Variable może zmieniać swoją wartość. Zmiana wartości jest szczególnie użyteczna kiedy chcemy wytrenować nasz model (akutalizować wartości wag).\n",
        "\n",
        "W ramach zadania zdefiniuj i wyświetl zmienną typu Variable. Następnie zrzutuj ją na tablicę numpy i ponownie wyśwetl. Porównaj utworzone obiekty.\n",
        "\n",
        "**Instrukcja**\n",
        "\n",
        "* zdefiniuj zmienną A1 typu Variable, która będzie jednowymiarowym tensorem o wartości [1, 2, 3, 4]\n",
        "* zrzutuj zmienną A1 na tablicę numpy, a wynik przypisz do zmiennej B1."
      ],
      "metadata": {
        "id": "UiCTtGs0i-Tw"
      }
    },
    {
      "cell_type": "code",
      "source": [
        "# zaimportuj Variable z tensorflow\n",
        "from tensorflow import ...\n",
        "\n",
        "# zdefiniuj jednowymiarową zmienną typu Variable A1\n",
        "A1 = ...([1, 2, 3, 4])\n",
        "\n",
        "# wyświetl zmienną A1\n",
        "print(f\"A1: {A1}\")\n",
        "\n",
        "# zrzutuj A1 do tablicy numpy, wynik przypisz do zmiennej B1\n",
        "B1 = ...\n",
        "\n",
        "# wyświetl B1\n",
        "print(f\"B1: {B1}\")"
      ],
      "metadata": {
        "id": "1L1WboeSi_Og"
      },
      "execution_count": null,
      "outputs": []
    },
    {
      "cell_type": "markdown",
      "source": [
        "**Podstawowe operacje na tensorach**\n",
        "\n",
        "| Funkcja     | Zastosowanie                                  | Operator |\n",
        "| ------------|:---------------------------------------------------------|:----|\n",
        "| add()       | sumowanie tensorów \"po współrzędnych\"     | + |\n",
        "| subtract()  | odejmowanie tensorów \"po współrzędnych\"   | - |\n",
        "| multiply()  | mnożenie tensorów \"po współrzędnych\"      | * |\n",
        "| divide()    | dzielenie tensorów \"po współrzędnych\"     | \\ |\n",
        "| floormod    | operacja modulo \"po współrzędnych\"        | % |\n",
        "| matmul()    | mnożenie macierzowe tensorów              | @ |\n",
        "| reduce_max()| znajdowanie maksymalnego elementu         ||\n",
        "| reduce_min()| znajdowanie minimalnego elementu          ||\n",
        "| reduce_sum()| sumowanie elementów                       ||\n",
        "| argmax()    | znajdowanie indeksu maksymalnego elementu ||| argmin()    | znajdowanie indeksu minimalnego elementu  ||"
      ],
      "metadata": {
        "id": "OWbKmZ7PMtBM"
      }
    },
    {
      "cell_type": "markdown",
      "source": [
        ""
      ],
      "metadata": {
        "id": "sKR4Fp2JiYiF"
      }
    },
    {
      "cell_type": "markdown",
      "source": [
        "## Zadanie 3\n",
        "\n",
        "**Mnożenie \"po współrzędnych\" (ang. element-wise)**\n",
        "\n",
        "Mnożenie \"po współrzędnych\" w teorii może zostać zrealizowane wyłącznie pomiędzy dwoma trensorami o identycznym kształcie. W praktyce jeżeli kształty macierzy nie są zgodne tensorflow stara się rozszerzyć macierze do kompatyblinych kształtów wykorzystując do tego mechanizm nazywany **broadcasting**. \"Po współrzędnych\" oznacza operacje wykonaną pojedynczo, na każdych dwóch, odpowiadających sobie elementach obu tensorów. Do oznaczenia mnożenia po współrzędnych często używa się symbolu ⊙.\n",
        "\n",
        "$$\n",
        "\\left(\\begin{array}{cc} \n",
        "1 & 2\\\\\n",
        "2 & 1\n",
        "\\end{array}\\right)\n",
        "⊙\n",
        "\\left(\\begin{array}{cc} \n",
        "3 & 1\\\\ \n",
        "2 & 5\n",
        "\\end{array}\\right)\n",
        "=\n",
        "\\left(\\begin{array}{cc} \n",
        "1 \\cdot 3 & 2 \\cdot 1\\\\ \n",
        "2 \\cdot 2 & 1 \\cdot 5\n",
        "\\end{array}\\right)\n",
        "=\n",
        "\\left(\\begin{array}{cc} \n",
        "3 & 2\\\\ \n",
        "4 & 5\n",
        "\\end{array}\\right)\n",
        "$$\n",
        "\n",
        "Celem tego zadania jest przećwiczenie mnożenie po współrzędnych.\n",
        "\n",
        "**Instrukcja**\n",
        "\n",
        "* zdefiniuj tensory A1 oraz A23 typu Tensor\n",
        "* do zmiennej B1 przypisz tensor jedynek o wymiarach identycznych jak tensor A1\n",
        "* do zmiennej B23 przypisz tensor jedynek o wymiarach identycznych jak tensor A23\n",
        "* do zmiennej C1 przypisz tensor, który będzie wynikiem wymnożenia po współrzędnych tensora A1 i B1\n",
        "* do zmiennej C23 przypisz tensor, który będzie wynikiem wymnożenia po współrzędnych tensora A23 i B23."
      ],
      "metadata": {
        "id": "Aa2GSB831Ms6"
      }
    },
    {
      "cell_type": "code",
      "source": [
        "# zaimportuj funkcję constant oraz funkcje ones_like i multiply z modułu tensorflow\n",
        "from tensorflow import constant, ones_like, ...\n",
        "\n",
        "# zdefiniuj tensor A1 i A23 typu Tensor\n",
        "A1 = ...([1, 2, 3, 4])\n",
        "A23 = ...([[1, 2, 3], [1, 6, 4]])\n",
        "\n",
        "# zdefiniuj tensory B1 i B23, tak żeby miały poprawne wymiary\n",
        "B1 = ones_like(...)\n",
        "B23 = ...\n",
        "\n",
        "# wykonaj mnożenia po elementach\n",
        "C1 = ...\n",
        "C23 = ...\n",
        "\n",
        "# wyświetl tensory C1 i C23\n",
        "print(f\"C1: {C1.numpy()}\")\n",
        "print(f\"C23: {C23.numpy()}\")"
      ],
      "metadata": {
        "id": "hoU4CRjg1Num"
      },
      "execution_count": null,
      "outputs": []
    },
    {
      "cell_type": "markdown",
      "source": [
        "## Zadanie 4\n",
        "\n",
        "**Prognozowanie z wykorzystaniem mnożenia macierzowego**\n",
        "\n",
        "W podstawowych modelach uczenia maszynowego (takich jak regresja liniowa czy sztuczne sieci neuronowe) wektor cech (danych wejściowych) (*ang. features vector*) mnożymy przez wektor/y wag. W wyniku otrzymujemy wektor celu (wektor odpowiedzi, prognozę, aka predykcję) (*ang. target vector*). Dobierając odpowiednie wagi możemy otrzymać prawidłowe wyniki. W zadaniu wektor cech reprezentowany jest za pomocą zmiennej *features*, a wektor celów reprezentowany za pomocą zmiennej *bill*. Liczby w obu wektorach stanowią wycinek informacji o posiadaczach kart kredytowych (powyżej). Wagi przechowowywane są w wektorze *params*.\n",
        "\n",
        "$$\n",
        "features=\n",
        "\\left(\\begin{array}{cc} \n",
        "2 & 24\\\\\n",
        "2 & 26\\\\\n",
        "2 & 57\\\\\n",
        "1 & 37\n",
        "\\end{array}\\right),\n",
        "$$\n",
        "$$\n",
        "bill = \n",
        "\\left(\\begin{array}{cc} \n",
        "3913\\\\ \n",
        "2682\\\\\n",
        "8617\\\\\n",
        "64400\n",
        "\\end{array}\\right),\n",
        "$$\n",
        "$$\n",
        "params =\n",
        "\\left(\\begin{array}{c} \n",
        "1000 \\\\ \n",
        "150\n",
        "\\end{array}\\right)\n",
        "$$\n",
        "\n",
        "Wektor cech stanowi dwukolumnową macierz. Kolumny oznaczają odpowiednio wykształcenie oraz wiek posiadacza karty. Wektor celu *bill* zawiera informację o stanie konta posiadacza karty.\n",
        "\n",
        "Spróbuj przewidzieć stan konta potencjalnego posiadacza karty na podstawie informacji o jego wykształceniu oraz wieku. Nie trenuj żadnego modelu. W ramach zadania spróbuj jedynie odgadnąć wartości wag dające względnie poprawne wyniki. Do mnożenia wektorów (tensorów) użyj funkcji *matmul* (w celu wymnożenia macierzy cech przez wektor wag). Otrzymane wyniki przypisz do zmiennej *bill_pred*, którą następnie porównaj z prawdziwymi wartościami, przechowywanymi w zmiennej *bill*. Różnica stanowić będzi błąd predykcji. Postaraj się, żeby błąd predykcji był możliwie najmniejszy.\n",
        "\n",
        "**Instrukcja**\n",
        "\n",
        "* Zdefiniuj zmienne features, params i bill jako constant\n",
        "* Oblicz przewidywaną wartość stanu konta poprzez przemnożenie danych wejściowych *features* przez wektor wag *params*. Wynik przechowaj w zmiennej *bill_pred*. Do mnożenia użyj mnożenia macierzowego, a nie mnożenia po współrzędnych.\n",
        "* Wylicz błąd predykcji (różnica pomiędzy odpowiadającymi sobie elementami wektorów *bill* oraz *bill_pred*, a wynik przypisz do zmiennej *error*."
      ],
      "metadata": {
        "id": "aIdk45752DO8"
      }
    },
    {
      "cell_type": "code",
      "source": [
        "# Zaimportuj constant, matmul z modułu tensorflow\n",
        "from tensorflow import constant, ...\n",
        "\n",
        "# Zdefiniuj zmienne features, params, i bill typu constant\n",
        "features = ...([[2, 24], [2, 26], [2, 57], [1, 37]])\n",
        "params = ...([[1000], [150]])\n",
        "bill = ...([[3913], [2682], [8617], [64400]])\n",
        "\n",
        "# Wylicz prognozowane wyniki przy użyciu zmiennych features i params. Wynik\n",
        "# przypisz do zmiennej bill_pred\n",
        "# Compute billpred using features and params\n",
        "bill_pred = ...\n",
        "\n",
        "# Oblicz i wyświetl błąd\n",
        "error = ... - ...\n",
        "print(error.numpy())"
      ],
      "metadata": {
        "id": "skZH9-zz_xZ_"
      },
      "execution_count": null,
      "outputs": []
    },
    {
      "cell_type": "markdown",
      "source": [
        "## Zadanie 5\n",
        "\n",
        "**Sumowanie po wybranym wymiarze tensora**\n",
        "\n",
        "Dana jest macierz *wealth* zawierająca wartości akcji i obligacji (w tysiącach dolarów) pięciu osób.\n",
        "\n",
        "$$\n",
        "wealth=\n",
        "\\left(\\begin{array}{cc} \n",
        "11 & 50\\\\\n",
        "7 & 2\\\\\n",
        "4 & 60\\\\\n",
        "3 & 0\\\\\n",
        "25 & 10\n",
        "\\end{array}\\right)\n",
        "$$\n",
        "\n",
        "Pierwsza kolumna zawiera informacje o obligacjach, druga o akcjach. Każdy wiersz to wartości obligacji i akcji jednej osoby. Używając funkcji reduce_sum powiedz:\n",
        "\n",
        "1. Która z osób posiada największy majątek\n",
        "2. Ile dolarów w obligacjach posiada wszystkie pięć osób"
      ],
      "metadata": {
        "id": "4LCH8pqoDDKJ"
      }
    },
    {
      "cell_type": "code",
      "source": [
        "# Zaimportuj funkcje reduce_sum z modułu tensorflow\n",
        "from tensorflow import constant, ...\n",
        "\n",
        "wealth = constant(\n",
        "  [\n",
        "     [11, 50],\n",
        "     [ 7,  2],\n",
        "     [ 4, 60],\n",
        "     [ 3,  0],\n",
        "     [25, 10]\n",
        "  ]\n",
        ")\n",
        "\n",
        "# Zsumuj wartości wzdłuż pierwszej osi (wertykalnej)\n",
        "sum_along_vertical_ax = ...(wealth, axis=...).numpy()\n",
        "\n",
        "# Zsumuj wartości wzdłuż drugiej osi (horyzontalnej)\n",
        "sum_along_horizontal_ax = ...(wealth, axis=...).numpy()\n",
        "\n",
        "# Wyświetl wyniki\n",
        "print(f\"Sum Y: {...}\")\n",
        "print(f\"Sum X: {...}\")"
      ],
      "metadata": {
        "id": "U4FrwOP7FDw3"
      },
      "execution_count": null,
      "outputs": []
    },
    {
      "cell_type": "markdown",
      "source": [
        "# Złożone operacje na tensorach\n",
        "\n",
        "| Funkcja    | Zastosowanie                                  |\n",
        "| ---------  |:----------------------------------------------|\n",
        "| gradient() | Liczy nachylenie funkcji w wybranym punkcie   |\n",
        "| reshape()  | Zmienia wymiar tensora (np. z 10x10 na 100x1) |"
      ],
      "metadata": {
        "id": "fcGbFxJ7JxOT"
      }
    },
    {
      "cell_type": "markdown",
      "source": [
        "## Zadanie 6\n",
        "\n",
        "**Obrazy**\n",
        "\n",
        "Omówione do tej pory algorytmy wykonywały obliczenia na wektorach liczb. Ale sieci neuronowe osiągają duże sukcesy w ropoznawaniu obrazów. W jaki sposób sieci neuronowe wykonują obliczenia na obrazach? Bez zmian - w komputerze obraz jest reprezentowany właśnie przez tensor (wektor, macierz) liczb."
      ],
      "metadata": {
        "id": "SsSvMuP6ncE5"
      }
    },
    {
      "cell_type": "code",
      "source": [
        "# Wczytane obrazy przedstawiają literę A w języku migowym w skali szarości \n",
        "# (24x24) oraz w kolorze (24x24x3). Po wczytaniu obrazu za pomocą biblioteki\n",
        "# PIL jest on rzutowany do tablicy numpy.\n",
        "\n",
        "# importy\n",
        "import requests\n",
        "import numpy as np\n",
        "from PIL import Image\n",
        "from io import BytesIO\n",
        "\n",
        "# adresy zdjęć\n",
        "gray_img_url = \"https://raw.githubusercontent.com/jgrynczewski/tensorflow_intro/master/gray_sign.jpg\"\n",
        "color_img_url = \"https://raw.githubusercontent.com/jgrynczewski/tensorflow_intro/master/color_sign.jpg\"\n",
        "\n",
        "### Obraz w skali szarości\n",
        "\n",
        "# Wysłanie zapytania HTTP i przypisanie odpowiedzi do zmiennej response\n",
        "response = requests.get(gray_img_url)\n",
        "\n",
        "# zrzutowanie odpowiedzi do obiektu Image biblioteki PIL\n",
        "# (metoda convert rzutuje na odpowiednią skalę kolorów, L oznacza\n",
        "# skalę szarości)\n",
        "gray_img = Image.open(BytesIO(response.content)).convert(\"L\")\n",
        "\n",
        "# zrzutowanie obiektu Image do tablicy numpy\n",
        "gray_data = np.asarray(gray_img)\n",
        "\n",
        "print(gray_data.shape)\n",
        "\n",
        "### Obraz kolorowy\n",
        "\n",
        "# Wysłanie zapytania HTTP i przypisanie odpowiedzi do zmiennej response\n",
        "response = requests.get(color_img_url)\n",
        "\n",
        "# zrzutowanie odpowiedzi do obiektu Image biblioteki PIL\n",
        "color_img = Image.open(BytesIO(response.content))\n",
        "\n",
        "# zrzutowanie obiektu Image do tablicy numpy\n",
        "color_data = np.asarray(color_img)\n",
        "\n",
        "print(color_data.shape)"
      ],
      "metadata": {
        "id": "XEUlHMwBtb6u"
      },
      "execution_count": null,
      "outputs": []
    },
    {
      "cell_type": "markdown",
      "source": [
        "**Funkcja reshape**\n",
        "\n",
        "W sieciach neuronowych w ramach wstępnego przetwarzania danych obraz jest spłaszczany do jednowymiarowego wektora. Zmień rozmiar tablicy numpy reprezentującej wczytany obraz do jednowymiarowego wektora przy użyciu funkcji reshape. Rozmiar macierzy reprezentującej *gray_img* wynosi 24x24, rozmiar macierzy reprezentującej *color_img* 24x24x3.\n",
        "\n",
        "**Instrukcja**\n",
        "\n",
        "* Zmień rozmiar tablicy gray_img z macierzy 24x24 na wektor o rozmiarze 576x1. Wynik przypisz do zmiennej *gray_vector*.\n",
        "* Zmień rozmiar tablicy color_img z tensora 24x24x3 na jednowymiarowy wektror o rozmiarze 1728x1. Wynik przypisz do zmienej *color_vector*."
      ],
      "metadata": {
        "id": "uWw4PR3c3EMa"
      }
    },
    {
      "cell_type": "code",
      "source": [
        "# Zaimporuj funkcję reshape\n",
        "from tensorflow import ...\n",
        "\n",
        "# Zmień rozmiar tensora reprezentującego obraz w szkali szarości do jednowymiarowego wektora\n",
        "gray_vector = reshape(... , (..., 1))\n",
        "\n",
        "# Zmień rozmiar tensora reprezentującego kolorowy obraz do jednowymiarowego wektora\n",
        "color_vector = ...(..., (..., 1))"
      ],
      "metadata": {
        "id": "xFouNsiM51go"
      },
      "execution_count": null,
      "outputs": []
    },
    {
      "cell_type": "markdown",
      "source": [
        "## Zadanie 7\n",
        "\n",
        "**Gradient**\n",
        "\n",
        "Algorytmy uczenia maszynowego są zagadnieniem z dziedziny optymalizacji. W zagadnieniach optymalizacyjnych najczęstszym zadaniem jest szukanie minimum lub maksimum wybranej funkcji. "
      ],
      "metadata": {
        "id": "U55mIyQg727e"
      }
    },
    {
      "cell_type": "markdown",
      "source": [
        "Dana jest funkcja\n",
        "$$\n",
        "y = x^2\n",
        "$$"
      ],
      "metadata": {
        "id": "5BFsvakr8dQm"
      }
    },
    {
      "cell_type": "code",
      "source": [
        "import numpy as np\n",
        "import matplotlib.pyplot as plt\n",
        "\n",
        "x = np.linspace(-1, 1, 30)\n",
        "y = x**2\n",
        "\n",
        "plt.plot(x, y)\n",
        "plt.title(\"y = x^2\")\n",
        "plt.show()"
      ],
      "metadata": {
        "id": "ru8lXm0D8hZ2"
      },
      "execution_count": null,
      "outputs": []
    },
    {
      "cell_type": "markdown",
      "source": [
        "Ekstrema (minimum lub maksimum) to miejsca, w których szybkość zmiany wartości maleje do zera. Szybkość zmiany wartości (reprezentowana graficznie poprzez nachylenie stycznej do wykresu funkcji) nazywamy pochodną (w przypadku wielu wymiarów mówimy o gradiencie). Ektrema znajdujemy licząc pochodną (gradient) w kolejnych punktach i szukając takiego punktu, w którym będzie ona wynosiła 0."
      ],
      "metadata": {
        "id": "nygCgo69V-P0"
      }
    },
    {
      "cell_type": "markdown",
      "source": [
        "**Metoda spadku gradientowego**\n",
        "\n",
        "Jeżeli nachylenie jest dodatnie możemy je zmniejszać zmniejszając x. Jeżeli nachylenie jest ujemne, możemy je zwiększać zwiększając x (szukamy punktu, w którym nachylenie funkcji będzie wynosiło dokładnie 0). Wybierając punkty w takim kierunku, w którym pochodna (gradient) maleje często najszybciej znajdziemy minimum. Opisaną metodę nazywamy metodą spadku gradientowego (*ang. gradient descent*).\n",
        "\n",
        "Nachylenie funkcji w wybranych punktach (gradient) można liczyć za pomocą klasy GradientTape() biblioteki tensorflow. W praktyce używa się wysokopoziomowych instrukcji, które mają już zaimplementowane znajdowanie minimum funkcji.\n",
        "\n",
        "Celem zadania jest samodzielne obliczenie nachylenia funkcji w punktach x=1 oraz x=-1.\n",
        "\n"
      ],
      "metadata": {
        "id": "peSN8zP19av2"
      }
    },
    {
      "cell_type": "markdown",
      "source": [
        "**Instrukcja**\n",
        "\n",
        "W ramach funkcji compute_gradient:\n",
        "  * Zdefiniuj zmienną x o wartości początkowej x0 i typie Variable\n",
        "  * Zdefiniuj funkcję y = x*x\n",
        "  * zwróć gradient funkcji y względem x"
      ],
      "metadata": {
        "id": "44Rp7g3TWFXE"
      }
    },
    {
      "cell_type": "code",
      "source": [
        "# Z biblioteki tensorflow zaimportuj Variable, multiply oraz GradientTape\n",
        "from tensorflow import Variable, multiply, ...\n",
        "\n",
        "def compute_gradient(x0):\n",
        "  # Zdefiniuj zmienną x typu Variable o wartości początkowej x0\n",
        "\tx = ...(x0)\n",
        "\twith GradientTape() as tape:\n",
        "\t\ttape.watch(x)  # zmienna względem której liczymy gradient\n",
        "    # Zdefiniuj y za pomocą funkcji multiply\n",
        "\t\ty = ...\n",
        "  \n",
        "  # Zwróc gradient funkcji y względem x\n",
        "\treturn tape.gradient(..., ...).numpy()\n",
        "\n",
        "# Oblicz gradienty dla punktów x=-1, x=1, x=0\n",
        "print(compute_gradient(-1.0))\n",
        "print(compute_gradient(1.0))\n",
        "print(compute_gradient(0.0))"
      ],
      "metadata": {
        "id": "isGjulCdSWge"
      },
      "execution_count": null,
      "outputs": []
    },
    {
      "cell_type": "markdown",
      "source": [
        "## Zadanie 8\n",
        "\n",
        "**Praca z obrazami**\n",
        "\n",
        "Dany jest czarno biały obraz przedstawiający literę X, zrzutowany do tablicy numpy (tensora)"
      ],
      "metadata": {
        "id": "ZhOO846SbmCE"
      }
    },
    {
      "cell_type": "code",
      "source": [
        "import numpy as np\n",
        "import matplotlib.pyplot as plt\n",
        "\n",
        "# czarnobiały obraz przedstawiający literę x zrzutowany do tablicy numpy\n",
        "letter = np.array(\n",
        "    [\n",
        "     [1, 0, 1],\n",
        "     [0, 1, 0], \n",
        "     [1, 0, 1]\n",
        "    ]\n",
        ")\n",
        "\n",
        "plt.imshow(letter, cmap='Greys')"
      ],
      "metadata": {
        "id": "8Aj0LYy-bpCM"
      },
      "execution_count": null,
      "outputs": []
    },
    {
      "cell_type": "markdown",
      "source": [
        "oraz \"wyuczony\" model będący binarnym klasyfikatorem, sprawdzającym czy obraz przedstawia literę K."
      ],
      "metadata": {
        "id": "s05t0yWTbrZu"
      }
    },
    {
      "cell_type": "code",
      "source": [
        "model = np.array(\n",
        "    [\n",
        "     [1, 0, -1]\n",
        "    ]\n",
        ")"
      ],
      "metadata": {
        "id": "cJIrKB6pbtCD"
      },
      "execution_count": null,
      "outputs": []
    },
    {
      "cell_type": "markdown",
      "source": [
        "Za pomocą modelu można sprawdzić czy podana litera to K poprzez kolejno:\n",
        "\n",
        "* transpozycję (zamianę wymiarów) modelu\n",
        "\n",
        "$$ \n",
        "model=\n",
        "\\left(\\begin{array}{cc} \n",
        "1 & 0 & -1\n",
        "\\end{array}\\right)\\\\\n",
        "model^T=\n",
        "\\left(\\begin{array}{cc} \n",
        "1 \\\\\n",
        "0 \\\\\n",
        "-1\n",
        "\\end{array}\\right)\n",
        "$$\n",
        "* wymnożenie tensorów letter i transponowany model\n",
        "\n",
        "$$\n",
        "output = letter \\cdot model^T=\n",
        "\\left(\\begin{array}{cc} \n",
        "1 & 0 & 1\\\\\n",
        "0 & 1 & 0\\\\\n",
        "1 & 0 & 1\n",
        "\\end{array}\\right)\n",
        "\\left(\\begin{array}{cc} \n",
        "1 \\\\\n",
        "0 \\\\\n",
        "-1\n",
        "\\end{array}\\right)\n",
        "=\n",
        "\\left(\\begin{array}{cc} \n",
        "1 \\cdot 1 + 0 \\cdot 0 + 1 \\cdot (-1) \\\\\n",
        "0 \\cdot 1 + 1 \\cdot 0 + 0 \\cdot (-1) \\\\\n",
        "1 \\cdot 1 + 0 \\cdot 0 + 1 \\cdot (-1) \\\\\n",
        "\\end{array}\\right)\n",
        "=\n",
        "\\left(\\begin{array}{cc} \n",
        "0 \\\\\n",
        "0 \\\\\n",
        "0 \\\\\n",
        "\\end{array}\\right)\n",
        "$$\n",
        "\n",
        "* zsumowaniu otrzymanych wartości wektora\n",
        "\n",
        "$$\n",
        "\\sum_{i=1}^3 output_i = 0+0+0 = 0\n",
        "$$\n",
        "\n",
        "* sprawdzeniu czy otrzymana wartość to 1\n",
        "\n",
        "$$\n",
        "0 \\neq 1 \n",
        "$$\n",
        "Model w algorytmach uczenia maszynowego to po prostu tensor będący kolekcją wag, który przeprowadza dane wejściowe w dane wyjściowe.\n",
        "\n",
        "**Instrukcja**\n",
        "\n",
        "* zmień wymiar modelu z (1, 3) na (3, 1) (funkcja *reshape*)\n",
        "* wymnóż tensory *model* i *letter*, wynik przypisz do zmiennej *output* (funkcja *matmul*)\n",
        "* zsumuj wartości otrzymanego tensora (*output*), a wynik przypisz do zmiennej *prediction* (funkcja *reduce_sum*)\n",
        "* wyświetl wartość prediction używając metody *numpy()*"
      ],
      "metadata": {
        "id": "LQpsoMyubwws"
      }
    },
    {
      "cell_type": "code",
      "source": [
        "# importy\n",
        "from tensorflow import reshape, matmul, reduce_sum\n",
        "\n",
        "# Zmień wymiar modelu z tensora 1x3 na tensor 3x1\n",
        "model = ___(model, (___, ___))\n",
        "\n",
        "# Wymnóż obraz przez model\n",
        "output = ___(letter, model)\n",
        "\n",
        "# Zsumuj otrzmany wynik\n",
        "prediction = ___\n",
        "\n",
        "# Wyświetl prognozę\n",
        "print(prediction.___)"
      ],
      "metadata": {
        "id": "3cd36rRtbxPm"
      },
      "execution_count": null,
      "outputs": []
    }
  ]
}