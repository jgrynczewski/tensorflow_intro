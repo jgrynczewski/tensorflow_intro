{
  "nbformat": 4,
  "nbformat_minor": 0,
  "metadata": {
    "colab": {
      "name": "tf2.0 - Keras.ipynb",
      "provenance": [],
      "collapsed_sections": []
    },
    "kernelspec": {
      "name": "python3",
      "display_name": "Python 3"
    },
    "language_info": {
      "name": "python"
    }
  },
  "cells": [
    {
      "cell_type": "markdown",
      "source": [
        "## Wysokopoziomowy interfejs Keras"
      ],
      "metadata": {
        "id": "Icv-kXx_Slb5"
      }
    },
    {
      "cell_type": "markdown",
      "source": [
        "### Importy"
      ],
      "metadata": {
        "id": "cbM5IcviXVrh"
      }
    },
    {
      "cell_type": "code",
      "execution_count": null,
      "metadata": {
        "id": "sQkcv7ohLAyf"
      },
      "outputs": [],
      "source": [
        "import matplotlib.pyplot as plt\n",
        "\n",
        "import tensorflow as tf\n",
        "print(f\"TensorFlow version: {tf.__version__}\")"
      ]
    },
    {
      "cell_type": "code",
      "source": [
        "# Załadowanie rozszerzenia tensorboard\n",
        "%load_ext tensorboard"
      ],
      "metadata": {
        "id": "SdPJNdJzrGdO"
      },
      "execution_count": 2,
      "outputs": []
    },
    {
      "cell_type": "markdown",
      "source": [
        "### [Zestaw danych MNIST](http://yann.lecun.com/exdb/mnist/)"
      ],
      "metadata": {
        "id": "wUmSVn-EXaGo"
      }
    },
    {
      "cell_type": "code",
      "source": [
        "mnist = tf.keras.datasets.mnist\n",
        "\n",
        "(x_train, y_train), (x_test, y_test) = mnist.load_data()\n",
        "x_train, x_test = x_train / 255.0, x_test / 255.0\n",
        "\n",
        "print(f\"Dane treningowe: {len(x_train)} próbek\")\n",
        "print(f\"Dane testowe: {len(x_test)} próbek\")"
      ],
      "metadata": {
        "id": "9SDRIWVHXLrU"
      },
      "execution_count": null,
      "outputs": []
    },
    {
      "cell_type": "markdown",
      "source": [
        "### Budowanie modelu\n",
        "\n",
        "Keras posiada dwie metody tworzenia modelu sieci neuronowej:\n",
        "* funkcjonalne API\n",
        "* model sekwencyjny (tf.keras.Sequential)\n",
        "\n",
        "W tym przykładzie użyjemy **modelu sekwencyjnego**."
      ],
      "metadata": {
        "id": "CQ0NREioYImu"
      }
    },
    {
      "cell_type": "code",
      "source": [
        "model = tf.keras.models.Sequential([\n",
        "    tf.keras.layers.Flatten(input_shape=(28, 28)),\n",
        "    tf.keras.layers.Dense(128, activation='relu'),\n",
        "    tf.keras.layers.Dropout(0.2),\n",
        "    tf.keras.layers.Dense(10, activation='softmax')  # softmax - prawdopodobieństwa w wyniku\n",
        "])"
      ],
      "metadata": {
        "id": "q2k2wDk8c1jb"
      },
      "execution_count": 4,
      "outputs": []
    },
    {
      "cell_type": "markdown",
      "source": [
        "Dla każdego przykładu model zwraca wektor wyników [logit](https://developers.google.com/machine-learning/glossary#logits) lub [log-odds](https://developers.google.com/machine-learning/glossary#log-odds) , po jednym dla każdej klasy."
      ],
      "metadata": {
        "id": "dhJX0oK9dTOv"
      }
    },
    {
      "cell_type": "code",
      "source": [
        "fig = plt.figure\n",
        "plt.imshow(x_train[1], cmap='gray')\n",
        "plt.show()\n",
        "\n",
        "predictions = model(x_train[:1]).numpy()\n",
        "predictions"
      ],
      "metadata": {
        "id": "JB3iQLmcdnkE"
      },
      "execution_count": null,
      "outputs": []
    },
    {
      "cell_type": "markdown",
      "source": [
        "### Konfiguracja i kompilacja modelu"
      ],
      "metadata": {
        "id": "ZpueTZKIlxlY"
      }
    },
    {
      "cell_type": "code",
      "source": [
        "model.compile(\n",
        "    optimizer='adam',  # optymalizator adam/SGD\n",
        "    loss='sparse_categorical_crossentropy',  # funkcja strat \n",
        "    metrics=['accuracy']  # metryki\n",
        ")"
      ],
      "metadata": {
        "id": "X12AnrOIix-B"
      },
      "execution_count": 17,
      "outputs": []
    },
    {
      "cell_type": "markdown",
      "source": [
        "**adam** (ang. **ada**ptive **m**oment estimation) - optymalizator, można porównać z dodawaniem lub zmniejszaniem przyśpieszenia w zależności od stromizny zbocza podczas poruszania się po pagórkowatym terenie.\n",
        "\n",
        "**sparse_categorical_crossentropy** to funkcja strat równa ujemnemu logarytmicznemu prawdopodobieństwu prawdziwej klasy. Jej wartość wynosi zero, jeśli model jest pewien, że klasa jest prawidłowa.\n",
        "\n",
        "**accuracy** - dokładność modelu (stosunek poprawnych predykcji do całkowitej liczby predykcji)"
      ],
      "metadata": {
        "id": "4CnJCYnljrfy"
      }
    },
    {
      "cell_type": "code",
      "source": [
        "# Tworzenie callbacku\n",
        "import datetime\n",
        "\n",
        "log_dir = 'adam_' + datetime.datetime.now().strftime(\"%Y%m%d-%H%M%S\")\n",
        "tensorboard_callback = tf.keras.callbacks.TensorBoard(log_dir=log_dir, histogram_freq=1)"
      ],
      "metadata": {
        "id": "sHguk8a7rTKx"
      },
      "execution_count": 18,
      "outputs": []
    },
    {
      "cell_type": "markdown",
      "source": [
        "### Trenowanie modelu razem z walidacją (sprawdzeniem wydajności modelu)"
      ],
      "metadata": {
        "id": "wK1z9wpxl_T8"
      }
    },
    {
      "cell_type": "code",
      "source": [
        "r = model.fit(\n",
        "    x_train, \n",
        "    y_train, \n",
        "    validation_data=(x_test, y_test), \n",
        "    epochs=5,\n",
        "    callbacks=[\n",
        "        tensorboard_callback\n",
        "    ]\n",
        ")"
      ],
      "metadata": {
        "id": "CamcJYWlmAqw"
      },
      "execution_count": null,
      "outputs": []
    },
    {
      "cell_type": "markdown",
      "source": [
        "### Wyświetlenie statystyk treningu"
      ],
      "metadata": {
        "id": "tcFZGmfknKW4"
      }
    },
    {
      "cell_type": "code",
      "source": [
        "# strata\n",
        "plt.plot(r.history['loss'], label='loss')\n",
        "plt.plot(r.history['val_loss'], label='val_loss')\n",
        "plt.legend()"
      ],
      "metadata": {
        "id": "yqJT5EzGnT6O"
      },
      "execution_count": null,
      "outputs": []
    },
    {
      "cell_type": "code",
      "source": [
        "# dokładność\n",
        "plt.plot(r.history['accuracy'], label='acc')\n",
        "plt.plot(r.history['val_accuracy'], label='val_acc')\n",
        "plt.legend()"
      ],
      "metadata": {
        "id": "gJn4CMRInZqn"
      },
      "execution_count": null,
      "outputs": []
    },
    {
      "cell_type": "markdown",
      "source": [
        "### Macierz błędu (ang. confusion matrix)"
      ],
      "metadata": {
        "id": "iGe_GogRogGx"
      }
    },
    {
      "cell_type": "code",
      "source": [
        "# Popatrzmy jeszcze na macierz błędu i zobaczmy z jakimi przykładami\n",
        "# sieć sobie nie poradziła.\n",
        "from sklearn.metrics import confusion_matrix\n",
        "import numpy as np\n",
        "import itertools\n",
        "\n",
        "def plot_confusion_matrix(\n",
        "    cm,\n",
        "    classes,\n",
        "    normalize=False,\n",
        "    title='Confusion matrix',\n",
        "    cmap=plt.cm.Blues\n",
        "):\n",
        "  \"\"\"\n",
        "    This function prints and plots the confusion matrix.\n",
        "    Normalization can be applied by setting `normalize=True`\n",
        "  \"\"\"\n",
        "\n",
        "  if normalize:\n",
        "    cm = cm.astype('float') / cm.sum(axis=1)[:, np.newaxis]\n",
        "    print(\"Normalized confusion matrix\")\n",
        "  else:\n",
        "    print(\"Confusion matrix, without normalization\")\n",
        "\n",
        "  print(cm)\n",
        "\n",
        "  plt.imshow(cm, interpolation='nearest', cmap=cmap)\n",
        "  plt.title(title)\n",
        "  plt.colorbar()\n",
        "  tick_marks = np.arange(len(classes))\n",
        "  plt.xticks(tick_marks, classes, rotation=45)\n",
        "  plt.yticks(tick_marks, classes)\n",
        "\n",
        "  fmt = '.2f' if normalize else 'd'\n",
        "  thresh = cm.max() / 2.\n",
        "  for i, j in itertools.product(range(cm.shape[0]), range(cm.shape[1])):\n",
        "    plt.text(j, i, format(cm[i, j], fmt), horizontalalignment=\"center\", color=\"white\" if cm[i, j] > thresh else \"black\")\n",
        "\n",
        "  plt.tight_layout()\n",
        "  plt.ylabel('True label')\n",
        "  plt.xlabel('Predicted label')\n",
        "  plt.show()\n",
        "\n",
        "p_test = model.predict(x_test).argmax(axis=1)\n",
        "cm = confusion_matrix(y_test, p_test)\n",
        "plot_confusion_matrix(cm, list(range(10)))\n",
        "\n",
        "# 9 <--> 4, 9 <--> 7, 2 <--> 7, etc."
      ],
      "metadata": {
        "id": "l5DukvnGoiQR"
      },
      "execution_count": null,
      "outputs": []
    },
    {
      "cell_type": "code",
      "source": [
        "# Wyświetlmy kilka nieprawidłowo zaklasyfikowanych obrazów\n",
        "misclassified_idx = np.where(p_test != y_test)[0]\n",
        "i = np.random.choice(misclassified_idx)\n",
        "plt.imshow(x_test[i], cmap='gray')\n",
        "plt.title(f\"True label: {y_test[i]} Predicted: {p_test[i]}\")"
      ],
      "metadata": {
        "id": "eQfuxoUMoxO7"
      },
      "execution_count": null,
      "outputs": []
    },
    {
      "cell_type": "code",
      "source": [
        "%tensorboard --logdir='./'"
      ],
      "metadata": {
        "id": "e7yFKixzsmWD"
      },
      "execution_count": null,
      "outputs": []
    }
  ]
}