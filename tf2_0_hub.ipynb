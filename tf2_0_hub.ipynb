{
 "cells": [
  {
   "cell_type": "code",
   "execution_count": null,
   "metadata": {},
   "outputs": [],
   "source": [
    "!pip install tensorflow_hub"
   ]
  },
  {
   "cell_type": "code",
   "execution_count": null,
   "metadata": {
    "id": "RARsIynFY985"
   },
   "outputs": [],
   "source": [
    "import tensorflow as tf\n",
    "import tensorflow_hub as hub\n",
    "\n",
    "import requests\n",
    "from PIL import Image\n",
    "from io import BytesIO\n",
    "\n",
    "import matplotlib.pyplot as plt\n",
    "import numpy as np"
   ]
  },
  {
   "cell_type": "code",
   "execution_count": null,
   "metadata": {
    "colab": {
     "base_uri": "https://localhost:8080/",
     "height": 286
    },
    "id": "KseMOTHqZcIH",
    "outputId": "175b1956-ef10-42bf-8d8e-d516a1f4e1c3"
   },
   "outputs": [],
   "source": [
    "# Wczytywanie obrazu\n",
    "image_url = \"https://github.com/jgrynczewski/tensorflow_intro/raw/master/tiger.jpg\"\n",
    "\n",
    "response = requests.get(image_url)\n",
    "# zrzutowanie odpowiedzi do obiektu Image biblioteki PIL\n",
    "color_img = Image.open(BytesIO(response.content))\n",
    "\n",
    "# zrzutowanie obiektu Image do tablicy numpy\n",
    "color_data = np.asarray(color_img)\n",
    "\n",
    "plt.imshow(color_data)"
   ]
  },
  {
   "cell_type": "code",
   "execution_count": null,
   "metadata": {
    "id": "EeZoapoXaMjH"
   },
   "outputs": [],
   "source": [
    "# Wczytanie wyuczonego klasyfikatora\n",
    "# https://tfhub.dev/google/imagenet/efficientnet_v2_imagenet1k_s/classification/2\n",
    "\n",
    "efficientnetv2s_model_url = \"https://tfhub.dev/google/imagenet/efficientnet_v2_imagenet1k_s/classification/2\"\n",
    "classifier = hub.load(efficientnetv2s_model_url)"
   ]
  },
  {
   "cell_type": "code",
   "execution_count": null,
   "metadata": {
    "id": "mK80PTU-dcrL"
   },
   "outputs": [],
   "source": [
    "# Wczytanie etykiet\n",
    "labels_file = \"https://raw.githubusercontent.com/jgrynczewski/tensorflow_intro/master/ImageNetLabels.txt\"\n",
    "\n",
    "\n",
    "downloaded_file = tf.keras.utils.get_file(\"labels.txt\", origin=labels_file)\n",
    "\n",
    "classes = []\n",
    "\n",
    "with open(downloaded_file) as f:\n",
    "  labels = f.readlines()\n",
    "  classes = [l.strip() for l in labels]\n",
    "\n",
    "print(classes)"
   ]
  },
  {
   "cell_type": "code",
   "execution_count": null,
   "metadata": {
    "colab": {
     "base_uri": "https://localhost:8080/"
    },
    "id": "wObs4MvreyuT",
    "outputId": "62aa480d-d945-45b9-85ae-8d6b3ca582c6"
   },
   "outputs": [],
   "source": [
    "# Preprocessing\n",
    "# Zmiana rozmiarów i rzutowanie obrazu na tf.Tensor + zmiana rozmiarów\n",
    "# Na podstawie https://tfhub.dev/google/imagenet/efficientnet_v2_imagenet1k_s/classification/2\n",
    "\n",
    "image_size = 384\n",
    "\n",
    "# zmiana kształtu na [batch_size, height, width, num_channels]\n",
    "img = tf.reshape(color_data, [1, color_data.shape[0], color_data.shape[1], color_data.shape[2]])\n",
    "\n",
    "# metoda `convert_image_dtype` do konwersji floats do zakresu [0,1]\n",
    "image = tf.image.convert_image_dtype(img, tf.float32)\n",
    "\n",
    "img_reshaped = tf.image.resize_with_pad(image, image_size, image_size)\n",
    "\n",
    "print(image)"
   ]
  },
  {
   "cell_type": "code",
   "execution_count": null,
   "metadata": {
    "colab": {
     "base_uri": "https://localhost:8080/",
     "height": 356
    },
    "id": "Vt38LAJmaF2X",
    "outputId": "87047c17-42f6-498d-ff62-1f4fa5b60ad7"
   },
   "outputs": [],
   "source": [
    "# Przekazanie obrazu do modelu\n",
    "probabilities = tf.nn.softmax(classifier(image)).numpy()\n",
    "print(probabilities)\n",
    "print(probabilities.shape)\n",
    "\n",
    "top_5 = tf.argsort(probabilities, axis=-1, direction=\"DESCENDING\")[0][:5].numpy()\n",
    "np_classes = np.array(classes)\n",
    "\n",
    "# Niektóre modele przewidują dodatkowo 'background', należy to uwzględnić \n",
    "# wczytując etykiety.\n",
    "includes_background_class = probabilities.shape[1] == 1001\n",
    "\n",
    "# 5 najlepszych prognoz\n",
    "for i, item in enumerate(top_5):\n",
    "  class_index = item if includes_background_class else item + 1\n",
    "  line = f'({i+1}) {class_index:4} - {classes[class_index]}: {probabilities[0][top_5][i]}'\n",
    "  print(line)\n",
    "\n",
    "# # \n",
    "# image_size = image.shape[1]\n",
    "# plt.figure(figsize=(image_size, image_size))\n",
    "plt.imshow(image[0])\n",
    "plt.show()\n"
   ]
  },
  {
   "cell_type": "markdown",
   "metadata": {
    "id": "bdcY5ob3fj24"
   },
   "source": [
    "Transfer wiedzy (*ang. Transfer learning*)"
   ]
  }
 ],
 "metadata": {
  "colab": {
   "collapsed_sections": [],
   "name": "tf2.0-hub.ipynb",
   "provenance": []
  },
  "kernelspec": {
   "display_name": "Python 3 (ipykernel)",
   "language": "python",
   "name": "python3"
  },
  "language_info": {
   "codemirror_mode": {
    "name": "ipython",
    "version": 3
   },
   "file_extension": ".py",
   "mimetype": "text/x-python",
   "name": "python",
   "nbconvert_exporter": "python",
   "pygments_lexer": "ipython3",
   "version": "3.11.1"
  }
 },
 "nbformat": 4,
 "nbformat_minor": 1
}
