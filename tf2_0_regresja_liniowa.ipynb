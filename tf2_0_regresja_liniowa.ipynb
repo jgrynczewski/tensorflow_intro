{
 "cells": [
  {
   "cell_type": "markdown",
   "metadata": {
    "id": "2_mlpJjhrSy0"
   },
   "source": [
    "## Trenowanie modelu liniowego w tensorflow"
   ]
  },
  {
   "cell_type": "markdown",
   "metadata": {
    "id": "vkF9LX412hpb"
   },
   "source": [
    "### Zadanie 1 - wczytanie danych\n",
    "\n",
    "W ramach zadania podejmiesz wyzwanie kaggle kc_house_data.\n",
    "https://www.kaggle.com/datasets/shivachandel/kc-house-data\n",
    "\n",
    "Udostępnione w ramacha wyzwania dane zawierają ceny domów sprzedanych pomiędzy majem 2014, a majem 2015 w hrabstwie King County stanu Waszyngton w USA. Dane wczytaj za pomocą biblioteki pandas."
   ]
  },
  {
   "cell_type": "code",
   "execution_count": null,
   "metadata": {
    "id": "j5kshW6brI7D"
   },
   "outputs": [],
   "source": [
    "# zaimportuj bibliotekę pandas i nadaj jej alias pd\n",
    "___\n",
    "\n",
    "# przypisz url pliku csv do zmiennej data_url\n",
    "___ = \"https://raw.githubusercontent.com/jgrynczewski/tensorflow_intro/master/kc_house_data.csv\"\n",
    "\n",
    "# wczytaj plik za pomocą funkcji read_csv, przekazując do niej url pliku. \n",
    "# Wynik przypisz do zmiennej data\n",
    "___ = pd.read_csv(___)\n",
    "\n",
    "# wyświetl dataframe z wczytanymi danymi\n",
    "data"
   ]
  },
  {
   "cell_type": "markdown",
   "metadata": {
    "id": "kFIBIqKzylj-"
   },
   "source": [
    "Zbiór zawiera informacje o ponad 21000 domów. Każdy dom opisany jest 21 cechami, wsród których znajduje się cena sprzedaży (kolumna *price*). Dane w niektórych kolumnach są typu numerycznego - *floors*, *price*, *bedrooms*, inne typu boolean - *waterfront*. Kolumna *date* zawiera datę zawarcia transakcji."
   ]
  },
  {
   "cell_type": "code",
   "execution_count": null,
   "metadata": {
    "id": "zZpbuDSz8o0_"
   },
   "outputs": [],
   "source": [
    "data.columns"
   ]
  },
  {
   "cell_type": "markdown",
   "metadata": {
    "id": "qSTXFzSf2lAS"
   },
   "source": [
    "### Zadanie 2 - rzutowanie danych\n",
    "\n",
    "Zrzutuj dane z kolumn price na tablicę numpy, a dane z kolumny waterfront na obiekt typu tf.Tensor. Pamiętaj o nadaniu obiektom odpowiednich typów (tablica numpy - float32, tf.tensor - tf.bool)."
   ]
  },
  {
   "cell_type": "code",
   "execution_count": null,
   "metadata": {
    "id": "TYxaCoarxlrY"
   },
   "outputs": [],
   "source": [
    "# Zaimportuj biblioteki numpy i tensorflow z ich standardowymi aliasami\n",
    "___\n",
    "___\n",
    "\n",
    "# Zrzutuj dane z kolumny price na tablicę numpy typu np.float32\n",
    "price = np.array(data['price'], np.___)\n",
    "\n",
    "# Zrzutuj dane z kolumny waterfront na obiekt tf.Tensor typu tf.bool\n",
    "# Do rzutowania użyj funkcji tf.cast\n",
    "waterfront = tf.___(data['waterfront'], tf.___)\n",
    "\n",
    "# Wyświetl zmienną price\n",
    "print(___)\n",
    "\n",
    "# Wyświetl zmienną waterfront\n",
    "print(___)"
   ]
  },
  {
   "cell_type": "markdown",
   "metadata": {
    "id": "EtwxzzGYRvCe"
   },
   "source": [
    "### Zadanie 3 - estymacja błędu (funkcja kosztu)\n",
    "\n",
    "Ceny domów przechowujesz w tablicy numpy *price* (poprzednie zadanie). Przy założeniu, że przewidywane, obliczone przez model ceny przechowywane są w tablicy numpy *predictions* znajdź średni błąd kwadratowy predykcji (mse). Dane predictions są załadowane z pliku csv poniżej."
   ]
  },
  {
   "cell_type": "code",
   "execution_count": null,
   "metadata": {
    "id": "uRT0EE9RSTGx"
   },
   "outputs": [],
   "source": [
    "# Załadowanie predykcji do zmiennej predicions\n",
    "# ceny domów są już przechowywane w zmiennej price (zadanie 2)\n",
    "\n",
    "predictions_url = \"https://raw.githubusercontent.com/jgrynczewski/tensorflow_intro/master/predictions.csv\"\n",
    "\n",
    "predictions_data = pd.read_csv(predictions_url, header=None)\n",
    "\n",
    "predictions = predictions_data.to_numpy().flatten()"
   ]
  },
  {
   "cell_type": "code",
   "execution_count": null,
   "metadata": {
    "id": "32KmbxZcUd90"
   },
   "outputs": [],
   "source": [
    "# policz średni błąd kwadratowy predykcji (mean squared error - mse)\n",
    "loss = tf.keras.losses.___(price, predictions)\n",
    "\n",
    "# wyświetl wartość błędu\n",
    "print(loss.numpy())"
   ]
  },
  {
   "cell_type": "code",
   "execution_count": null,
   "metadata": {
    "id": "JsvQwICGUyKz"
   },
   "outputs": [],
   "source": [
    "# policz średni błąd absolutny predykcji (mean absoulte error - mae)\n",
    "loss = tf.keras.losses.___(price, predictions)\n",
    "\n",
    "# wyświetl wartość błędu\n",
    "print(loss.numpy())"
   ]
  },
  {
   "cell_type": "markdown",
   "metadata": {
    "id": "t5M0VCRCWIBq"
   },
   "source": [
    "Jak pewnie zauważyłeś mae ma znacznie mniejszą wartość niż mse mimo, że wartości predictions i price były takie same w obu przypadkach. Dzieje się tak dlatego, że różne funkcje kosztów różnie każą za niezgodność prognozy z ceną rzeczywistą. MSE szczególnie nie lubi dużych niezgodności i mocno każe za takie niezgodności."
   ]
  },
  {
   "cell_type": "markdown",
   "metadata": {
    "id": "17ii04TrZ2Ai"
   },
   "source": [
    "### Zadanie 4 - predykcja\n",
    "\n",
    "W poprzednim zadaniu wczytałeś dane predykcji z pliku. W tym zadaniu napiszesz własny model, który sam będzie prognozował wynik. Najprostszy, liniowy model na postać:\n",
    "\n",
    "$$ \n",
    "predictions = scalar * features\n",
    "$$\n",
    "\n",
    ", gdzie *scalar* to parametr (waga), którego wartość należy tak dobrać, aby funkcja kosztu miała wartość najmniejszą, tzn. taką wartość która w najdokładniejszy możliwy sposób przeniesie wektor cech na wektor celu.\n",
    "\n",
    "Dla uproszczenia obliczeń wektor cech ma postać\n",
    "\n",
    "$$\n",
    "features = [1, 2, 3, 4, 5]\n",
    "$$\n",
    "\n",
    "a wektor celu (w poprzednim zadaniu to były ceny) ma postać\n",
    "\n",
    "$$\n",
    "targets = [2, 4, 6, 8, 10]\n",
    "$$ \n",
    "\n"
   ]
  },
  {
   "cell_type": "code",
   "execution_count": null,
   "metadata": {
    "id": "uG8PfsU2eJwm"
   },
   "outputs": [],
   "source": [
    "features = tf.constant([1, 2, 3, 4, 5], dtype=tf.float32)\n",
    "targets = tf.constant([2, 4, 6, 8, 10], dtype=tf.float32)"
   ]
  },
  {
   "cell_type": "markdown",
   "metadata": {
    "id": "G_gSp6MxfFPd"
   },
   "source": [
    "Zapewne od razu widzisz poszukiwaną wartośc prametru *scalar*. Wartość 2 to wartość, dla której wektor *predictions* będzie nie tylko podobny, ale nawet identyczny jak wektor targets, a wartość funkcji kosztów wyniesie 0. Ale zrób to zadanie krok po kroku:\n",
    "1. zdefiniuj model\n",
    "2. zdefiniuj własną funkcję loss_function, która będzie liczyła prognozę modelu i zwracała jej błąd"
   ]
  },
  {
   "cell_type": "code",
   "execution_count": null,
   "metadata": {
    "id": "U9qMMTDUf-_s"
   },
   "outputs": [],
   "source": [
    "# Wartość parametru skalar (zawsze trzeba przyjąc jakąś wartość początkową)\n",
    "# Zainicalizuj tensor tf.Variable typu float32 o wartości 1 i przypisz go do \n",
    "# zmiennej scalar (to jest pierwsza wartość parametru scalar)\n",
    "scalar = ___(1.0, tf.___)\n",
    "\n",
    "# zdefiniuj model\n",
    "def model(scalar, features = features):\n",
    "  \treturn scalar * features\n",
    "\n",
    "# Zdefiniuj funkcję loss_function\n",
    "def loss_function(___, features = features, targets = targets):\n",
    "\t\"\"\"Liczy predykcję oraz jej błąd. Zwraca błąd predykcji\"\"\"\n",
    "\n",
    "  # policz predykcje dla zadanej wartości parametru scalar\n",
    "\tpredictions = model(scalar, features)\n",
    "    \n",
    "\t# policz i zwróć średni błąd absolutny predykcji\n",
    "\treturn tf.keras.losses.___(targets, predictions)\n",
    "\n",
    "# Wykonaj funkcje compute_loss i wyświetl koszt (błąd predykcji) (dla wartość \n",
    "# parametry scalar=1.0 - przypominam, bo wartość parametru scalar zdefiniowałeś \n",
    "# na samym początku)\n",
    "print(loss_function(scalar).numpy())"
   ]
  },
  {
   "cell_type": "markdown",
   "metadata": {
    "id": "IJ-Ua_MBh6dU"
   },
   "source": [
    "## Zadanie 5 - jednowymiarowa regresja liniowa\n",
    "\n",
    "W tej chwili dysponujesz już wszystkim co jest potrzebne do zaimplementowania regresji liniowej. Dodając człon stały (intercept) do liniowego modelu z poprzedniego zadania otrzymasz pełny wzór regresji liniowej.\n",
    "\n",
    "$$ \n",
    "prediction = intercept + slope * features\n",
    "$$\n",
    "\n",
    "W tym przypadku mówimy o jednowymiarowej regresji liniowej. Jednowymiarowa regresja liniowa to model identyfikujący zależność pomiędzy pojedynczą cechą a wektorem celu. W ramach zadania należy odgadnąć cenę domu na podstawie jego powierzchni. W tym celu zdefniujesz model oraz funkcję loss_function i policzysz jej wartość dla dwóch różnych wartości intercept i slope.\n",
    "\n",
    "**Instrukcja**\n",
    "* zdefinuj funkcję, która zwróci przewidywaną wartość dla regresji liniowej przy użyciu *intercept*, *features* i *slope*\n",
    "* uzupełnij loss_function() poprzez dodanie parametrów intercept i slope\n",
    "* policz mse na podstawie targets i predictions."
   ]
  },
  {
   "cell_type": "code",
   "execution_count": null,
   "metadata": {
    "id": "EPVXT6QBz6PH"
   },
   "outputs": [],
   "source": [
    "# Najpierw popatrz na dane\n",
    "import matplotlib.pyplot as plt\n",
    "\n",
    "print(data.columns)\n",
    "\n",
    "size = np.array(data['sqft_lot'], np.float32)\n",
    "\n",
    "plt.plot(size, price, 'o', color='black')\n",
    "plt.xlabel('size')\n",
    "plt.ylabel('price')\n",
    "plt.show()"
   ]
  },
  {
   "cell_type": "code",
   "execution_count": null,
   "metadata": {
    "id": "xjACxaoU10C1"
   },
   "outputs": [],
   "source": [
    "# Mocno rozrzucone. A log ?\n",
    "\n",
    "size_log = np.log(size)\n",
    "price_log = np.log(price)\n",
    "print(size_log)\n",
    "plt.plot(size_log, price_log, 'o', color='black')\n",
    "plt.xlabel('log(size)')\n",
    "plt.ylabel('log(price)')\n",
    "plt.show()"
   ]
  },
  {
   "cell_type": "code",
   "execution_count": null,
   "metadata": {
    "id": "pCY2_o2lFSZJ"
   },
   "outputs": [],
   "source": [
    "# Lepiej. Dlaczego log ?\n",
    "\n",
    "data.hist('price',figsize=(8,5))\n",
    "plt.title('Number of houses vs Price')\n",
    "plt.ylabel('Number of Houses')\n",
    "plt.xlabel(\"Price\")"
   ]
  },
  {
   "cell_type": "code",
   "execution_count": null,
   "metadata": {
    "id": "faxpRSk8FopZ"
   },
   "outputs": [],
   "source": [
    "data['log_price'] = np.log(data['price'])\n",
    "\n",
    "data.hist('log_price',figsize=(8,5))\n",
    "plt.title('Number of houses vs log(Price)')\n",
    "plt.ylabel('Number of Houses')\n",
    "plt.xlabel(\"log(Price)\")  # Tłumi różnice w dużych wartościach (patrz wykres log(x))"
   ]
  },
  {
   "cell_type": "code",
   "execution_count": null,
   "metadata": {
    "id": "bXcg0NNzvKAK"
   },
   "outputs": [],
   "source": [
    "# Zdefiniuj model regresji liniowej (y = b + a*x)\n",
    "def linear_regression(intercept, slope, features = size_log):\n",
    "\treturn ___\n",
    "\n",
    "# Zdefiniuj loss_function() w taki sposób, żeby przyjmowała odpowiednie zmienne\n",
    "# jako argumenty\n",
    "def loss_function(___, ___, features = size_log, targets = price_log):\n",
    "\t# Predykcja\n",
    "\tpredictions = linear_regression(intercept, slope, features)\n",
    "    \n",
    "    # Zwróc wartośc mse\n",
    "\treturn tf.keras.losses.___\n",
    "\n",
    "# Oblicz wartość kosztu dla zadanych wartości parametrów slope i intercept\n",
    "print(loss_function(0.1, 0.1).numpy())\n",
    "print(loss_function(0.1, 0.5).numpy())"
   ]
  },
  {
   "cell_type": "markdown",
   "metadata": {
    "id": "PrYqUsSd3lLb"
   },
   "source": [
    "### Zadanie 6 - trenowanie modelu liniowego (do przeczytania)\n"
   ]
  },
  {
   "cell_type": "markdown",
   "metadata": {
    "id": "hkJV_CY-4o7S"
   },
   "source": [
    "W jaki sposób zbiegać z wartościami parametrów intercept i slope ?\n",
    "Wzdłuż największego spadku funkcji kosztów (wzdłuż spadku gradientu). Z jakim krokiem ?\n",
    "Nie będziemy tego wszystkiego samodzielnie implementować. W tym miejscu używa się tzw. optymalizatorów. Użyjemy optymalizatora Adam."
   ]
  },
  {
   "cell_type": "code",
   "execution_count": null,
   "metadata": {
    "id": "okpKy5wY4GGU"
   },
   "outputs": [],
   "source": [
    "# Początkowe wartości parametrów intercept, slope (przyjęte arbitralnie)\n",
    "intercept = tf.Variable(5, dtype=tf.float32)\n",
    "slope = tf.Variable(0.001, dtype=tf.float32)\n",
    "\n",
    "# Inicjalizacja opytmalizatora\n",
    "opt = tf.keras.optimizers.Adam(0.5)\n",
    "\n",
    "for j in range(100):\n",
    "\t# Zastosuj metodę minimize optymalizatora. Do metody przekaż funkcję kosztów\n",
    "\t# i wartości parametrów\n",
    "\topt.minimize(lambda: loss_function(intercept, slope), var_list=[intercept, slope])\n",
    "\n",
    "\t# Co dziesiąte przejście wyświetlaj koszt\n",
    "\tif j % 10 == 0:\n",
    "\t\tprint(loss_function(intercept, slope).numpy())\n",
    "\n",
    "# Wyświetl otrzymane wartości parametrów\n",
    "print(intercept)\n",
    "print(slope)\n",
    "\n",
    "# Wyświetl dane oraz model dla otrzymanych wartości parametrów intercept i slope\n",
    "y_predict = intercept + slope * size_log\n",
    "\n",
    "# dane\n",
    "plt.plot(size_log, price_log, 'o', color='black', markersize=2)\n",
    "\n",
    "# model\n",
    "plt.plot(size_log, y_predict, color='red')\n",
    "\n",
    "plt.grid()\n",
    "plt.xlabel('log(size)')\n",
    "plt.ylabel('log(price)')\n",
    "plt.show()"
   ]
  },
  {
   "cell_type": "markdown",
   "metadata": {
    "id": "Ul_Ttg5D68z5"
   },
   "source": [
    "### Zadanie 7 - wielowymiarowa regresja liniowa\n",
    "\n",
    "Jedna cecha (w poprzednim zadaniu była to powierzchnia domu) zazwyczaj to za mało informacji, żeby móc trafnie prognozować wynik. Najczęściej wynik zależy od kilku, często wielu czynników. Na cenę domów napewno poza powierzchnią wpływ mają takie czynniki jak liczba sypialni czy bliskość wybrzeża. W celu uwzględnienia wielu czynników należy użyć regresji wielowymiarowej. W swojej istocie regresja wielowymiarowa nie różni się niczym od regresji jednowymiarowej. Zagadnienie zwiększa jedynie swoją wymiarowość czego efektem jest macierz (a nie wektor) cech, oraz wektor z wartościami jednego intersect i po jednym slope dla każdej z cech (a nie pojedyncza wartość slope).\n",
    "\n",
    "W zadaniu uwzględnij dwie cechy - powierzchnię oraz liczbę sypialni (regresja dwuwymiarowa).\n",
    "\n",
    "W przypadku regresji dwuwymiarowej równanie modelu ma postać:\n",
    "$$\n",
    "predictions = intersect + slope_{1} \\cdot feature_1 + slope_{2} \\cdot feature_{2} \n",
    "$$"
   ]
  },
  {
   "cell_type": "code",
   "execution_count": null,
   "metadata": {
    "id": "WJdJ1J2e8lZw"
   },
   "outputs": [],
   "source": [
    "bedrooms = np.array(data['bedrooms'], np.float32)"
   ]
  },
  {
   "cell_type": "code",
   "execution_count": null,
   "metadata": {
    "id": "iBx7qshWQPFj"
   },
   "outputs": [],
   "source": [
    "# Wartości początkowe parametrów (przyjęte doświadczalnie, takie przy których\n",
    "# model stosunkowo szybko zbiega do poprawnego wyniku)\n",
    "params = tf.Variable(np.array([10, 0.65, 0.2]))\n",
    "\n",
    "# Zdefiniuj dwuwymiary model regresji liniowej\n",
    "def linear_regression(params, feature1 = size_log, feature2 = bedrooms):\n",
    "\treturn params[0] + feature1*___ + feature2*___\n",
    "\n",
    "# Zdefiniuj funkcje kosztów\n",
    "def loss_function(___, targets = price_log, feature1 = size_log, feature2 = bedrooms):\n",
    "\t# Predykcja\n",
    "\tpredictions = linear_regression(params, feature1, feature2)\n",
    "  \n",
    "\t# Średni błąd absolutny\n",
    "\treturn tf.keras.losses.___(targets, predictions)\n",
    "\n",
    "# Optymizator Adam\n",
    "opt = tf.keras.optimizers.Adam()\n",
    "\n",
    "# Minimalizacja funkcji kosztów (za pomocą optymalizatora)\n",
    "for j in range(1000):\n",
    "  opt.minimize(lambda: loss_function(___), var_list=[___])\n",
    "  \n",
    "  # Wyświetlanie parametrów oraz wartości funkcji kosztów dla nich w co \n",
    "  # 10-tym kroku\n",
    "  if j%10 == 0:\n",
    "    loss = loss_function(params)\n",
    "    print(loss.numpy())\n",
    "    print(params)"
   ]
  },
  {
   "cell_type": "code",
   "execution_count": null,
   "metadata": {
    "id": "eE6gRhD2_o71"
   },
   "outputs": [],
   "source": [
    "# Wyświetl dane i model\n",
    "\n",
    "# Wykres 3d\n",
    "fig = plt.figure()\n",
    "ax = plt.axes(projection='3d')\n",
    "\n",
    "x_dots = size_log\n",
    "y_dots = bedrooms\n",
    "z_dots = price_log\n",
    "\n",
    "# zbiór punktów\n",
    "ax.scatter3D(x_dots, y_dots, z_dots, color='black');\n",
    "\n",
    "x_min = np.min(x_dots)\n",
    "x_max = np.max(x_dots)\n",
    "\n",
    "y_min = np.min(y_dots)\n",
    "y_max = np.max(y_dots)\n",
    "\n",
    "x = np.linspace(x_min, x_max, 100)\n",
    "y = np.linspace(y_min, y_max, 100)\n",
    "z = params[0] + params[1] * x + params[2] * y\n",
    "\n",
    "# model\n",
    "ax.plot3D(x, y, z, color='red')\n",
    "\n",
    "# etykiety osi\n",
    "ax.set_xlabel('log(size)')\n",
    "ax.set_ylabel('bedrooms')\n",
    "ax.set_zlabel('log(price)')\n",
    "\n",
    "plt.show()"
   ]
  }
 ],
 "metadata": {
  "accelerator": "GPU",
  "colab": {
   "collapsed_sections": [],
   "name": "tf2.0 - regresja liniowa.ipynb",
   "provenance": []
  },
  "kernelspec": {
   "display_name": "Python 3 (ipykernel)",
   "language": "python",
   "name": "python3"
  },
  "language_info": {
   "codemirror_mode": {
    "name": "ipython",
    "version": 3
   },
   "file_extension": ".py",
   "mimetype": "text/x-python",
   "name": "python",
   "nbconvert_exporter": "python",
   "pygments_lexer": "ipython3",
   "version": "3.11.1"
  }
 },
 "nbformat": 4,
 "nbformat_minor": 1
}
